{
  "cells": [
    {
      "cell_type": "markdown",
      "metadata": {
        "id": "view-in-github",
        "colab_type": "text"
      },
      "source": [
        "<a href=\"https://colab.research.google.com/github/luiscunhacsc/finance_python/blob/main/16_Regression_Analysis_Finance.ipynb\" target=\"_parent\"><img src=\"https://colab.research.google.com/assets/colab-badge.svg\" alt=\"Open In Colab\"/></a>"
      ]
    },
    {
      "cell_type": "markdown",
      "metadata": {
        "id": "ngKc7KfX8Ij-"
      },
      "source": [
        "# Introduction to Regression Analysis in Finance\n",
        "\n",
        "**Definition:** Statistical method to examine the relationship between dependent and independent variables.\n",
        "\n",
        "**Purpose:** Predict future values, understand relationships, and identify trends.\n",
        "\n",
        "**Applications:** Risk assessment, portfolio management, and financial forecasting.\n"
      ]
    },
    {
      "cell_type": "markdown",
      "metadata": {
        "id": "QPykV9vm8Ij_"
      },
      "source": [
        "# Types of Regression Analysis\n",
        "\n",
        "**Simple Linear Regression:** Examines the relationship between two variables.\n",
        "\n",
        "**Multiple Linear Regression:** Examines the relationship between one dependent variable and multiple independent variables.\n",
        "\n",
        "**Logistic Regression:** Used for binary outcomes, such as predicting the probability of an event occurring.\n"
      ]
    },
    {
      "cell_type": "markdown",
      "metadata": {
        "id": "rbHBFX4k8IkA"
      },
      "source": [
        "# Simple Linear Regression\n",
        "\n",
        "**Model:** $y = \\beta_0 + \\beta_1 x + \\epsilon$\n",
        "\n",
        "**Components:**\n",
        "\n",
        "- $y$: Dependent variable\n",
        "- $x$: Independent variable\n",
        "- $\\beta_0$: Intercept\n",
        "- $\\beta_1$: Slope\n",
        "- $\\epsilon$: Error term\n",
        "\n",
        "**Objective:** Determine the best-fit line that minimizes the sum of squared errors.\n"
      ]
    },
    {
      "cell_type": "code",
      "execution_count": null,
      "metadata": {
        "id": "9Vo68Ozs8IkA",
        "outputId": "802cd6ce-9851-4ac4-81a7-88afa838fcd0"
      },
      "outputs": [
        {
          "name": "stdout",
          "output_type": "stream",
          "text": [
            "                            OLS Regression Results                            \n",
            "==============================================================================\n",
            "Dep. Variable:          Stock Returns   R-squared:                       0.935\n",
            "Model:                            OLS   Adj. R-squared:                  0.934\n",
            "Method:                 Least Squares   F-statistic:                     1406.\n",
            "Date:                Sun, 18 Aug 2024   Prob (F-statistic):           6.28e-60\n",
            "Time:                        13:58:50   Log-Likelihood:                 246.53\n",
            "No. Observations:                 100   AIC:                            -489.1\n",
            "Df Residuals:                      98   BIC:                            -483.8\n",
            "Df Model:                           1                                         \n",
            "Covariance Type:            nonrobust                                         \n",
            "==================================================================================\n",
            "                     coef    std err          t      P>|t|      [0.025      0.975]\n",
            "----------------------------------------------------------------------------------\n",
            "const              0.0210      0.002      9.810      0.000       0.017       0.025\n",
            "Market Returns     1.5459      0.041     37.503      0.000       1.464       1.628\n",
            "==============================================================================\n",
            "Omnibus:                        5.184   Durbin-Watson:                   1.995\n",
            "Prob(Omnibus):                  0.075   Jarque-Bera (JB):                3.000\n",
            "Skew:                           0.210   Prob(JB):                        0.223\n",
            "Kurtosis:                       2.262   Cond. No.                         19.8\n",
            "==============================================================================\n",
            "\n",
            "Notes:\n",
            "[1] Standard Errors assume that the covariance matrix of the errors is correctly specified.\n"
          ]
        },
        {
          "data": {
            "image/png": "[encoded data removed]",
            "text/plain": [
              "<Figure size 720x360 with 1 Axes>"
            ]
          },
          "metadata": {
            "needs_background": "light"
          },
          "output_type": "display_data"
        }
      ],
      "source": [
        "import numpy as np\n",
        "import pandas as pd\n",
        "import matplotlib.pyplot as plt\n",
        "import statsmodels.api as sm\n",
        "\n",
        "# Example data\n",
        "np.random.seed(0)\n",
        "market_returns = np.random.normal(0.01, 0.05, 100)\n",
        "stock_returns = 0.02 + 1.5 * market_returns + np.random.normal(0, 0.02, 100)\n",
        "\n",
        "# Create DataFrame\n",
        "data = pd.DataFrame({'Market Returns': market_returns, 'Stock Returns': stock_returns})\n",
        "\n",
        "# Add constant for intercept\n",
        "X = sm.add_constant(data['Market Returns'])\n",
        "Y = data['Stock Returns']\n",
        "\n",
        "# Perform regression analysis\n",
        "model = sm.OLS(Y, X).fit()\n",
        "predictions = model.predict(X)\n",
        "\n",
        "# Print regression summary\n",
        "print(model.summary())\n",
        "\n",
        "# Plot the regression line\n",
        "plt.figure(figsize=(10, 5))\n",
        "plt.scatter(data['Market Returns'], data['Stock Returns'], label='Data Points')\n",
        "plt.plot(data['Market Returns'], predictions, color='red', label='Regression Line')\n",
        "plt.xlabel('Market Returns')\n",
        "plt.ylabel('Stock Returns')\n",
        "plt.title('Simple Linear Regression')\n",
        "plt.legend()\n",
        "plt.grid(True)\n",
        "plt.show()\n"
      ]
    },
    {
      "cell_type": "markdown",
      "metadata": {
        "id": "TrP32-Wq8IkB"
      },
      "source": [
        "### Explanation of the Regression Results\n",
        "\n",
        "The output provided shows the results of an Ordinary Least Squares (OLS) regression analysis conducted on the relationship between stock returns (dependent variable) and market returns (independent variable).\n",
        "\n",
        "#### Key Components of the Output:\n",
        "\n",
        "1. **Dep. Variable**: The dependent variable, `Stock Returns`, is the outcome you're trying to predict.\n",
        "\n",
        "2. **R-squared**:\n",
        "   - Value: `0.935`\n",
        "   - **Interpretation**: R-squared is the proportion of variance in the dependent variable that is predictable from the independent variable(s). An R-squared of 0.935 means that 93.5% of the variance in stock returns can be explained by the market returns.\n",
        "\n",
        "3. **Adj. R-squared**:\n",
        "   - Value: `0.934`\n",
        "   - **Interpretation**: The adjusted R-squared accounts for the number of predictors in the model. It's slightly lower than the R-squared because it penalizes the model for including additional predictors that don't improve the model substantially. In this case, the adjusted R-squared is very close to the R-squared, indicating that the model is well-fitted without unnecessary predictors.\n",
        "\n",
        "4. **F-statistic**:\n",
        "   - Value: `1406.`\n",
        "   - **Interpretation**: The F-statistic tests whether at least one of the predictors is significantly related to the dependent variable. A very high F-statistic (1406) and a very low p-value (6.28e-60) indicate that the model is statistically significant.\n",
        "\n",
        "5. **Prob (F-statistic)**:\n",
        "   - Value: `6.28e-60`\n",
        "   - **Interpretation**: This is the p-value corresponding to the F-statistic. It is essentially zero, indicating that the model as a whole is statistically significant.\n",
        "\n",
        "6. **Coefficients**:\n",
        "   - `const`: The intercept of the regression line.\n",
        "     - Value: `0.0210`\n",
        "     - **Interpretation**: When `Market Returns` is 0, `Stock Returns` are expected to be 0.0210, which can be considered as the base return not explained by market movements.\n",
        "   - `Market Returns`: The slope of the regression line.\n",
        "     - Value: `1.5459`\n",
        "     - **Interpretation**: For every 1 unit increase in `Market Returns`, `Stock Returns` increase by approximately 1.5459 units. This coefficient is highly significant as indicated by the p-value of 0.000.\n",
        "\n",
        "7. **Standard Errors (std err)**:\n",
        "   - These values (0.002 for the constant and 0.041 for `Market Returns`) indicate the average distance that the observed values fall from the regression line. Lower standard errors suggest more precise estimates.\n",
        "\n",
        "8. **t-statistic (t)**:\n",
        "   - `const`: 9.810\n",
        "   - `Market Returns`: 37.503\n",
        "   - **Interpretation**: These values test whether the respective coefficients are significantly different from zero. Both t-values are high, and their corresponding p-values are essentially zero, indicating that both coefficients are statistically significant.\n",
        "\n",
        "9. **P>|t|**:\n",
        "   - This represents the p-value for each coefficient. Both are essentially zero, indicating that both the intercept and the market returns coefficient are statistically significant.\n",
        "\n",
        "10. **Confidence Intervals [0.025, 0.975]**:\n",
        "    - These intervals show the range in which the true population parameter lies with 95% confidence. For `Market Returns`, we can be 95% confident that the true coefficient lies between 1.464 and 1.628.\n",
        "\n",
        "11. **Other Diagnostics**:\n",
        "    - **Omnibus**: Test for the skewness and kurtosis of the residuals (null hypothesis: normally distributed).\n",
        "    - **Prob(Omnibus)**: p-value for the Omnibus test. A higher value here would indicate no evidence to reject the null hypothesis of normality.\n",
        "    - **Durbin-Watson**: Test for autocorrelation in the residuals. A value close to 2 suggests no autocorrelation.\n",
        "    - **Jarque-Bera (JB)**: Another test for normality.\n",
        "    - **Skew**: Measures the asymmetry of the distribution of residuals.\n",
        "    - **Kurtosis**: Measures the \"tailedness\" of the distribution of residuals.\n",
        "    - **Cond. No.**: Indicates multicollinearity. A value much larger than 30 suggests multicollinearity might be a concern.\n",
        "\n",
        "#### Plot Interpretation:\n",
        "The scatter plot with the regression line shows a clear linear relationship between market returns and stock returns. The red regression line is well-fitted through the data points, confirming that the model captures the relationship effectively.\n",
        "\n",
        "### Summary:\n",
        "- The regression model is highly significant, explaining about 93.5% of the variance in stock returns using market returns.\n",
        "- The coefficient for market returns is significantly positive, meaning market returns have a strong positive impact on stock returns.\n",
        "- Diagnostic tests show no major issues with the residuals, indicating that the model is appropriate for this data.\n"
      ]
    },
    {
      "cell_type": "markdown",
      "metadata": {
        "id": "VsD9yh3F8IkC"
      },
      "source": [
        "# Multiple Linear Regression\n",
        "\n",
        "**Model:** $y = \\beta_0 + \\beta_1 x_1 + \\beta_2 x_2 + \\cdots + \\beta_n x_n + \\epsilon$\n",
        "\n",
        "**Components:**\n",
        "\n",
        "- $y$: Dependent variable\n",
        "- $x_1, x_2, \\dots, x_n$: Independent variables\n",
        "- $\\beta_0, \\beta_1, \\dots, \\beta_n$: Coefficients\n",
        "- $\\epsilon$: Error term\n",
        "\n",
        "**Objective:** Determine the best-fit plane that minimizes the sum of squared errors.\n",
        "\n"
      ]
    },
    {
      "cell_type": "code",
      "execution_count": null,
      "metadata": {
        "id": "QVgNuSXb8IkC",
        "outputId": "96779a9c-7f65-4084-b4e1-3aa25036e797"
      },
      "outputs": [
        {
          "name": "stdout",
          "output_type": "stream",
          "text": [
            "                            OLS Regression Results                            \n",
            "==============================================================================\n",
            "Dep. Variable:                      y   R-squared:                       0.947\n",
            "Model:                            OLS   Adj. R-squared:                  0.946\n",
            "Method:                 Least Squares   F-statistic:                     575.1\n",
            "Date:                Sun, 18 Aug 2024   Prob (F-statistic):           3.44e-61\n",
            "Time:                        14:01:53   Log-Likelihood:                 258.00\n",
            "No. Observations:                 100   AIC:                            -508.0\n",
            "Df Residuals:                      96   BIC:                            -497.6\n",
            "Df Model:                           3                                         \n",
            "Covariance Type:            nonrobust                                         \n",
            "==================================================================================\n",
            "                     coef    std err          t      P>|t|      [0.025      0.975]\n",
            "----------------------------------------------------------------------------------\n",
            "const              0.0099      0.005      1.995      0.049    4.76e-05       0.020\n",
            "Market Returns     1.4711      0.037     39.271      0.000       1.397       1.545\n",
            "Size Factor        0.9415      0.182      5.167      0.000       0.580       1.303\n",
            "Value Factor       0.6251      0.099      6.335      0.000       0.429       0.821\n",
            "==============================================================================\n",
            "Omnibus:                        0.370   Durbin-Watson:                   2.076\n",
            "Prob(Omnibus):                  0.831   Jarque-Bera (JB):                0.537\n",
            "Skew:                           0.070   Prob(JB):                        0.765\n",
            "Kurtosis:                       2.670   Cond. No.                         97.5\n",
            "==============================================================================\n",
            "\n",
            "Notes:\n",
            "[1] Standard Errors assume that the covariance matrix of the errors is correctly specified.\n"
          ]
        },
        {
          "data": {
            "image/png": "[encoded data removed]",
            "text/plain": [
              "<Figure size 720x360 with 1 Axes>"
            ]
          },
          "metadata": {
            "needs_background": "light"
          },
          "output_type": "display_data"
        }
      ],
      "source": [
        "import numpy as np\n",
        "import pandas as pd\n",
        "import matplotlib.pyplot as plt\n",
        "import statsmodels.api as sm\n",
        "\n",
        "# Example data\n",
        "np.random.seed(0)\n",
        "market_returns = np.random.normal(0.01, 0.05, 100)\n",
        "size_factor = np.random.normal(0.02, 0.01, 100)\n",
        "value_factor = np.random.normal(0.03, 0.02, 100)\n",
        "stock_returns = 0.02 + 1.5 * market_returns + 0.8 * size_factor + 0.5 * value_factor + np.random.normal(0, 0.02, 100)\n",
        "\n",
        "# Create DataFrame\n",
        "data = pd.DataFrame({\n",
        "    'Market Returns': market_returns,\n",
        "    'Size Factor': size_factor,\n",
        "    'Value Factor': value_factor\n",
        "})\n",
        "\n",
        "# Add constant for intercept\n",
        "X = sm.add_constant(data)\n",
        "Y = stock_returns\n",
        "\n",
        "# Perform regression analysis\n",
        "model = sm.OLS(Y, X).fit()\n",
        "predictions = model.predict(X)\n",
        "\n",
        "# Print the regression summary\n",
        "print(model.summary())\n",
        "\n",
        "# Plot the regression line\n",
        "plt.figure(figsize=(10, 5))\n",
        "plt.scatter(data['Market Returns'], stock_returns, label='Data Points')\n",
        "\n",
        "# Plot the regression line with sorted x-values for clarity\n",
        "plt.plot(np.sort(data['Market Returns']), np.sort(predictions), color='red', label='Regression Line')\n",
        "\n",
        "plt.xlabel('Market Returns')\n",
        "plt.ylabel('Stock Returns')\n",
        "plt.title('Multiple Linear Regression (2D Projection)')\n",
        "plt.legend()\n",
        "plt.grid(True)\n",
        "plt.show()\n"
      ]
    },
    {
      "cell_type": "markdown",
      "metadata": {
        "id": "XA58jO5z8IkC"
      },
      "source": [
        "### Explanation of the Multiple Linear Regression Results\n",
        "\n",
        "The output provided shows the results of an Ordinary Least Squares (OLS) regression analysis conducted on the relationship between stock returns (dependent variable) and multiple independent variables (market returns, size factor, and value factor).\n",
        "\n",
        "#### Key Components of the Output:\n",
        "\n",
        "1. **Dep. Variable**: The dependent variable, `y`, represents stock returns, which is the outcome you're trying to predict.\n",
        "\n",
        "2. **R-squared**:\n",
        "   - Value: `0.947`\n",
        "   - **Interpretation**: R-squared is the proportion of variance in the dependent variable that is predictable from the independent variables. An R-squared of 0.947 means that 94.7% of the variance in stock returns can be explained by the market returns, size factor, and value factor.\n",
        "\n",
        "3. **Adj. R-squared**:\n",
        "   - Value: `0.946`\n",
        "   - **Interpretation**: The adjusted R-squared accounts for the number of predictors in the model. It’s slightly lower than the R-squared, indicating a well-fitted model without unnecessary predictors.\n",
        "\n",
        "4. **F-statistic**:\n",
        "   - Value: `575.1`\n",
        "   - **Interpretation**: The F-statistic tests whether at least one of the predictors is significantly related to the dependent variable. A very high F-statistic (575.1) and a very low p-value (3.44e-61) indicate that the model is statistically significant.\n",
        "\n",
        "5. **Prob (F-statistic)**:\n",
        "   - Value: `3.44e-61`\n",
        "   - **Interpretation**: This is the p-value corresponding to the F-statistic. It is essentially zero, indicating that the model as a whole is statistically significant.\n",
        "\n",
        "6. **Coefficients**:\n",
        "   - `const`: The intercept of the regression line.\n",
        "     - Value: `0.0099`\n",
        "     - **Interpretation**: When all independent variables are 0, the expected stock returns are 0.0099.\n",
        "   - `Market Returns`:\n",
        "     - Value: `1.4711`\n",
        "     - **Interpretation**: For every 1 unit increase in market returns, stock returns increase by approximately 1.4711 units, holding all other variables constant.\n",
        "   - `Size Factor`:\n",
        "     - Value: `0.9415`\n",
        "     - **Interpretation**: For every 1 unit increase in the size factor, stock returns increase by approximately 0.9415 units, holding all other variables constant.\n",
        "   - `Value Factor`:\n",
        "     - Value: `0.6251`\n",
        "     - **Interpretation**: For every 1 unit increase in the value factor, stock returns increase by approximately 0.6251 units, holding all other variables constant.\n",
        "\n",
        "7. **Standard Errors (std err)**:\n",
        "   - These values indicate the average distance that the observed values fall from the regression line. Lower standard errors suggest more precise estimates.\n",
        "   - For example, the standard error for `Market Returns` is `0.037`, indicating a relatively precise estimate of the coefficient.\n",
        "\n",
        "8. **t-statistic (t)**:\n",
        "   - The t-statistic tests whether the respective coefficients are significantly different from zero.\n",
        "   - All t-values are large (e.g., `Market Returns: 39.271`), indicating that the coefficients are statistically significant.\n",
        "\n",
        "9. **P>|t|**:\n",
        "   - This represents the p-value for each coefficient. All p-values are essentially zero, indicating that all coefficients are statistically significant.\n",
        "\n",
        "10. **Confidence Intervals [0.025, 0.975]**:\n",
        "    - These intervals show the range in which the true population parameter lies with 95% confidence. For example, we can be 95% confident that the true coefficient for `Market Returns` lies between 1.397 and 1.545.\n",
        "\n",
        "11. **Other Diagnostics**:\n",
        "    - **Omnibus**: Test for the skewness and kurtosis of the residuals (null hypothesis: normally distributed).\n",
        "    - **Prob(Omnibus)**: p-value for the Omnibus test. A higher value here would indicate no evidence to reject the null hypothesis of normality.\n",
        "    - **Durbin-Watson**: Test for autocorrelation in the residuals. A value close to 2 suggests no autocorrelation.\n",
        "    - **Jarque-Bera (JB)**: Another test for normality.\n",
        "    - **Skew**: Measures the asymmetry of the distribution of residuals.\n",
        "    - **Kurtosis**: Measures the \"tailedness\" of the distribution of residuals.\n",
        "    - **Cond. No.**: Indicates multicollinearity. A value much larger than 30 suggests multicollinearity might be a concern.\n",
        "\n",
        "#### Plot Interpretation:\n",
        "The scatter plot with the regression line shows the relationship between market returns and stock returns, accounting for the size and value factors. The red regression line fits the data points well, indicating a strong linear relationship modeled by the regression equation.\n",
        "\n",
        "### Summary:\n",
        "- The regression model is highly significant, explaining about 94.7% of the variance in stock returns using market returns, size factor, and value factor.\n",
        "- The coefficients for all variables are statistically significant, meaning each factor has a significant impact on stock returns.\n",
        "- Diagnostic tests show no major issues with the residuals, indicating that the model is appropriate for this data.\n"
      ]
    },
    {
      "cell_type": "markdown",
      "metadata": {
        "id": "JOmsh_bC8IkD"
      },
      "source": [
        "# Logistic Regression\n",
        "\n",
        "**Model:** Estimates the probability of a binary outcome.\n",
        "\n",
        "**Formula:**\n",
        "\n",
        "$$\\text{logit}(p) = \\ln\\left(\\frac{p}{1-p}\\right) = \\beta_0 + \\beta_1 x_1 + \\beta_2 x_2 + \\cdots + \\beta_n x_n$$\n",
        "\n",
        "**Applications:** Predicting default probability, market movement direction, and binary classification tasks.\n"
      ]
    },
    {
      "cell_type": "code",
      "execution_count": null,
      "metadata": {
        "id": "MQtITFJW8IkD",
        "outputId": "3ff4777b-9f0f-4f9b-babe-a282ec3b7809"
      },
      "outputs": [
        {
          "name": "stdout",
          "output_type": "stream",
          "text": [
            "Optimization terminated successfully.\n",
            "         Current function value: 0.203598\n",
            "         Iterations 9\n",
            "                           Logit Regression Results                           \n",
            "==============================================================================\n",
            "Dep. Variable:         Price Movement   No. Observations:                  100\n",
            "Model:                          Logit   Df Residuals:                       96\n",
            "Method:                           MLE   Df Model:                            3\n",
            "Date:                Sun, 18 Aug 2024   Pseudo R-squ.:                  0.7032\n",
            "Time:                        14:09:26   Log-Likelihood:                -20.360\n",
            "converged:                       True   LL-Null:                       -68.593\n",
            "Covariance Type:            nonrobust   LLR p-value:                 8.937e-21\n",
            "==================================================================================\n",
            "                     coef    std err          z      P>|z|      [0.025      0.975]\n",
            "----------------------------------------------------------------------------------\n",
            "const             -4.9974      1.585     -3.153      0.002      -8.104      -1.891\n",
            "Market Returns    91.4090     21.198      4.312      0.000      49.862     132.956\n",
            "Size Factor       69.7637     38.197      1.826      0.068      -5.101     144.628\n",
            "Value Factor     116.9778     38.577      3.032      0.002      41.368     192.587\n",
            "==================================================================================\n",
            "\n",
            "Possibly complete quasi-separation: A fraction 0.11 of observations can be\n",
            "perfectly predicted. This might indicate that there is complete\n",
            "quasi-separation. In this case some parameters will not be identified.\n",
            "Model Coefficients: [[2.24872550e-05 1.66258350e+00 1.17040624e-01 3.37906039e-01]]\n"
          ]
        },
        {
          "data": {
            "image/png": "[encoded data removed]",
            "text/plain": [
              "<Figure size 720x360 with 1 Axes>"
            ]
          },
          "metadata": {
            "needs_background": "light"
          },
          "output_type": "display_data"
        }
      ],
      "source": [
        "import numpy as np\n",
        "import pandas as pd\n",
        "import matplotlib.pyplot as plt\n",
        "import statsmodels.api as sm\n",
        "from sklearn.linear_model import LogisticRegression\n",
        "\n",
        "# Example data\n",
        "np.random.seed(0)\n",
        "market_returns = np.random.normal(0.01, 0.05, 100)\n",
        "size_factor = np.random.normal(0.02, 0.01, 100)\n",
        "value_factor = np.random.normal(0.03, 0.02, 100)\n",
        "price_movement = (market_returns + size_factor + value_factor + np.random.normal(0, 0.02, 100)) > 0.05\n",
        "\n",
        "# Create DataFrame\n",
        "data = pd.DataFrame({\n",
        "    'Market Returns': market_returns,\n",
        "    'Size Factor': size_factor,\n",
        "    'Value Factor': value_factor,\n",
        "    'Price Movement': price_movement\n",
        "})\n",
        "\n",
        "# Define independent variables and target variable\n",
        "X = data[['Market Returns', 'Size Factor', 'Value Factor']]\n",
        "Y = data['Price Movement']\n",
        "\n",
        "# Add a constant (intercept) to the independent variables\n",
        "X = sm.add_constant(X)\n",
        "\n",
        "# Perform logistic regression using statsmodels for summary\n",
        "logit_model = sm.Logit(Y, X)\n",
        "result = logit_model.fit()\n",
        "\n",
        "# Print model summary\n",
        "print(result.summary())\n",
        "\n",
        "# Alternatively, fit using sklearn and then print coefficients\n",
        "sklearn_model = LogisticRegression()\n",
        "sklearn_model.fit(X, Y)\n",
        "predictions = sklearn_model.predict_proba(X)[:, 1]\n",
        "\n",
        "print(f\"Model Coefficients: {sklearn_model.coef_}\")\n",
        "\n",
        "# Visualization\n",
        "plt.figure(figsize=(10, 5))\n",
        "plt.scatter(data['Market Returns'], predictions, label='Predicted Probability')\n",
        "plt.xlabel('Market Returns')\n",
        "plt.ylabel('Probability')\n",
        "plt.title('Logistic Regression')\n",
        "plt.legend()\n",
        "plt.grid(True)\n",
        "plt.show()\n",
        "\n"
      ]
    },
    {
      "cell_type": "markdown",
      "metadata": {
        "id": "VKmPovMM8IkE"
      },
      "source": [
        "### Interpretation of Logistic Regression Results\n",
        "\n",
        "#### Summary Table\n",
        "- **Dependent Variable:** Price Movement (Binary Outcome: 1 if the price moved up, 0 otherwise)\n",
        "- **No. Observations:** 100\n",
        "- **Model:** Logit\n",
        "- **Method:** Maximum Likelihood Estimation (MLE)\n",
        "- **Pseudo R-squared:** 0.7032\n",
        "- **Log-Likelihood:** -20.360\n",
        "- **Converged:** True\n",
        "- **LL-Null:** -68.593\n",
        "- **LLR p-value:** 8.937e-21\n",
        "\n",
        "#### Coefficients\n",
        "- **Intercept (const):** -4.9974 (p-value: 0.002)\n",
        "  - The intercept indicates the log-odds of the price movement when all other predictors are zero. It is statistically significant, suggesting it plays a role in predicting the outcome.\n",
        "  \n",
        "- **Market Returns:** 91.4090 (p-value: 0.000)\n",
        "  - This coefficient is highly significant, indicating a strong positive relationship between market returns and the probability of a price movement.\n",
        "  \n",
        "- **Size Factor:** 69.7637 (p-value: 0.068)\n",
        "  - The size factor is less significant (p-value slightly above 0.05), suggesting that while it might affect the probability of price movement, its influence is weaker compared to other factors.\n",
        "  \n",
        "- **Value Factor:** 116.9778 (p-value: 0.002)\n",
        "  - This factor is statistically significant and has a strong positive effect on the probability of a price movement.\n",
        "\n",
        "#### Warnings and Notes\n",
        "- **Quasi-Separation Warning:**\n",
        "  - The model indicates a possible issue with \"quasi-separation.\" This means that a subset of the observations can be perfectly predicted by the model, which might cause issues in estimating the coefficients. This often happens in logistic regression when the predictors are too good at separating the outcomes. It suggests that the model is likely overfitting some of the data points.\n",
        "  \n",
        "#### Visualization\n",
        "- The scatter plot shows the predicted probabilities against market returns. The nearly linear relationship suggests that as market returns increase, so does the probability of a price movement, consistent with the high coefficient of market returns in the regression model.\n",
        "\n",
        "### Conclusion\n",
        "- The logistic regression model suggests that **Market Returns** and **Value Factor** are strong predictors of price movement, with statistically significant coefficients.\n",
        "- **Size Factor** is borderline significant, indicating it may have some influence, but less so than the other predictors.\n",
        "- The presence of quasi-separation suggests caution in interpreting these results, as the model might be overfitting. Further diagnostics or a simpler model may be necessary to ensure robustness.\n",
        "\n",
        "This analysis provides insights into the factors driving price movements, with market returns being the most influential among the factors considered.\n"
      ]
    }
  ],
  "metadata": {
    "kernelspec": {
      "display_name": "Python 3",
      "language": "python",
      "name": "python3"
    },
    "language_info": {
      "codemirror_mode": {
        "name": "ipython",
        "version": 3
      },
      "file_extension": ".py",
      "mimetype": "text/x-python",
      "name": "python",
      "nbconvert_exporter": "python",
      "pygments_lexer": "ipython3",
      "version": "3.10.1"
    },
    "colab": {
      "provenance": [],
      "include_colab_link": true
    }
  },
  "nbformat": 4,
  "nbformat_minor": 0
}