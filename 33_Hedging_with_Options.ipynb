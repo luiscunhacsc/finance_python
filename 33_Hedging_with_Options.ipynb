{
 "cells": [
  {
   "cell_type": "markdown",
   "metadata": {},
   "source": [
    "# Introduction to Risk Management with Derivatives\n",
    "\n",
    "**Definition:** Derivatives are financial instruments used to manage and hedge various types of risk.\n",
    "\n",
    "**Purpose:** Protect portfolios from adverse price movements, interest rate changes, and other risks.\n",
    "\n",
    "**Importance:** Essential for maintaining portfolio stability and achieving financial goals.\n"
   ]
  },
  {
   "cell_type": "markdown",
   "metadata": {},
   "source": [
    "# Types of Derivatives for Risk Management\n",
    "\n",
    "**Options:** Contracts that give the right, but not the obligation, to buy or sell an asset at a predetermined price.\n",
    "\n",
    "**Futures:** Contracts obligating the buyer to purchase, or the seller to sell, an asset at a predetermined future date and price.\n",
    "\n",
    "**Forwards:** Similar to futures but customized and traded over-the-counter.\n",
    "\n",
    "**Swaps:** Contracts to exchange cash flows or other financial instruments between two parties.\n"
   ]
  },
  {
   "cell_type": "markdown",
   "metadata": {},
   "source": [
    "# Hedging with Options\n",
    "\n",
    "**Protective Put:** Buying a put option to protect against a decline in the value of an asset.\n",
    "\n",
    "**Covered Call:** Selling a call option while holding the underlying asset to generate income.\n",
    "\n",
    "**Benefits:** Provides downside protection while allowing for upside potential.\n"
   ]
  },
  {
   "cell_type": "markdown",
   "metadata": {},
   "source": [
    "# Practical Example\n",
    "\n",
    "**Scenario:** Protect the value of a stock investment using a put option.\n",
    "\n",
    "**Steps:**\n",
    "\n",
    "1. Identify the stock and its current price.\n",
    "2. Select a put option with an appropriate strike price and expiration date.\n",
    "3. Calculate the cost and potential outcomes of the strategy.\n"
   ]
  },
  {
   "cell_type": "code",
   "execution_count": 4,
   "metadata": {},
   "outputs": [
    {
     "name": "stdout",
     "output_type": "stream",
     "text": [
      "Loss without Protective Put: $5.00\n",
      "Loss with Protective Put: $8.00\n"
     ]
    }
   ],
   "source": [
    "# Example data\n",
    "stock_price = 100  # Current stock price\n",
    "strike_price = 95  # Strike price of the put option\n",
    "premium = 3        # Premium paid for the put option\n",
    "\n",
    "# Calculate potential outcomes\n",
    "loss_without_put = stock_price - strike_price  # Loss if the stock price drops to the strike price\n",
    "loss_with_put = loss_without_put + premium     # Loss including the cost of the put option\n",
    "\n",
    "print(f\"Loss without Protective Put: ${loss_without_put:.2f}\")\n",
    "print(f\"Loss with Protective Put: ${loss_with_put:.2f}\")\n"
   ]
  },
  {
   "cell_type": "markdown",
   "metadata": {},
   "source": [
    "# Explanation of Results\n",
    "\n",
    "In this practical example, we calculated the potential losses with and without a protective put option. The \"Loss without Protective Put\" shows the loss you would incur if the stock price drops to the strike price without any form of protection. \n",
    "\n",
    "In this case, the loss is $5.00, which is the difference between the current stock price ($100) and the strike price ($95). \n",
    "\n",
    "The \"Loss with Protective Put\" includes the premium paid for the put option. Here, the loss is $8.00, which adds the $3.00 premium to the $5.00 loss, showing the total cost of having the protective put in place.\n",
    "\n",
    "This result is expected and demonstrates the trade-off when using a protective put: you reduce the downside risk but incur an additional cost in the form of the option premium. This cost is the price of the \"insurance\" against larger potential losses, and it's a strategic decision in risk management to protect against significant declines in the value of an asset.\n"
   ]
  },
  {
   "cell_type": "markdown",
   "metadata": {},
   "source": [
    "# Practical Example: Worthwhile Option Scenario\n",
    "\n",
    "## Scenario\n",
    "Consider a scenario where you want to protect the value of your stock investment using a put option. We will calculate the potential losses with and without a protective put to see if the option actually reduces your loss.\n",
    "\n",
    "### Steps:\n",
    "1. Identify the stock and its current price.\n",
    "2. Select a put option with an appropriate strike price and expiration date.\n",
    "3. Calculate the cost and potential outcomes of the strategy if the stock price drops below the strike price.\n",
    "\n"
   ]
  },
  {
   "cell_type": "code",
   "execution_count": 5,
   "metadata": {},
   "outputs": [
    {
     "name": "stdout",
     "output_type": "stream",
     "text": [
      "Loss without Protective Put: $20.00\n",
      "Loss with Protective Put: $15.00\n"
     ]
    }
   ],
   "source": [
    "# Example data\n",
    "stock_price = 100   # Current stock price\n",
    "strike_price = 90   # Strike price of the put option\n",
    "premium = 5         # Premium paid for the put option\n",
    "\n",
    "# Calculate potential outcomes assuming the stock price drops significantly\n",
    "new_stock_price = 80  # Stock price after a significant drop\n",
    "\n",
    "# Calculate losses\n",
    "loss_without_put = stock_price - new_stock_price  # Loss without the protective put\n",
    "loss_with_put = (strike_price - new_stock_price) + premium  # Loss with protective put (including the cost of the premium)\n",
    "\n",
    "print(f\"Loss without Protective Put: ${loss_without_put:.2f}\")\n",
    "print(f\"Loss with Protective Put: ${loss_with_put:.2f}\")\n",
    "\n"
   ]
  },
  {
   "cell_type": "markdown",
   "metadata": {},
   "source": [
    "# Explanation of Results\n",
    "\n",
    "In this scenario, the stock price drops significantly from $100 to $80, and the protective put option has a strike price of $90.\n",
    "\n",
    "- **Loss without Protective Put:** The loss without any protection is $20.00, which is the difference between the original stock price ($100) and the new stock price ($80).\n",
    "\n",
    "- **Loss with Protective Put:** With the protective put option, the loss is reduced to $15.00. This loss includes the difference between the strike price ($90) and the new stock price ($80), plus the $5.00 premium paid for the put option.\n",
    "\n",
    "### Worthwhile Consideration:\n",
    "In this case, the protective put was worthwhile because it reduced the loss from $20.00 to $15.00. The protective put option effectively limited the downside risk, providing financial protection and making the strategy beneficial in this situation.\n"
   ]
  }
 ],
 "metadata": {
  "kernelspec": {
   "display_name": "Python 3",
   "language": "python",
   "name": "python3"
  },
  "language_info": {
   "codemirror_mode": {
    "name": "ipython",
    "version": 3
   },
   "file_extension": ".py",
   "mimetype": "text/x-python",
   "name": "python",
   "nbconvert_exporter": "python",
   "pygments_lexer": "ipython3",
   "version": "3.10.1"
  }
 },
 "nbformat": 4,
 "nbformat_minor": 2
}
