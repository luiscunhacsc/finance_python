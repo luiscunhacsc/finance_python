{
  "cells": [
    {
      "cell_type": "markdown",
      "metadata": {
        "id": "view-in-github",
        "colab_type": "text"
      },
      "source": [
        "<a href=\"https://colab.research.google.com/github/luiscunhacsc/finance_python/blob/main/25_Performance_Evaluation_Intro.ipynb\" target=\"_parent\"><img src=\"https://colab.research.google.com/assets/colab-badge.svg\" alt=\"Open In Colab\"/></a>"
      ]
    },
    {
      "cell_type": "markdown",
      "metadata": {
        "id": "K24gk0ML8qUY"
      },
      "source": [
        "### Introduction to Performance Evaluation\n",
        "\n",
        "**Purpose:** Assess how well a portfolio achieves its investment objectives.\n",
        "\n",
        "**Importance:** Essential for making informed investment decisions and improving portfolio management.\n",
        "\n",
        "**Metrics:** Various performance measurement metrics are used to evaluate different aspects of portfolio performance.\n"
      ]
    },
    {
      "cell_type": "markdown",
      "metadata": {
        "id": "YJVUyXfc8qUa"
      },
      "source": [
        "### Performance Measurement Metrics Overview\n",
        "\n",
        "- **Absolute Metrics:** Measure returns without considering risk (e.g., total return, annualized return).\n",
        "- **Risk-Adjusted Metrics:** Evaluate returns in relation to risk (e.g., Sharpe ratio, Treynor ratio, Sortino ratio).\n",
        "- **Relative Metrics:** Compare portfolio performance to benchmarks (e.g., alpha, beta, information ratio).\n",
        "- **Others:** Include additional considerations like maximum drawdown and tracking error.\n"
      ]
    },
    {
      "cell_type": "markdown",
      "metadata": {
        "id": "UZvh4Plg8qUa"
      },
      "source": [
        "### Absolute Performance Metrics\n",
        "\n",
        "**Total Return:** Measures the overall return of a portfolio, including capital gains and income.\n",
        "\n",
        "$$\n",
        "\\text{Total Return} = \\frac{P_{end} - P_{start} + D}{P_{start}}\n",
        "$$\n",
        "\n",
        "**Annualized Return:** Adjusts the total return to reflect a yearly rate.\n",
        "\n",
        "$$\n",
        "\\text{Annualized Return} = \\left(1 + \\text{Total Return}\\right)^{\\frac{1}{n}} - 1\n",
        "$$\n"
      ]
    },
    {
      "cell_type": "markdown",
      "metadata": {
        "id": "LxjRrwX48qUa"
      },
      "source": [
        "### Practical Example\n",
        "\n",
        "**Scenario:** Calculate the total and annualized return for a portfolio.\n",
        "\n",
        "**Steps:**\n",
        "- Define initial and final portfolio values and dividends.\n",
        "- Calculate total return.\n",
        "- Calculate annualized return.\n"
      ]
    },
    {
      "cell_type": "code",
      "execution_count": null,
      "metadata": {
        "id": "wixKcTEM8qUa",
        "outputId": "ec597393-18e4-49d1-e0d8-ec1d4de4a879"
      },
      "outputs": [
        {
          "name": "stdout",
          "output_type": "stream",
          "text": [
            "Total Return: 0.2200\n",
            "Annualized Return: 0.0685\n"
          ]
        }
      ],
      "source": [
        "# Example portfolio values\n",
        "initial_value = 100000\n",
        "final_value = 120000\n",
        "dividends = 2000\n",
        "years = 3\n",
        "\n",
        "# Calculate total return\n",
        "total_return = (final_value - initial_value + dividends) / initial_value\n",
        "print(f\"Total Return: {total_return:.4f}\")\n",
        "\n",
        "# Calculate annualized return\n",
        "annualized_return = (1 + total_return) ** (1 / years) - 1\n",
        "print(f\"Annualized Return: {annualized_return:.4f}\")\n"
      ]
    },
    {
      "cell_type": "markdown",
      "metadata": {
        "id": "3zCX3ulR8qUn"
      },
      "source": [
        "### Risk-Adjusted Performance Metrics\n",
        "\n",
        "- **Sharpe Ratio:** Measures risk-adjusted return using standard deviation.\n",
        "\n",
        "$$\n",
        "\\text{Sharpe Ratio} = \\frac{\\overline{R} - R_f}{\\sigma}\n",
        "$$\n",
        "\n",
        "- **Treynor Ratio:** Measures risk-adjusted return using beta.\n",
        "\n",
        "$$\n",
        "\\text{Treynor Ratio} = \\frac{\\overline{R} - R_f}{\\beta}\n",
        "$$\n",
        "\n",
        "- **Sortino Ratio:** Similar to Sharpe Ratio but focuses on downside risk.\n",
        "\n",
        "$$\n",
        "\\text{Sortino Ratio} = \\frac{\\overline{R} - R_f}{\\sigma_D}\n",
        "$$\n"
      ]
    },
    {
      "cell_type": "markdown",
      "metadata": {
        "id": "PB5Q4pQF8qUo"
      },
      "source": [
        "### Practical Example\n",
        "\n",
        "**Scenario:** Calculate the Sharpe, Treynor, and Sortino ratios for a portfolio.\n",
        "\n",
        "**Steps:**\n",
        "- Define portfolio returns, risk-free rate, and risk measures.\n",
        "- Calculate Sharpe ratio.\n",
        "- Calculate Treynor ratio.\n",
        "- Calculate Sortino ratio.\n"
      ]
    },
    {
      "cell_type": "code",
      "execution_count": null,
      "metadata": {
        "id": "1zKNL3-J8qUq",
        "outputId": "717a47ef-afe9-435a-ba42-3e147b9073df"
      },
      "outputs": [
        {
          "name": "stdout",
          "output_type": "stream",
          "text": [
            "Sharpe Ratio: 1.4000\n",
            "Treynor Ratio: 0.1167\n",
            "Sortino Ratio: 1.7500\n"
          ]
        }
      ],
      "source": [
        "# Example data\n",
        "average_return = 0.15\n",
        "risk_free_rate = 0.01\n",
        "std_dev = 0.10\n",
        "beta = 1.2\n",
        "downside_std_dev = 0.08\n",
        "\n",
        "# Calculate Sharpe ratio\n",
        "sharpe_ratio = (average_return - risk_free_rate) / std_dev\n",
        "print(f\"Sharpe Ratio: {sharpe_ratio:.4f}\")\n",
        "\n",
        "# Calculate Treynor ratio\n",
        "treynor_ratio = (average_return - risk_free_rate) / beta\n",
        "print(f\"Treynor Ratio: {treynor_ratio:.4f}\")\n",
        "\n",
        "# Calculate Sortino ratio\n",
        "sortino_ratio = (average_return - risk_free_rate) / downside_std_dev\n",
        "print(f\"Sortino Ratio: {sortino_ratio:.4f}\")\n"
      ]
    },
    {
      "cell_type": "markdown",
      "metadata": {
        "id": "i1ZrjAdp8qUq"
      },
      "source": [
        "### Performance Evaluation using Real S&P 500 Data\n",
        "\n",
        "In this section, we will calculate the Sharpe, Treynor, and Sortino ratios for the S&P 500 using real historical data from Yahoo Finance. We will examine these metrics over different time windows to observe how performance changes over time.\n"
      ]
    },
    {
      "cell_type": "code",
      "execution_count": null,
      "metadata": {
        "id": "6djW6zHt8qUr",
        "outputId": "9ed4d121-9d27-4984-953c-7dc56b7c4e26"
      },
      "outputs": [
        {
          "name": "stdout",
          "output_type": "stream",
          "text": [
            "Note: you may need to restart the kernel to use updated packages.\n"
          ]
        },
        {
          "name": "stderr",
          "output_type": "stream",
          "text": [
            "WARNING: Ignoring invalid distribution -rotobuf (c:\\python\\lib\\site-packages)\n",
            "WARNING: Ignoring invalid distribution -rotobuf (c:\\python\\lib\\site-packages)\n",
            "\n",
            "[notice] A new release of pip is available: 23.1.2 -> 24.2\n",
            "[notice] To update, run: python.exe -m pip install --upgrade pip\n"
          ]
        }
      ],
      "source": [
        "%pip install -q yfinance"
      ]
    },
    {
      "cell_type": "code",
      "execution_count": null,
      "metadata": {
        "id": "HNNkBUMg8qUs",
        "outputId": "e33e9329-66db-4f38-bf2e-102824af620a"
      },
      "outputs": [
        {
          "name": "stderr",
          "output_type": "stream",
          "text": [
            "[*********************100%%**********************]  1 of 1 completed\n"
          ]
        },
        {
          "data": {
            "text/html": [
              "<div>\n",
              "<style scoped>\n",
              "    .dataframe tbody tr th:only-of-type {\n",
              "        vertical-align: middle;\n",
              "    }\n",
              "\n",
              "    .dataframe tbody tr th {\n",
              "        vertical-align: top;\n",
              "    }\n",
              "\n",
              "    .dataframe thead th {\n",
              "        text-align: right;\n",
              "    }\n",
              "</style>\n",
              "<table border=\"1\" class=\"dataframe\">\n",
              "  <thead>\n",
              "    <tr style=\"text-align: right;\">\n",
              "      <th></th>\n",
              "      <th>Open</th>\n",
              "      <th>High</th>\n",
              "      <th>Low</th>\n",
              "      <th>Close</th>\n",
              "      <th>Adj Close</th>\n",
              "      <th>Volume</th>\n",
              "      <th>Daily Return</th>\n",
              "    </tr>\n",
              "    <tr>\n",
              "      <th>Date</th>\n",
              "      <th></th>\n",
              "      <th></th>\n",
              "      <th></th>\n",
              "      <th></th>\n",
              "      <th></th>\n",
              "      <th></th>\n",
              "      <th></th>\n",
              "    </tr>\n",
              "  </thead>\n",
              "  <tbody>\n",
              "    <tr>\n",
              "      <th>2015-01-02</th>\n",
              "      <td>2058.899902</td>\n",
              "      <td>2072.360107</td>\n",
              "      <td>2046.040039</td>\n",
              "      <td>2058.199951</td>\n",
              "      <td>2058.199951</td>\n",
              "      <td>2708700000</td>\n",
              "      <td>NaN</td>\n",
              "    </tr>\n",
              "    <tr>\n",
              "      <th>2015-01-05</th>\n",
              "      <td>2054.439941</td>\n",
              "      <td>2054.439941</td>\n",
              "      <td>2017.339966</td>\n",
              "      <td>2020.579956</td>\n",
              "      <td>2020.579956</td>\n",
              "      <td>3799120000</td>\n",
              "      <td>-0.018278</td>\n",
              "    </tr>\n",
              "    <tr>\n",
              "      <th>2015-01-06</th>\n",
              "      <td>2022.150024</td>\n",
              "      <td>2030.250000</td>\n",
              "      <td>1992.439941</td>\n",
              "      <td>2002.609985</td>\n",
              "      <td>2002.609985</td>\n",
              "      <td>4460110000</td>\n",
              "      <td>-0.008893</td>\n",
              "    </tr>\n",
              "    <tr>\n",
              "      <th>2015-01-07</th>\n",
              "      <td>2005.550049</td>\n",
              "      <td>2029.609985</td>\n",
              "      <td>2005.550049</td>\n",
              "      <td>2025.900024</td>\n",
              "      <td>2025.900024</td>\n",
              "      <td>3805480000</td>\n",
              "      <td>0.011630</td>\n",
              "    </tr>\n",
              "    <tr>\n",
              "      <th>2015-01-08</th>\n",
              "      <td>2030.609985</td>\n",
              "      <td>2064.080078</td>\n",
              "      <td>2030.609985</td>\n",
              "      <td>2062.139893</td>\n",
              "      <td>2062.139893</td>\n",
              "      <td>3934010000</td>\n",
              "      <td>0.017888</td>\n",
              "    </tr>\n",
              "  </tbody>\n",
              "</table>\n",
              "</div>"
            ],
            "text/plain": [
              "                   Open         High          Low        Close    Adj Close  \\\n",
              "Date                                                                          \n",
              "2015-01-02  2058.899902  2072.360107  2046.040039  2058.199951  2058.199951   \n",
              "2015-01-05  2054.439941  2054.439941  2017.339966  2020.579956  2020.579956   \n",
              "2015-01-06  2022.150024  2030.250000  1992.439941  2002.609985  2002.609985   \n",
              "2015-01-07  2005.550049  2029.609985  2005.550049  2025.900024  2025.900024   \n",
              "2015-01-08  2030.609985  2064.080078  2030.609985  2062.139893  2062.139893   \n",
              "\n",
              "                Volume  Daily Return  \n",
              "Date                                  \n",
              "2015-01-02  2708700000           NaN  \n",
              "2015-01-05  3799120000     -0.018278  \n",
              "2015-01-06  4460110000     -0.008893  \n",
              "2015-01-07  3805480000      0.011630  \n",
              "2015-01-08  3934010000      0.017888  "
            ]
          },
          "execution_count": 27,
          "metadata": {},
          "output_type": "execute_result"
        }
      ],
      "source": [
        "import yfinance as yf\n",
        "import pandas as pd\n",
        "import numpy as np\n",
        "import matplotlib.pyplot as plt\n",
        "\n",
        "# Download S&P 500 historical data\n",
        "sp500 = yf.download('^GSPC', start='2015-01-01', end='2023-01-01')\n",
        "\n",
        "# Calculate daily returns\n",
        "sp500['Daily Return'] = sp500['Adj Close'].pct_change().dropna()\n",
        "\n",
        "# Display the first few rows to ensure the data is correct\n",
        "sp500.head()\n"
      ]
    },
    {
      "cell_type": "markdown",
      "metadata": {
        "id": "KQDSBouY8qUs"
      },
      "source": [
        "### Calculate Risk-Adjusted Performance Metrics\n",
        "\n",
        "We will calculate the Sharpe, Treynor, and Sortino ratios for different time windows:\n",
        "- 1 Year\n",
        "- 3 Years\n",
        "- 5 Years\n",
        "\n",
        "The risk-free rate is assumed to be 1% for simplicity.\n"
      ]
    },
    {
      "cell_type": "code",
      "execution_count": null,
      "metadata": {
        "id": "ryVnix9j8qUs",
        "outputId": "86d8ae87-e888-44e7-8611-6dfc0cd07a3a"
      },
      "outputs": [
        {
          "data": {
            "text/html": [
              "<div>\n",
              "<style scoped>\n",
              "    .dataframe tbody tr th:only-of-type {\n",
              "        vertical-align: middle;\n",
              "    }\n",
              "\n",
              "    .dataframe tbody tr th {\n",
              "        vertical-align: top;\n",
              "    }\n",
              "\n",
              "    .dataframe thead th {\n",
              "        text-align: right;\n",
              "    }\n",
              "</style>\n",
              "<table border=\"1\" class=\"dataframe\">\n",
              "  <thead>\n",
              "    <tr style=\"text-align: right;\">\n",
              "      <th></th>\n",
              "      <th>1 Year</th>\n",
              "      <th>3 Years</th>\n",
              "      <th>5 Years</th>\n",
              "    </tr>\n",
              "  </thead>\n",
              "  <tbody>\n",
              "    <tr>\n",
              "      <th>Sharpe Ratio</th>\n",
              "      <td>-0.818463</td>\n",
              "      <td>0.314681</td>\n",
              "      <td>0.395490</td>\n",
              "    </tr>\n",
              "    <tr>\n",
              "      <th>Treynor Ratio</th>\n",
              "      <td>-0.197851</td>\n",
              "      <td>0.080091</td>\n",
              "      <td>0.086464</td>\n",
              "    </tr>\n",
              "    <tr>\n",
              "      <th>Sortino Ratio</th>\n",
              "      <td>-1.308062</td>\n",
              "      <td>0.390588</td>\n",
              "      <td>0.477916</td>\n",
              "    </tr>\n",
              "  </tbody>\n",
              "</table>\n",
              "</div>"
            ],
            "text/plain": [
              "                 1 Year   3 Years   5 Years\n",
              "Sharpe Ratio  -0.818463  0.314681  0.395490\n",
              "Treynor Ratio -0.197851  0.080091  0.086464\n",
              "Sortino Ratio -1.308062  0.390588  0.477916"
            ]
          },
          "execution_count": 28,
          "metadata": {},
          "output_type": "execute_result"
        }
      ],
      "source": [
        "# Define risk-free rate\n",
        "risk_free_rate = 0.01\n",
        "\n",
        "# Function to calculate the ratios\n",
        "def calculate_ratios(data, beta):\n",
        "    avg_return = data['Daily Return'].mean() * 252  # Annualize the return\n",
        "    std_dev = data['Daily Return'].std() * np.sqrt(252)  # Annualize the volatility\n",
        "    downside_std_dev = data[data['Daily Return'] < 0]['Daily Return'].std() * np.sqrt(252)  # Annualized downside deviation\n",
        "\n",
        "    sharpe_ratio = (avg_return - risk_free_rate) / std_dev\n",
        "    treynor_ratio = (avg_return - risk_free_rate) / beta\n",
        "    sortino_ratio = (avg_return - risk_free_rate) / downside_std_dev\n",
        "\n",
        "    return sharpe_ratio, treynor_ratio, sortino_ratio\n",
        "\n",
        "# Estimate beta of S&P 500 (assuming beta is 1 as it's a market index)\n",
        "beta_sp500 = 1.0\n",
        "\n",
        "# Calculate for different time windows\n",
        "ratios = {}\n",
        "time_windows = {'1 Year': '2022-01-01', '3 Years': '2020-01-01', '5 Years': '2018-01-01'}\n",
        "\n",
        "for period, start_date in time_windows.items():\n",
        "    data_window = sp500[sp500.index >= start_date]\n",
        "    ratios[period] = calculate_ratios(data_window, beta_sp500)\n",
        "\n",
        "# Display the results\n",
        "ratios_df = pd.DataFrame(ratios, index=['Sharpe Ratio', 'Treynor Ratio', 'Sortino Ratio'])\n",
        "ratios_df\n"
      ]
    },
    {
      "cell_type": "markdown",
      "metadata": {
        "id": "d-sCXhxt8qUt"
      },
      "source": [
        "### Analyzing the Results\n",
        "\n",
        "The table below shows the calculated Sharpe, Treynor, and Sortino ratios for the S&P 500 over different time windows. These metrics provide insights into the risk-adjusted performance of the index:\n",
        "\n",
        "- **Sharpe Ratio:** Indicates how much return is generated for each unit of risk.\n",
        "- **Treynor Ratio:** Measures return per unit of systematic risk (beta).\n",
        "- **Sortino Ratio:** Similar to the Sharpe Ratio, but only penalizes downside risk.\n",
        "\n",
        "By comparing these ratios across different time periods, we can assess how the risk-adjusted performance of the S&P 500 has evolved.\n"
      ]
    },
    {
      "cell_type": "code",
      "execution_count": null,
      "metadata": {
        "id": "D121v4P18qUt",
        "outputId": "85beaf3a-5f10-41ef-db5d-9c6cf2185025"
      },
      "outputs": [
        {
          "data": {
            "image/png": "[encoded data removed]",
            "text/plain": [
              "<Figure size 720x432 with 1 Axes>"
            ]
          },
          "metadata": {
            "needs_background": "light"
          },
          "output_type": "display_data"
        }
      ],
      "source": [
        "# Visualizing the ratios\n",
        "ratios_df.T.plot(kind='bar', figsize=(10, 6))\n",
        "plt.title('Risk-Adjusted Performance Metrics for S&P 500')\n",
        "plt.ylabel('Ratio')\n",
        "plt.xlabel('Time Window')\n",
        "plt.grid(True)\n",
        "plt.show()\n"
      ]
    },
    {
      "cell_type": "markdown",
      "metadata": {
        "id": "bNuAn-8s8qUt"
      },
      "source": []
    }
  ],
  "metadata": {
    "kernelspec": {
      "display_name": "Python 3",
      "language": "python",
      "name": "python3"
    },
    "language_info": {
      "codemirror_mode": {
        "name": "ipython",
        "version": 3
      },
      "file_extension": ".py",
      "mimetype": "text/x-python",
      "name": "python",
      "nbconvert_exporter": "python",
      "pygments_lexer": "ipython3",
      "version": "3.10.1"
    },
    "colab": {
      "provenance": [],
      "include_colab_link": true
    }
  },
  "nbformat": 4,
  "nbformat_minor": 0
}