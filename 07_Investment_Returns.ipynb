{
  "nbformat": 4,
  "nbformat_minor": 0,
  "metadata": {
    "colab": {
      "provenance": [],
      "authorship_tag": "ABX9TyMTtqOO/F2hD6JdBLowvMNo",
      "include_colab_link": true
    },
    "kernelspec": {
      "name": "python3",
      "display_name": "Python 3"
    },
    "language_info": {
      "name": "python"
    }
  },
  "cells": [
    {
      "cell_type": "markdown",
      "metadata": {
        "id": "view-in-github",
        "colab_type": "text"
      },
      "source": [
        "<a href=\"https://colab.research.google.com/github/luiscunhacsc/finance_python/blob/main/07_Investment_Returns.ipynb\" target=\"_parent\"><img src=\"https://colab.research.google.com/assets/colab-badge.svg\" alt=\"Open In Colab\"/></a>"
      ]
    },
    {
      "cell_type": "code",
      "execution_count": null,
      "metadata": {
        "id": "ibzHVUJ-zFIY"
      },
      "outputs": [],
      "source": [
        "import numpy as np\n",
        "import matplotlib.pyplot as plt\n",
        "import pandas as pd\n",
        "\n",
        "# Load the dataset\n",
        "url = 'https://raw.githubusercontent.com/your-repo-name/investment_data.csv'\n",
        "data = pd.read_csv(url)\n",
        "\n",
        "# Extract data from the DataFrame\n",
        "years = data['Year']\n",
        "initial_investment = data['Initial Investment'][0]  # assuming initial investment is the same\n",
        "common_returns = data['Common Annual Return']\n",
        "preferred_dividends = data['Preferred Dividend Yield']\n",
        "\n",
        "# Function to calculate returns\n",
        "def calculate_common_return(initial_investment, annual_return, years):\n",
        "    return initial_investment * (1 + annual_return) ** years\n",
        "\n",
        "def calculate_preferred_dividend(initial_investment, dividend_yield, years):\n",
        "    return initial_investment * dividend_yield * years\n",
        "\n",
        "# Calculate values for plotting\n",
        "common_values = [calculate_common_return(initial_investment, common_returns[i], years[i]) for i in range(len(years))]\n",
        "preferred_values = [initial_investment + calculate_preferred_dividend(initial_investment, preferred_dividends[i], years[i]) for i in range(len(years))]\n",
        "\n",
        "# Plotting the results\n",
        "plt.figure(figsize=(10, 5))\n",
        "plt.plot(years, common_values, label='Common Stock', marker='o')\n",
        "plt.plot(years, preferred_values, label='Preferred Stock', marker='x')\n",
        "plt.xlabel('Years')\n",
        "plt.ylabel('Investment Value ($)')\n",
        "plt.title('Comparison of Common and Preferred Stock Returns')\n",
        "plt.legend()\n",
        "plt.grid(True)\n",
        "plt.show()\n"
      ]
    }
  ]
}