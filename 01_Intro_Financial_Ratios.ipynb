{
  "nbformat": 4,
  "nbformat_minor": 0,
  "metadata": {
    "colab": {
      "provenance": [],
      "authorship_tag": "ABX9TyPf9Yk89un72T34sS1I51BR",
      "include_colab_link": true
    },
    "kernelspec": {
      "name": "python3",
      "display_name": "Python 3"
    },
    "language_info": {
      "name": "python"
    }
  },
  "cells": [
    {
      "cell_type": "markdown",
      "metadata": {
        "id": "view-in-github",
        "colab_type": "text"
      },
      "source": [
        "<a href=\"https://colab.research.google.com/github/luiscunhacsc/finance_python/blob/main/01_Intro_Financial_Ratios.ipynb\" target=\"_parent\"><img src=\"https://colab.research.google.com/assets/colab-badge.svg\" alt=\"Open In Colab\"/></a>"
      ]
    },
    {
      "cell_type": "code",
      "execution_count": null,
      "metadata": {
        "id": "SgUfGBe2oJug"
      },
      "outputs": [],
      "source": [
        "import pandas as pd\n",
        "\n",
        "# URL to the CSV file hosted on GitHub\n",
        "url = 'https://raw.githubusercontent.com/luiscunhacsc/finance_python/main/financial_data_ratios_intro.csv'\n",
        "\n",
        "# Reading data into a pandas DataFrame\n",
        "data = pd.read_csv(url)\n",
        "\n",
        "# Calculating Profitability Ratios\n",
        "data['Gross Profit Margin'] = (data['Gross Profit'] / data['Revenue']) * 100\n",
        "data['Net Profit Margin'] = (data['Net Income'] / data['Revenue']) * 100\n",
        "data['ROA'] = (data['Net Income'] / data['Total Assets']) * 100\n",
        "data['ROE'] = (data['Net Income'] / data['Shareholders Equity']) * 100\n",
        "\n",
        "# Calculating Liquidity Ratios\n",
        "data['Current Ratio'] = data['Current Assets'] / data['Current Liabilities']\n",
        "data['Quick Ratio'] = (data['Current Assets'] - data['Inventory']) / data['Current Liabilities']\n",
        "data['Cash Ratio'] = data['Cash and Cash Equivalents'] / data['Current Liabilities']\n",
        "\n",
        "# Calculating Solvency Ratios\n",
        "data['Debt-to-Equity Ratio'] = data['Total Debt'] / data['Shareholders Equity']\n",
        "data['Interest Coverage Ratio'] = data['EBIT'] / data['Interest Expenses']\n",
        "data['Debt Ratio'] = data['Total Debt'] / data['Total Assets']\n",
        "\n",
        "# Calculating Efficiency Ratios\n",
        "data['Asset Turnover Ratio'] = data['Revenue'] / data['Total Assets']\n",
        "data['Inventory Turnover Ratio'] = data['Cost of Goods Sold'] / data['Average Inventory']\n",
        "data['Receivables Turnover Ratio'] = data['Revenue'] / data['Average Accounts Receivable']\n",
        "\n",
        "# Display the calculated ratios\n",
        "print(data[['Gross Profit Margin', 'Net Profit Margin', 'ROA', 'ROE', 'Current Ratio',\n",
        "            'Quick Ratio', 'Cash Ratio', 'Debt-to-Equity Ratio', 'Interest Coverage Ratio',\n",
        "            'Debt Ratio', 'Asset Turnover Ratio', 'Inventory Turnover Ratio',\n",
        "            'Receivables Turnover Ratio']])"
      ]
    }
  ]
}