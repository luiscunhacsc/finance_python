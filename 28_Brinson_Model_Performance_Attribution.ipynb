{
 "cells": [
  {
   "cell_type": "markdown",
   "metadata": {},
   "source": [
    "# Brinson Model Performance Attribution\n",
    "\n",
    "This notebook demonstrates the implementation of the Brinson Model for performance attribution. The Brinson Model is a key tool used in portfolio management to identify the sources of a portfolio's performance relative to a benchmark. We will break down the portfolio's performance into three main components:\n",
    "- **Allocation Effect**\n",
    "- **Selection Effect**\n",
    "- **Interaction Effect**\n",
    "\n",
    "These components will help us understand the impact of asset allocation and security selection decisions on the portfolio's overall performance.\n"
   ]
  },
  {
   "cell_type": "code",
   "execution_count": 7,
   "metadata": {},
   "outputs": [
    {
     "name": "stdout",
     "output_type": "stream",
     "text": [
      "Note: you may need to restart the kernel to use updated packages.\n"
     ]
    },
    {
     "name": "stderr",
     "output_type": "stream",
     "text": [
      "WARNING: Ignoring invalid distribution -rotobuf (c:\\python\\lib\\site-packages)\n",
      "WARNING: Ignoring invalid distribution -rotobuf (c:\\python\\lib\\site-packages)\n",
      "\n",
      "[notice] A new release of pip is available: 23.1.2 -> 24.2\n",
      "[notice] To update, run: python.exe -m pip install --upgrade pip\n"
     ]
    }
   ],
   "source": [
    "%pip install -q numpy matplotlib pandas yfinance"
   ]
  },
  {
   "cell_type": "code",
   "execution_count": 8,
   "metadata": {},
   "outputs": [
    {
     "name": "stderr",
     "output_type": "stream",
     "text": [
      "[*********************100%%**********************]  20 of 20 completed\n"
     ]
    }
   ],
   "source": [
    "import numpy as np\n",
    "import pandas as pd\n",
    "import yfinance as yf\n",
    "import matplotlib.pyplot as plt\n",
    "\n",
    "# Fetch data for the portfolio\n",
    "tickers = ['AAPL', 'MSFT', 'GOOGL', 'AMZN', 'TSLA', 'NVDA', 'BRK-B', 'JNJ', 'V', 'UNH', \n",
    "           'HD', 'PG', 'DIS', 'VZ', 'MA', 'PYPL', 'PFE', 'KO', 'CMCSA', 'NFLX']\n",
    "portfolio_data = yf.download(tickers, start='2018-01-01', end='2023-01-01')['Adj Close']\n",
    "\n",
    "# Normalize data to start at 1 for comparison\n",
    "normalized_data = portfolio_data / portfolio_data.iloc[0]\n",
    "\n",
    "# Define the portfolio weights\n",
    "portfolio_weights = np.array([0.05, 0.05, 0.05, 0.05, 0.05, 0.05, 0.05, 0.05, 0.05, 0.05, \n",
    "                              0.05, 0.05, 0.05, 0.05, 0.05, 0.05, 0.05, 0.05, 0.05, 0.05])\n",
    "\n",
    "# Portfolio returns\n",
    "portfolio_returns = normalized_data.dot(portfolio_weights)\n"
   ]
  },
  {
   "cell_type": "code",
   "execution_count": 9,
   "metadata": {},
   "outputs": [
    {
     "name": "stderr",
     "output_type": "stream",
     "text": [
      "[*********************100%%**********************]  1 of 1 completed\n"
     ]
    }
   ],
   "source": [
    "# Fetch data for the benchmark (S&P 500)\n",
    "benchmark_data = yf.download('^GSPC', start='2018-01-01', end='2023-01-01')['Adj Close']\n",
    "\n",
    "# Normalize data to start at 1 for comparison\n",
    "benchmark_returns = benchmark_data / benchmark_data.iloc[0]\n",
    "\n",
    "# Calculate cumulative returns for the benchmark\n",
    "benchmark_cumulative_returns = (benchmark_returns / benchmark_returns.shift(1)).cumprod()\n"
   ]
  },
  {
   "cell_type": "markdown",
   "metadata": {},
   "source": [
    "## Brinson Model Overview\n",
    "\n",
    "The Brinson Model decomposes the portfolio's excess return over a benchmark into three distinct effects:\n",
    "\n",
    "- **Allocation Effect ($\\text{AE}$):** Measures the impact of overweighting or underweighting asset classes relative to the benchmark.\n",
    "- **Selection Effect ($\\text{SE}$):** Evaluates the performance of the selected securities within each asset class relative to the benchmark's securities.\n",
    "- **Interaction Effect ($\\text{IE}$):** Captures the combined impact of allocation and selection decisions.\n",
    "\n",
    "The formulae for these effects are as follows:\n",
    "\n",
    "- **Allocation Effect:**\n",
    "$$ \\text{AE} = \\sum (\\text{wp} - \\text{wb})(\\text{rb} - \\text{Rb}) $$\n",
    "\n",
    "- **Selection Effect:**\n",
    "$$ \\text{SE} = \\sum \\text{wb}(\\text{rp} - \\text{rb}) $$\n",
    "\n",
    "- **Interaction Effect:**\n",
    "$$ \\text{IE} = \\sum (\\text{wp} - \\text{wb})(\\text{rp} - \\text{rb}) $$\n",
    "\n",
    "Where:\n",
    "- $ \\text{wp} $ = Portfolio weight\n",
    "- $ \\text{wb} $ = Benchmark weight\n",
    "- $ \\text{rp} $ = Portfolio return\n",
    "- $ \\text{rb} $ = Benchmark return\n",
    "- $ \\text{Rb} $ = Benchmark return in the aggregate\n"
   ]
  },
  {
   "cell_type": "code",
   "execution_count": 10,
   "metadata": {},
   "outputs": [
    {
     "name": "stdout",
     "output_type": "stream",
     "text": [
      "Portfolio Total Return: 0.1747\n",
      "Benchmark Total Return (S&P 500): 0.0949\n"
     ]
    }
   ],
   "source": [
    "# Calculate daily returns\n",
    "portfolio_daily_returns = portfolio_returns.pct_change().dropna()\n",
    "benchmark_daily_returns = benchmark_returns.pct_change().dropna()\n",
    "\n",
    "# Average annual returns\n",
    "portfolio_avg_annual_return = portfolio_daily_returns.mean() * 252\n",
    "benchmark_avg_annual_return = benchmark_daily_returns.mean() * 252\n",
    "\n",
    "# Total portfolio and benchmark returns\n",
    "portfolio_total_return = portfolio_avg_annual_return * portfolio_weights\n",
    "benchmark_total_return = benchmark_avg_annual_return.mean()\n",
    "\n",
    "# Print the total return of the portfolio and benchmark\n",
    "print(f\"Portfolio Total Return: {portfolio_total_return.sum():.4f}\")\n",
    "print(f\"Benchmark Total Return (S&P 500): {benchmark_total_return:.4f}\")\n"
   ]
  },
  {
   "cell_type": "markdown",
   "metadata": {},
   "source": [
    "## Calculating the Allocation Effect\n",
    "\n",
    "The allocation effect measures the contribution of the portfolio's asset allocation decisions compared to the benchmark. It answers the question: *How much of the performance difference is due to the manager's decision to overweight or underweight certain asset classes?*\n",
    "\n",
    "The allocation effect is calculated as:\n",
    "$$ \\text{AE} = \\sum (\\text{wp} - \\text{wb})(\\text{rb} - \\text{Rb}) $$\n"
   ]
  },
  {
   "cell_type": "markdown",
   "metadata": {},
   "source": [
    "## Calculating the Selection Effect\n",
    "\n",
    "The selection effect evaluates the impact of the portfolio manager's security selection within each asset class. It helps to determine whether the securities chosen by the manager outperformed or underperformed the benchmark's securities.\n",
    "\n",
    "The selection effect is calculated as:\n",
    "$$ \\text{SE} = \\sum \\text{wb}(\\text{rp} - \\text{rb}) $$\n"
   ]
  },
  {
   "cell_type": "markdown",
   "metadata": {},
   "source": [
    "## Calculating the Interaction Effect\n",
    "\n",
    "The interaction effect captures the combined impact of the allocation and selection decisions. It shows how the combination of overweighting (or underweighting) and selecting securities impacts the overall portfolio performance.\n",
    "\n",
    "The interaction effect is calculated as:\n",
    "$$ \\text{IE} = \\sum (\\text{wp} - \\text{wb})(\\text{rp} - \\text{rb}) $$\n"
   ]
  },
  {
   "cell_type": "markdown",
   "metadata": {},
   "source": [
    "## Total Performance Attribution\n",
    "\n",
    "Finally, the total effect of the portfolio manager's decisions is the sum of the allocation, selection, and interaction effects. This value indicates the overall impact of the manager's decisions on the portfolio's performance relative to the benchmark.\n",
    "\n",
    "The total effect is calculated as:\n",
    "$$ \\text{Total Effect} = \\text{AE} + \\text{SE} + \\text{IE} $$\n",
    "\n",
    "This result will help us to understand the sources of the portfolio's performance and how effectively the portfolio manager has made allocation and selection decisions.\n"
   ]
  },
  {
   "cell_type": "code",
   "execution_count": 11,
   "metadata": {},
   "outputs": [
    {
     "name": "stdout",
     "output_type": "stream",
     "text": [
      "Allocation Effect: -0.0716\n",
      "Selection Effect: 0.0076\n",
      "Interaction Effect: -0.0716\n",
      "Total Effect: -0.1356\n"
     ]
    }
   ],
   "source": [
    "# Calculate allocation effect\n",
    "allocation_effect = np.sum((portfolio_weights - benchmark_avg_annual_return) * (portfolio_avg_annual_return - benchmark_total_return))\n",
    "print(f\"Allocation Effect: {allocation_effect:.4f}\")\n",
    "\n",
    "# Calculate selection effect\n",
    "selection_effect = np.sum(benchmark_avg_annual_return * (portfolio_avg_annual_return - benchmark_avg_annual_return))\n",
    "print(f\"Selection Effect: {selection_effect:.4f}\")\n",
    "\n",
    "# Calculate interaction effect\n",
    "interaction_effect = np.sum((portfolio_weights - benchmark_avg_annual_return) * (portfolio_avg_annual_return - benchmark_avg_annual_return))\n",
    "print(f\"Interaction Effect: {interaction_effect:.4f}\")\n",
    "\n",
    "# Total effect\n",
    "total_effect = allocation_effect + selection_effect + interaction_effect\n",
    "print(f\"Total Effect: {total_effect:.4f}\")\n"
   ]
  },
  {
   "cell_type": "code",
   "execution_count": 12,
   "metadata": {},
   "outputs": [
    {
     "data": {
      "image/png": "[encoded data removed]",
      "text/plain": [
       "<Figure size 1008x576 with 1 Axes>"
      ]
     },
     "metadata": {
      "needs_background": "light"
     },
     "output_type": "display_data"
    }
   ],
   "source": [
    "import pandas as pd\n",
    "import numpy as np\n",
    "import yfinance as yf\n",
    "import matplotlib.pyplot as plt\n",
    "\n",
    "# Fetch sector information\n",
    "sectors = ['Technology', 'Technology', 'Technology', 'Consumer Discretionary', 'Consumer Discretionary',\n",
    "           'Technology', 'Financials', 'Health Care', 'Financials', 'Health Care',\n",
    "           'Consumer Discretionary', 'Consumer Staples', 'Communication Services',\n",
    "           'Communication Services', 'Financials', 'Financials', 'Health Care',\n",
    "           'Consumer Staples', 'Communication Services', 'Communication Services']\n",
    "\n",
    "company_df = pd.DataFrame({\n",
    "    'Company': tickers,\n",
    "    'Sector': sectors\n",
    "})\n",
    "\n",
    "# Create a DataFrame with sector dummies\n",
    "sector_dummies = pd.get_dummies(company_df['Sector'])\n",
    "\n",
    "# Merge portfolio weights with sector dummy information\n",
    "portfolio_sector_allocation = portfolio_weights.T @ sector_dummies\n",
    "\n",
    "# Since portfolio_weights is not time-series data, let's create a DataFrame to simulate annual data\n",
    "# Assume the weights stay constant over time for simplicity\n",
    "dates = pd.date_range(start='2018-01-01', end='2023-01-01', freq='Y')\n",
    "portfolio_sector_allocation = pd.DataFrame(np.tile(portfolio_sector_allocation.values, (len(dates), 1)),\n",
    "                                           index=dates, columns=portfolio_sector_allocation.index)\n",
    "\n",
    "# Plot the sector allocation over time\n",
    "portfolio_sector_allocation.plot(kind='bar', stacked=True, colormap='tab20', figsize=(14, 8))\n",
    "plt.title(\"Portfolio Sector Allocation Over Time\")\n",
    "plt.ylabel(\"Weighting\")\n",
    "plt.xlabel(\"Year\")\n",
    "plt.legend(title=\"Sectors\", bbox_to_anchor=(1.05, 1), loc='upper left')\n",
    "plt.grid(True)\n",
    "plt.show()\n",
    "\n"
   ]
  },
  {
   "cell_type": "markdown",
   "metadata": {},
   "source": [
    "In this analysis, we have built a portfolio of 20 diversified holdings from different sectors. We analyzed the performance of the portfolio relative to the S&P 500 index using the Brinson Model, which includes calculating allocation, selection, and interaction effects.\n",
    "\n",
    "### Key Results:\n",
    "- **Portfolio Total Return**: Reflects how the chosen securities performed over the selected period.\n",
    "- **Benchmark Total Return**: Indicates the return of the S&P 500 over the same period.\n",
    "- **Allocation Effect**: Represents the impact of the portfolio's asset allocation decisions.\n",
    "- **Selection Effect**: Reflects the success of individual security selection within the sectors.\n",
    "- **Interaction Effect**: Combines the effects of allocation and selection decisions.\n",
    "\n",
    "Additionally, the sector allocation over time was visualized to provide insights into the strategic distribution of investments across various sectors.\n"
   ]
  },
  {
   "cell_type": "markdown",
   "metadata": {},
   "source": [
    "## Conclusion and Interpretation\n",
    "\n",
    "The Brinson Model provides a structured approach to performance attribution, allowing us to decompose the excess returns into actionable insights. By understanding the sources of the portfolio's performance, portfolio managers can refine their investment strategies to enhance future performance.\n",
    "\n",
    "In this notebook, we calculated the allocation, selection, and interaction effects using hypothetical data. In practice, these calculations would be applied to actual portfolio data to provide real-world insights.\n"
   ]
  }
 ],
 "metadata": {
  "kernelspec": {
   "display_name": "Python 3",
   "language": "python",
   "name": "python3"
  },
  "language_info": {
   "codemirror_mode": {
    "name": "ipython",
    "version": 3
   },
   "file_extension": ".py",
   "mimetype": "text/x-python",
   "name": "python",
   "nbconvert_exporter": "python",
   "pygments_lexer": "ipython3",
   "version": "3.10.1"
  }
 },
 "nbformat": 4,
 "nbformat_minor": 2
}
