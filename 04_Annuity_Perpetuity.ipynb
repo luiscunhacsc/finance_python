{
  "nbformat": 4,
  "nbformat_minor": 0,
  "metadata": {
    "colab": {
      "provenance": [],
      "authorship_tag": "ABX9TyORm37VOqK9AiR+QWUJAtj4",
      "include_colab_link": true
    },
    "kernelspec": {
      "name": "python3",
      "display_name": "Python 3"
    },
    "language_info": {
      "name": "python"
    }
  },
  "cells": [
    {
      "cell_type": "markdown",
      "metadata": {
        "id": "view-in-github",
        "colab_type": "text"
      },
      "source": [
        "<a href=\"https://colab.research.google.com/github/luiscunhacsc/finance_python/blob/main/04_Annuity_Perpetuity.ipynb\" target=\"_parent\"><img src=\"https://colab.research.google.com/assets/colab-badge.svg\" alt=\"Open In Colab\"/></a>"
      ]
    },
    {
      "cell_type": "code",
      "execution_count": 1,
      "metadata": {
        "id": "cC70ZnvRvNhN",
        "outputId": "c96eac90-6a52-460c-a271-1e726c46da76",
        "colab": {
          "base_uri": "https://localhost:8080/"
        }
      },
      "outputs": [
        {
          "output_type": "stream",
          "name": "stdout",
          "text": [
            "Present Value of Annuity: $7721.73\n",
            "Future Value of Annuity: $12577.89\n",
            "Present Value of Perpetuity: $20000.00\n"
          ]
        }
      ],
      "source": [
        "# Importing numpy (even though it isn't used in the functions, it's imported for completeness)\n",
        "import numpy as np\n",
        "\n",
        "# Function to calculate present value of annuity\n",
        "def calculate_pv_annuity(pmt, r, n):\n",
        "    return pmt * (1 - (1 + r) ** -n) / r\n",
        "\n",
        "# Function to calculate future value of annuity\n",
        "def calculate_fv_annuity(pmt, r, n):\n",
        "    return pmt * (((1 + r) ** n - 1) / r)\n",
        "\n",
        "# Function to calculate present value of perpetuity\n",
        "def calculate_pv_perpetuity(pmt, r):\n",
        "    return pmt / r\n",
        "\n",
        "# Given data\n",
        "pmt = 1000\n",
        "r = 0.05\n",
        "n = 10\n",
        "\n",
        "# Calculations\n",
        "pv_annuity = calculate_pv_annuity(pmt, r, n)\n",
        "fv_annuity = calculate_fv_annuity(pmt, r, n)\n",
        "pv_perpetuity = calculate_pv_perpetuity(pmt, r)\n",
        "\n",
        "# Output results\n",
        "print(f\"Present Value of Annuity: ${pv_annuity:.2f}\")\n",
        "print(f\"Future Value of Annuity: ${fv_annuity:.2f}\")\n",
        "print(f\"Present Value of Perpetuity: ${pv_perpetuity:.2f}\")\n"
      ]
    }
  ]
}