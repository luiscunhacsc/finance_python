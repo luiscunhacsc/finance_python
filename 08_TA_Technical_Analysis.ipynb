{
  "nbformat": 4,
  "nbformat_minor": 0,
  "metadata": {
    "colab": {
      "provenance": [],
      "authorship_tag": "ABX9TyO5A2MsAOKq/EC4BHP7yrWB",
      "include_colab_link": true
    },
    "kernelspec": {
      "name": "python3",
      "display_name": "Python 3"
    },
    "language_info": {
      "name": "python"
    }
  },
  "cells": [
    {
      "cell_type": "markdown",
      "metadata": {
        "id": "view-in-github",
        "colab_type": "text"
      },
      "source": [
        "<a href=\"https://colab.research.google.com/github/luiscunhacsc/finance_python/blob/main/08_TA_Technical_Analysis.ipynb\" target=\"_parent\"><img src=\"https://colab.research.google.com/assets/colab-badge.svg\" alt=\"Open In Colab\"/></a>"
      ]
    },
    {
      "cell_type": "code",
      "execution_count": null,
      "metadata": {
        "id": "vgDHinV43OrA"
      },
      "outputs": [],
      "source": [
        "!pip install yfinance\n"
      ]
    },
    {
      "cell_type": "code",
      "source": [
        "import yfinance as yf\n",
        "import pandas as pd\n",
        "import numpy as np\n",
        "import matplotlib.pyplot as plt\n",
        "\n",
        "# Fetch historical stock data from Yahoo Finance\n",
        "ticker = 'AAPL'  # Example: Apple Inc.\n",
        "data = yf.download(ticker, start='2023-01-01', end='2023-12-31')\n",
        "\n",
        "# We only need the 'Close' prices for this analysis\n",
        "df = data[['Close']].copy()\n",
        "\n",
        "# Calculate moving averages\n",
        "df['MA20'] = df['Close'].rolling(window=20).mean()\n",
        "df['MA50'] = df['Close'].rolling(window=50).mean()\n",
        "\n",
        "# Calculate RSI\n",
        "delta = df['Close'].diff(1)\n",
        "gain = delta.where(delta > 0, 0)\n",
        "loss = -delta.where(delta < 0, 0)\n",
        "avg_gain = gain.rolling(window=14).mean()\n",
        "avg_loss = loss.rolling(window=14).mean()\n",
        "rs = avg_gain / avg_loss\n",
        "df['RSI'] = 100 - (100 / (1 + rs))\n",
        "\n",
        "# Plotting\n",
        "plt.figure(figsize=(14, 7))\n",
        "\n",
        "# Price and Moving Averages\n",
        "plt.subplot(2, 1, 1)\n",
        "plt.plot(df['Close'], label='Close Price')\n",
        "plt.plot(df['MA20'], label='20-Day MA')\n",
        "plt.plot(df['MA50'], label='50-Day MA')\n",
        "plt.legend()\n",
        "plt.title('Stock Price and Moving Averages')\n",
        "\n",
        "# RSI\n",
        "plt.subplot(2, 1, 2)\n",
        "plt.plot(df['RSI'], label='RSI')\n",
        "plt.axhline(70, linestyle='--', alpha=0.5, color='red')\n",
        "plt.axhline(30, linestyle='--', alpha=0.5, color='green')\n",
        "plt.legend()\n",
        "plt.title('Relative Strength Index (RSI)')\n",
        "\n",
        "plt.tight_layout()\n",
        "plt.show()\n"
      ],
      "metadata": {
        "id": "FDmKfbAN3Zn9"
      },
      "execution_count": null,
      "outputs": []
    }
  ]
}