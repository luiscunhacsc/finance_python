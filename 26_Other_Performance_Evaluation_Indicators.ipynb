{
 "cells": [
  {
   "cell_type": "markdown",
   "metadata": {},
   "source": [
    "# Performance Evaluation Using S&P 500 Data\n",
    "\n",
    "In this section, we will extend our understanding of performance metrics by applying them to real S&P 500 data. This will include calculating Sharpe, Treynor, Sortino ratios, Alpha, Beta, Information Ratio, Maximum Drawdown, and Tracking Error. We will use different time windows and lengths to analyze how these metrics evolve over time.\n"
   ]
  },
  {
   "cell_type": "code",
   "execution_count": 1,
   "metadata": {},
   "outputs": [
    {
     "name": "stdout",
     "output_type": "stream",
     "text": [
      "Note: you may need to restart the kernel to use updated packages.\n"
     ]
    },
    {
     "name": "stderr",
     "output_type": "stream",
     "text": [
      "WARNING: Ignoring invalid distribution -rotobuf (c:\\python\\lib\\site-packages)\n",
      "WARNING: Ignoring invalid distribution -rotobuf (c:\\python\\lib\\site-packages)\n",
      "\n",
      "[notice] A new release of pip is available: 23.1.2 -> 24.2\n",
      "[notice] To update, run: python.exe -m pip install --upgrade pip\n"
     ]
    }
   ],
   "source": [
    "%pip install -q yfinance pandas numpy matplotlib"
   ]
  },
  {
   "cell_type": "code",
   "execution_count": 2,
   "metadata": {},
   "outputs": [
    {
     "name": "stderr",
     "output_type": "stream",
     "text": [
      "[*********************100%%**********************]  1 of 1 completed\n",
      "[*********************100%%**********************]  1 of 1 completed"
     ]
    },
    {
     "name": "stdout",
     "output_type": "stream",
     "text": [
      "Returns for the S&P 500:\n",
      "Date\n",
      "2020-01-03   -0.007060\n",
      "2020-01-06    0.003533\n",
      "2020-01-07   -0.002803\n",
      "2020-01-08    0.004902\n",
      "2020-01-09    0.006655\n",
      "Name: Adj Close, dtype: float64\n",
      "\n",
      "Returns for the Nasdaq-100:\n",
      "Date\n",
      "2020-01-03   -0.008827\n",
      "2020-01-06    0.006211\n",
      "2020-01-07   -0.000234\n",
      "2020-01-08    0.007452\n",
      "2020-01-09    0.008669\n",
      "Name: Adj Close, dtype: float64\n"
     ]
    },
    {
     "name": "stderr",
     "output_type": "stream",
     "text": [
      "\n"
     ]
    }
   ],
   "source": [
    "import numpy as np\n",
    "import pandas as pd\n",
    "import yfinance as yf\n",
    "\n",
    "# Fetch historical data for S&P 500 and Nasdaq-100 from Yahoo Finance\n",
    "sp500 = yf.download('^GSPC', start='2020-01-01', end='2023-01-01')['Adj Close']\n",
    "nasdaq100 = yf.download('^NDX', start='2020-01-01', end='2023-01-01')['Adj Close']\n",
    "\n",
    "# Calculate daily returns\n",
    "sp500_returns = sp500.pct_change().dropna()\n",
    "nasdaq100_returns = nasdaq100.pct_change().dropna()\n",
    "\n",
    "# Set the risk-free rate (e.g., 0.01 for 1%)\n",
    "risk_free_rate = 0.01 / 252  # Adjust for daily returns\n",
    "\n",
    "# Display the first few rows of the returns for the S&P 500\n",
    "print(\"Returns for the S&P 500:\")\n",
    "print(sp500_returns.head())\n",
    "\n",
    "# Display the first few rows of the returns for the Nasdaq-100\n",
    "print(\"\\nReturns for the Nasdaq-100:\")\n",
    "print(nasdaq100_returns.head())\n"
   ]
  },
  {
   "cell_type": "markdown",
   "metadata": {},
   "source": [
    "## Calculate Performance Metrics\n",
    "\n",
    "We will calculate the following metrics for the S&P 500 over different time periods:\n",
    "- Sharpe Ratio\n",
    "- Treynor Ratio\n",
    "- Sortino Ratio\n",
    "- Alpha and Beta\n",
    "- Information Ratio\n",
    "- Maximum Drawdown\n",
    "- Tracking Error\n"
   ]
  },
  {
   "cell_type": "code",
   "execution_count": 3,
   "metadata": {},
   "outputs": [
    {
     "name": "stderr",
     "output_type": "stream",
     "text": [
      "[*********************100%%**********************]  1 of 1 completed"
     ]
    },
    {
     "name": "stdout",
     "output_type": "stream",
     "text": [
      "Performance Metrics for the last 1y:\n",
      "Sharpe Ratio: -0.0522\n",
      "Treynor Ratio: -0.0008\n",
      "Sortino Ratio: -0.0832\n",
      "--------------------------------------------------\n",
      "Performance Metrics for the last 3y:\n",
      "Sharpe Ratio: 0.0198\n",
      "Treynor Ratio: 0.0003\n",
      "Sortino Ratio: 0.0246\n",
      "--------------------------------------------------\n",
      "Performance Metrics for the last 5y:\n",
      "Sharpe Ratio: 0.0244\n",
      "Treynor Ratio: 0.0003\n",
      "Sortino Ratio: 0.0296\n",
      "--------------------------------------------------\n"
     ]
    },
    {
     "name": "stderr",
     "output_type": "stream",
     "text": [
      "\n"
     ]
    }
   ],
   "source": [
    "import numpy as np\n",
    "import pandas as pd\n",
    "import yfinance as yf\n",
    "\n",
    "# Fetch historical data for S&P 500\n",
    "sp500 = yf.download('^GSPC', start='2018-01-01', end='2023-01-01')['Adj Close']\n",
    "\n",
    "# Calculate daily returns\n",
    "returns = sp500.pct_change().dropna()\n",
    "\n",
    "# Define risk-free rate\n",
    "risk_free_rate = 0.01 / 252  # Adjust for daily returns\n",
    "\n",
    "# Function to calculate Sharpe Ratio\n",
    "def calculate_sharpe_ratio(returns, risk_free_rate):\n",
    "    return (returns.mean() - risk_free_rate) / returns.std()\n",
    "\n",
    "# Function to calculate Treynor Ratio (assuming beta = 1 for simplicity)\n",
    "def calculate_treynor_ratio(returns, risk_free_rate, beta=1):\n",
    "    return (returns.mean() - risk_free_rate) / beta\n",
    "\n",
    "# Function to calculate Sortino Ratio (using downside deviation)\n",
    "def calculate_sortino_ratio(returns, risk_free_rate):\n",
    "    downside_returns = returns[returns < 0]\n",
    "    downside_std_dev = downside_returns.std()\n",
    "    return (returns.mean() - risk_free_rate) / downside_std_dev\n",
    "\n",
    "# Calculate and display the metrics for different time windows\n",
    "for period in ['1y', '3y', '5y']:\n",
    "    period_returns = returns[-int(period[:-1])*252:]  # Approximate trading days per year\n",
    "    sharpe_ratio = calculate_sharpe_ratio(period_returns, risk_free_rate)\n",
    "    treynor_ratio = calculate_treynor_ratio(period_returns, risk_free_rate)\n",
    "    sortino_ratio = calculate_sortino_ratio(period_returns, risk_free_rate)\n",
    "\n",
    "    print(f\"Performance Metrics for the last {period}:\")\n",
    "    print(f\"Sharpe Ratio: {sharpe_ratio:.4f}\")\n",
    "    print(f\"Treynor Ratio: {treynor_ratio:.4f}\")\n",
    "    print(f\"Sortino Ratio: {sortino_ratio:.4f}\")\n",
    "    print(\"-\" * 50)\n",
    "\n"
   ]
  },
  {
   "cell_type": "markdown",
   "metadata": {},
   "source": [
    "## Calculate Alpha, Beta, and Information Ratio\n",
    "\n",
    "Now, let's move on to calculate Alpha, Beta, and Information Ratio for the S&P 500 against the market itself (assuming the market return is the S&P 500 return as a proxy).\n"
   ]
  },
  {
   "cell_type": "markdown",
   "metadata": {},
   "source": [
    "Let's start by defining the Alpha and Beta functions.\n"
   ]
  },
  {
   "cell_type": "code",
   "execution_count": 4,
   "metadata": {},
   "outputs": [],
   "source": [
    "# Function to calculate Alpha and Beta\n",
    "def calculate_alpha_beta(portfolio_returns, market_returns, risk_free_rate):\n",
    "    covariance = np.cov(portfolio_returns, market_returns)[0][1]\n",
    "    beta = covariance / market_returns.var()\n",
    "    alpha = portfolio_returns.mean() - (risk_free_rate + beta * (market_returns.mean() - risk_free_rate))\n",
    "    return alpha, beta\n",
    "\n",
    "# Function to calculate Information Ratio\n",
    "def calculate_information_ratio(portfolio_returns, market_returns):\n",
    "    tracking_error = np.std(portfolio_returns - market_returns)\n",
    "    if tracking_error == 0:\n",
    "        return np.nan  # Avoid division by zero\n",
    "    return (portfolio_returns.mean() - market_returns.mean()) / tracking_error\n",
    "\n"
   ]
  },
  {
   "cell_type": "code",
   "execution_count": 5,
   "metadata": {},
   "outputs": [
    {
     "name": "stdout",
     "output_type": "stream",
     "text": [
      "Alpha: 0.0001\n",
      "Beta: 1.1061\n",
      "Information Ratio: 0.0159\n"
     ]
    }
   ],
   "source": [
    "# Calculate Alpha and Beta\n",
    "alpha, beta = calculate_alpha_beta(nasdaq100_returns, sp500_returns, risk_free_rate)\n",
    "\n",
    "# Calculate Information Ratio\n",
    "information_ratio = calculate_information_ratio(nasdaq100_returns, sp500_returns)\n",
    "\n",
    "# Display the results\n",
    "print(f\"Alpha: {alpha:.4f}\")\n",
    "print(f\"Beta: {beta:.4f}\")\n",
    "print(f\"Information Ratio: {information_ratio:.4f}\")\n"
   ]
  },
  {
   "cell_type": "markdown",
   "metadata": {},
   "source": [
    "### Performance Metrics Analysis: Nasdaq-100 vs. S&P 500\n",
    "\n",
    "In this analysis, we compared the performance of the Nasdaq-100 index against the S&P 500 index using key metrics: Alpha, Beta, and Information Ratio.\n",
    "\n",
    "- **Alpha**: This metric indicates the excess return of the Nasdaq-100 relative to the S&P 500 after accounting for the risk (Beta). A positive Alpha suggests that the Nasdaq-100 outperformed the S&P 500 on a risk-adjusted basis, while a negative Alpha indicates underperformance.\n",
    "\n",
    "- **Beta**: This metric measures the sensitivity of the Nasdaq-100 to market movements represented by the S&P 500. A Beta greater than 1 implies that the Nasdaq-100 is more volatile than the S&P 500, while a Beta less than 1 indicates less volatility.\n",
    "\n",
    "- **Information Ratio**: This metric evaluates the consistency of the excess returns of the Nasdaq-100 relative to the S&P 500. A higher Information Ratio indicates a better risk-adjusted return.\n",
    "\n",
    "By analyzing these metrics, investors can gain insights into the relative performance and risk characteristics of the Nasdaq-100 compared to the broader market represented by the S&P 500.\n"
   ]
  },
  {
   "cell_type": "markdown",
   "metadata": {},
   "source": [
    "## Maximum Drawdown and Tracking Error\n",
    "\n",
    "Finally, we'll calculate the Maximum Drawdown and Tracking Error for the S&P 500 over the given period.\n"
   ]
  },
  {
   "cell_type": "code",
   "execution_count": 6,
   "metadata": {},
   "outputs": [
    {
     "name": "stdout",
     "output_type": "stream",
     "text": [
      "Maximum Drawdown: -0.3392\n",
      "Tracking Error: 0.0000\n"
     ]
    }
   ],
   "source": [
    "# Function to calculate Maximum Drawdown\n",
    "def calculate_max_drawdown(prices):\n",
    "    peak = prices.expanding(min_periods=1).max()\n",
    "    drawdown = (prices / peak) - 1\n",
    "    max_drawdown = drawdown.min()\n",
    "    return max_drawdown\n",
    "\n",
    "# Function to calculate Tracking Error\n",
    "def calculate_tracking_error(portfolio_returns, benchmark_returns):\n",
    "    return np.std(portfolio_returns - benchmark_returns)\n",
    "\n",
    "# Use the S&P 500 data you fetched previously\n",
    "max_drawdown = calculate_max_drawdown(sp500)\n",
    "tracking_error = calculate_tracking_error(returns, returns)  # Using returns as a proxy for simplicity\n",
    "\n",
    "print(f\"Maximum Drawdown: {max_drawdown:.4f}\")\n",
    "print(f\"Tracking Error: {tracking_error:.4f}\")\n",
    "\n"
   ]
  },
  {
   "cell_type": "markdown",
   "metadata": {},
   "source": [
    "# Conclusion\n",
    "\n",
    "We have successfully calculated various performance metrics for the S&P 500 using real market data. These metrics help us understand the risk and return characteristics of the portfolio over different time periods, providing valuable insights for investment decision-making.\n"
   ]
  }
 ],
 "metadata": {
  "kernelspec": {
   "display_name": "Python 3",
   "language": "python",
   "name": "python3"
  },
  "language_info": {
   "codemirror_mode": {
    "name": "ipython",
    "version": 3
   },
   "file_extension": ".py",
   "mimetype": "text/x-python",
   "name": "python",
   "nbconvert_exporter": "python",
   "pygments_lexer": "ipython3",
   "version": "3.10.1"
  }
 },
 "nbformat": 4,
 "nbformat_minor": 2
}
