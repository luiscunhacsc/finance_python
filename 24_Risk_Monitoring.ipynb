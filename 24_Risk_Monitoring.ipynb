{
  "cells": [
    {
      "cell_type": "markdown",
      "metadata": {
        "id": "view-in-github",
        "colab_type": "text"
      },
      "source": [
        "<a href=\"https://colab.research.google.com/github/luiscunhacsc/finance_python/blob/main/24_Risk_Monitoring.ipynb\" target=\"_parent\"><img src=\"https://colab.research.google.com/assets/colab-badge.svg\" alt=\"Open In Colab\"/></a>"
      ]
    },
    {
      "cell_type": "markdown",
      "metadata": {
        "id": "QZEXR-e38h4z"
      },
      "source": [
        "# Risk Monitoring and Reporting\n",
        "\n",
        "**Continuous Monitoring:** Regularly review and update risk assessments.\n",
        "\n",
        "**Key Metrics:** Track VaR, CVaR, beta, and other risk indicators.\n",
        "\n",
        "**Reporting:** Communicate risk levels and mitigation strategies to stakeholders.\n",
        "\n",
        "**Tools:** Use risk management software and dashboards for real-time monitoring.\n"
      ]
    },
    {
      "cell_type": "markdown",
      "metadata": {
        "id": "NKZSRc6m8h41"
      },
      "source": [
        "## Practical Example\n",
        "\n",
        "**Scenario:** Create a risk dashboard to monitor key risk metrics.\n",
        "\n",
        "**Steps:**\n",
        "1. Load historical stock price data.\n",
        "2. Calculate key risk metrics (VaR, CVaR, beta).\n",
        "3. Visualize the metrics using a dashboard layout.\n"
      ]
    },
    {
      "cell_type": "markdown",
      "metadata": {
        "id": "s7etRfMd8h41"
      },
      "source": [
        "## Installing Required Libraries\n",
        "\n",
        "Before running the code, make sure to install the necessary libraries. We need `dash` for creating the dashboard and `yfinance` to download the historical stock data from Yahoo Finance.\n"
      ]
    },
    {
      "cell_type": "code",
      "execution_count": null,
      "metadata": {
        "id": "huWS6wD58h42",
        "outputId": "d7b8c4e8-e967-4dc3-95f7-5a71045434f5"
      },
      "outputs": [
        {
          "name": "stdout",
          "output_type": "stream",
          "text": [
            "Note: you may need to restart the kernel to use updated packages.\n"
          ]
        },
        {
          "name": "stderr",
          "output_type": "stream",
          "text": [
            "WARNING: Ignoring invalid distribution -rotobuf (c:\\python\\lib\\site-packages)\n",
            "WARNING: Ignoring invalid distribution -rotobuf (c:\\python\\lib\\site-packages)\n",
            "\n",
            "[notice] A new release of pip is available: 23.1.2 -> 24.2\n",
            "[notice] To update, run: python.exe -m pip install --upgrade pip\n"
          ]
        },
        {
          "name": "stdout",
          "output_type": "stream",
          "text": [
            "Note: you may need to restart the kernel to use updated packages.\n"
          ]
        },
        {
          "name": "stderr",
          "output_type": "stream",
          "text": [
            "WARNING: Ignoring invalid distribution -rotobuf (c:\\python\\lib\\site-packages)\n",
            "WARNING: Ignoring invalid distribution -rotobuf (c:\\python\\lib\\site-packages)\n",
            "\n",
            "[notice] A new release of pip is available: 23.1.2 -> 24.2\n",
            "[notice] To update, run: python.exe -m pip install --upgrade pip\n"
          ]
        }
      ],
      "source": [
        "%pip install -q dash\n",
        "%pip install -q yfinance\n"
      ]
    },
    {
      "cell_type": "markdown",
      "metadata": {
        "id": "clFs7TdK8h42"
      },
      "source": [
        "## Downloading Historical Stock Data\n",
        "\n",
        "We'll use the `yfinance` library to download the historical stock data for specific tickers and save it as a CSV file.\n"
      ]
    },
    {
      "cell_type": "code",
      "execution_count": null,
      "metadata": {
        "id": "WGWwOiVW8h42",
        "outputId": "3e0107c6-97ee-4394-cd66-445d9098cffc"
      },
      "outputs": [
        {
          "name": "stderr",
          "output_type": "stream",
          "text": [
            "[*********************100%%**********************]  5 of 5 completed\n"
          ]
        },
        {
          "data": {
            "text/html": [
              "<div>\n",
              "<style scoped>\n",
              "    .dataframe tbody tr th:only-of-type {\n",
              "        vertical-align: middle;\n",
              "    }\n",
              "\n",
              "    .dataframe tbody tr th {\n",
              "        vertical-align: top;\n",
              "    }\n",
              "\n",
              "    .dataframe thead th {\n",
              "        text-align: right;\n",
              "    }\n",
              "</style>\n",
              "<table border=\"1\" class=\"dataframe\">\n",
              "  <thead>\n",
              "    <tr style=\"text-align: right;\">\n",
              "      <th>Ticker</th>\n",
              "      <th>AAPL</th>\n",
              "      <th>AMZN</th>\n",
              "      <th>GOOGL</th>\n",
              "      <th>MSFT</th>\n",
              "      <th>TSLA</th>\n",
              "    </tr>\n",
              "    <tr>\n",
              "      <th>Date</th>\n",
              "      <th></th>\n",
              "      <th></th>\n",
              "      <th></th>\n",
              "      <th></th>\n",
              "      <th></th>\n",
              "    </tr>\n",
              "  </thead>\n",
              "  <tbody>\n",
              "    <tr>\n",
              "      <th>2020-01-02</th>\n",
              "      <td>72.876106</td>\n",
              "      <td>94.900497</td>\n",
              "      <td>68.355545</td>\n",
              "      <td>153.938187</td>\n",
              "      <td>28.684000</td>\n",
              "    </tr>\n",
              "    <tr>\n",
              "      <th>2020-01-03</th>\n",
              "      <td>72.167625</td>\n",
              "      <td>93.748497</td>\n",
              "      <td>67.997955</td>\n",
              "      <td>152.021393</td>\n",
              "      <td>29.534000</td>\n",
              "    </tr>\n",
              "    <tr>\n",
              "      <th>2020-01-06</th>\n",
              "      <td>72.742661</td>\n",
              "      <td>95.143997</td>\n",
              "      <td>69.810379</td>\n",
              "      <td>152.414383</td>\n",
              "      <td>30.102667</td>\n",
              "    </tr>\n",
              "    <tr>\n",
              "      <th>2020-01-07</th>\n",
              "      <td>72.400551</td>\n",
              "      <td>95.343002</td>\n",
              "      <td>69.675537</td>\n",
              "      <td>151.024658</td>\n",
              "      <td>31.270666</td>\n",
              "    </tr>\n",
              "    <tr>\n",
              "      <th>2020-01-08</th>\n",
              "      <td>73.565193</td>\n",
              "      <td>94.598503</td>\n",
              "      <td>70.171463</td>\n",
              "      <td>153.430252</td>\n",
              "      <td>32.809334</td>\n",
              "    </tr>\n",
              "  </tbody>\n",
              "</table>\n",
              "</div>"
            ],
            "text/plain": [
              "Ticker           AAPL       AMZN      GOOGL        MSFT       TSLA\n",
              "Date                                                              \n",
              "2020-01-02  72.876106  94.900497  68.355545  153.938187  28.684000\n",
              "2020-01-03  72.167625  93.748497  67.997955  152.021393  29.534000\n",
              "2020-01-06  72.742661  95.143997  69.810379  152.414383  30.102667\n",
              "2020-01-07  72.400551  95.343002  69.675537  151.024658  31.270666\n",
              "2020-01-08  73.565193  94.598503  70.171463  153.430252  32.809334"
            ]
          },
          "execution_count": 2,
          "metadata": {},
          "output_type": "execute_result"
        }
      ],
      "source": [
        "import yfinance as yf\n",
        "import pandas as pd\n",
        "\n",
        "# List of stock tickers\n",
        "tickers = ['AAPL', 'AMZN', 'GOOGL', 'MSFT', 'TSLA']\n",
        "\n",
        "# Download historical data for selected tickers\n",
        "data = yf.download(tickers, start='2020-01-01', end='2023-01-01')['Adj Close']\n",
        "\n",
        "# Save the data to a CSV file\n",
        "data.to_csv('historical_stock_prices.csv')\n",
        "\n",
        "# Display the first few rows of the data\n",
        "data.head()\n"
      ]
    },
    {
      "cell_type": "code",
      "execution_count": null,
      "metadata": {
        "id": "zBy4jNZV8h43",
        "outputId": "f36b9950-1228-4c43-bfe8-730890995c32"
      },
      "outputs": [
        {
          "name": "stderr",
          "output_type": "stream",
          "text": [
            "C:\\Users\\luisl\\AppData\\Local\\Temp/ipykernel_33904/3272841324.py:2: UserWarning: \n",
            "The dash_core_components package is deprecated. Please replace\n",
            "`import dash_core_components as dcc` with `from dash import dcc`\n",
            "  import dash_core_components as dcc\n",
            "C:\\Users\\luisl\\AppData\\Local\\Temp/ipykernel_33904/3272841324.py:3: UserWarning: \n",
            "The dash_html_components package is deprecated. Please replace\n",
            "`import dash_html_components as html` with `from dash import html`\n",
            "  import dash_html_components as html\n"
          ]
        },
        {
          "data": {
            "text/html": [
              "\n",
              "        <iframe\n",
              "            width=\"100%\"\n",
              "            height=\"650\"\n",
              "            src=\"http://127.0.0.1:8050/\"\n",
              "            frameborder=\"0\"\n",
              "            allowfullscreen\n",
              "            \n",
              "        ></iframe>\n",
              "        "
            ],
            "text/plain": [
              "<IPython.lib.display.IFrame at 0x1a351517520>"
            ]
          },
          "metadata": {},
          "output_type": "display_data"
        }
      ],
      "source": [
        "import dash\n",
        "import dash_core_components as dcc\n",
        "import dash_html_components as html\n",
        "from dash.dependencies import Input, Output\n",
        "import numpy as np\n",
        "import pandas as pd\n",
        "\n",
        "# Load dataset\n",
        "data = pd.read_csv('historical_stock_prices.csv', index_col='Date', parse_dates=True)\n",
        "prices = data['AAPL']  # Example: using AAPL data\n",
        "\n",
        "# Calculate risk metrics\n",
        "returns = prices.pct_change().dropna()\n",
        "VaR_95 = np.percentile(returns, 5)\n",
        "CVaR_95 = returns[returns < VaR_95].mean()\n",
        "covariance = np.cov(returns, returns)[0][1]\n",
        "market_variance = np.var(returns)\n",
        "beta = covariance / market_variance\n",
        "\n",
        "# Create Dash app\n",
        "app = dash.Dash(__name__)\n",
        "\n",
        "app.layout = html.Div([\n",
        "    html.H1(\"Risk Dashboard\"),\n",
        "    dcc.Graph(\n",
        "        id='returns-histogram',\n",
        "        figure={\n",
        "            'data': [\n",
        "                {'x': returns, 'type': 'histogram', 'name': 'Returns'},\n",
        "            ],\n",
        "            'layout': {\n",
        "                'title': 'Distribution of Stock Returns',\n",
        "                'shapes': [\n",
        "                    {\n",
        "                        'type': 'line', 'x0': VaR_95, 'x1': VaR_95, 'y0': 0, 'y1': 1,\n",
        "                        'xref': 'x', 'yref': 'paper',\n",
        "                        'line': {'color': 'red', 'width': 2, 'dash': 'dash'}\n",
        "                    }\n",
        "                ]\n",
        "            }\n",
        "        }\n",
        "    ),\n",
        "    html.Div([\n",
        "        html.H3(f\"VaR (95%): {VaR_95:.4f}\"),\n",
        "        html.H3(f\"CVaR (95%): {CVaR_95:.4f}\"),\n",
        "        html.H3(f\"Beta: {beta:.4f}\"),\n",
        "    ])\n",
        "])\n",
        "\n",
        "if __name__ == '__main__':\n",
        "    app.run_server(debug=True)\n"
      ]
    },
    {
      "cell_type": "markdown",
      "metadata": {
        "id": "bHuMkk1K8h43"
      },
      "source": [
        "### Risk Dashboard Output\n",
        "\n",
        "The dashboard provides key risk metrics for the selected stock portfolio:\n",
        "\n",
        "- **VaR (95%)**: The Value at Risk (VaR) at the 95% confidence level is -0.0348. This means that there is a 5% chance that the portfolio could lose at least 3.48% of its value in a single day based on historical data.\n",
        "  \n",
        "- **CVaR (95%)**: The Conditional Value at Risk (CVaR) at the 95% confidence level is -0.0509. CVaR estimates the expected loss assuming that the loss exceeds the VaR threshold. This implies that, on average, the loss could be 5.09% on the worst 5% of days.\n",
        "  \n",
        "- **Beta**: The Beta value of 1.0013 indicates that the portfolio has a volatility similar to the overall market (S&P 500), meaning the portfolio's movements are expected to be in line with the market.\n",
        "\n",
        "The histogram in the dashboard visualizes the distribution of daily returns for the portfolio, with the red dashed line indicating the VaR threshold at the 95% confidence level.\n"
      ]
    }
  ],
  "metadata": {
    "kernelspec": {
      "display_name": "Python 3",
      "language": "python",
      "name": "python3"
    },
    "language_info": {
      "codemirror_mode": {
        "name": "ipython",
        "version": 3
      },
      "file_extension": ".py",
      "mimetype": "text/x-python",
      "name": "python",
      "nbconvert_exporter": "python",
      "pygments_lexer": "ipython3",
      "version": "3.10.1"
    },
    "colab": {
      "provenance": [],
      "include_colab_link": true
    }
  },
  "nbformat": 4,
  "nbformat_minor": 0
}