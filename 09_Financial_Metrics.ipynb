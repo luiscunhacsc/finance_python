{
 "cells": [
  {
   "cell_type": "code",
   "execution_count": null,
   "metadata": {},
   "outputs": [
    {
     "ename": "",
     "evalue": "",
     "output_type": "error",
     "traceback": [
      "\u001b[1;31mRunning cells with 'LocalColab_may2024 (Python 3.10.14)' requires the ipykernel package.\n",
      "\u001b[1;31mRun the following command to install 'ipykernel' into the Python environment. \n",
      "\u001b[1;31mCommand: 'conda install -p c:\\Users\\luisl\\.conda\\envs\\LocalColab_may2024 ipykernel --update-deps --force-reinstall'"
     ]
    }
   ],
   "source": [
    "import pandas as pd\n",
    "import numpy as np\n",
    "\n",
    "# Sample financial data\n",
    "data = {\n",
    "    'Revenue': 500000,\n",
    "    'Gross Profit': 200000,\n",
    "    'Operating Income': 100000,\n",
    "    'Net Income': 50000,\n",
    "    'Total Assets': 400000,\n",
    "    'Current Assets': 150000,\n",
    "    'Current Liabilities': 100000,\n",
    "    'Total Debt': 100000,\n",
    "    'Shareholders Equity': 200000,\n",
    "    'Inventory': 50000,\n",
    "    'Cash and Cash Equivalents': 30000,\n",
    "    'Shares Outstanding': 10000,\n",
    "    'Stock Price': 30,\n",
    "    'Interest Expense': 20000,\n",
    "    'Average Accounts Receivable': 50000,\n",
    "    'Annual Dividends per Share': 1.50\n",
    "}\n",
    "\n",
    "# Convert data to a DataFrame\n",
    "df = pd.DataFrame(data, index=[0])\n",
    "\n",
    "# Define functions to calculate financial metrics\n",
    "def calculate_profitability_metrics(df):\n",
    "    df['Gross Profit Margin'] = (df['Gross Profit'] / df['Revenue']) * 100\n",
    "    df['Operating Margin'] = (df['Operating Income'] / df['Revenue']) * 100\n",
    "    df['Net Profit Margin'] = (df['Net Income'] / df['Revenue']) * 100\n",
    "    df['ROE'] = (df['Net Income'] / df['Shareholders Equity']) * 100\n",
    "    return df\n",
    "\n",
    "def calculate_liquidity_metrics(df):\n",
    "    df['Current Ratio'] = df['Current Assets'] / df['Current Liabilities']\n",
    "    df['Quick Ratio'] = (df['Current Assets'] - df['Inventory']) / df['Current Liabilities']\n",
    "    df['Cash Ratio'] = df['Cash and Cash Equivalents'] / df['Current Liabilities']\n",
    "    return df\n",
    "\n",
    "def calculate_solvency_metrics(df):\n",
    "    df['Debt-to-Equity Ratio'] = df['Total Debt'] / df['Shareholders Equity']\n",
    "    df['Interest Coverage Ratio'] = df['Operating Income'] / df['Interest Expense']\n",
    "    df['Debt Ratio'] = df['Total Debt'] / df['Total Assets']\n",
    "    return df\n",
    "\n",
    "def calculate_efficiency_metrics(df):\n",
    "    df['Asset Turnover Ratio'] = df['Revenue'] / df['Total Assets']\n",
    "    df['Inventory Turnover Ratio'] = df['Revenue'] / df['Inventory']\n",
    "    df['Receivables Turnover Ratio'] = df['Revenue'] / df['Average Accounts Receivable']\n",
    "    return df\n",
    "\n",
    "def calculate_valuation_metrics(df):\n",
    "    df['P/E Ratio'] = df['Stock Price'] / (df['Net Income'] / df['Shares Outstanding'])\n",
    "    df['P/B Ratio'] = df['Stock Price'] / (df['Shareholders Equity'] / df['Shares Outstanding'])\n",
    "    df['Dividend Yield'] = (df['Annual Dividends per Share'] / df['Stock Price']) * 100\n",
    "    df['EPS'] = df['Net Income'] / df['Shares Outstanding']\n",
    "    return df\n",
    "\n",
    "# Calculate all metrics\n",
    "df = calculate_profitability_metrics(df)\n",
    "df = calculate_liquidity_metrics(df)\n",
    "df = calculate_solvency_metrics(df)\n",
    "df = calculate_efficiency_metrics(df)\n",
    "df = calculate_valuation_metrics(df)\n",
    "\n",
    "# Display the calculated metrics\n",
    "print(df.T)\n"
   ]
  }
 ],
 "metadata": {
  "kernelspec": {
   "display_name": "Python 3",
   "language": "python",
   "name": "python3"
  },
  "language_info": {
   "name": "python",
   "version": "3.10.14"
  }
 },
 "nbformat": 4,
 "nbformat_minor": 2
}
