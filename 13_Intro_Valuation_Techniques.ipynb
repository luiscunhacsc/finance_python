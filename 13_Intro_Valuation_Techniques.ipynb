{
  "cells": [
    {
      "cell_type": "markdown",
      "metadata": {
        "id": "view-in-github",
        "colab_type": "text"
      },
      "source": [
        "<a href=\"https://colab.research.google.com/github/luiscunhacsc/finance_python/blob/main/13_Intro_Valuation_Techniques.ipynb\" target=\"_parent\"><img src=\"https://colab.research.google.com/assets/colab-badge.svg\" alt=\"Open In Colab\"/></a>"
      ]
    },
    {
      "cell_type": "markdown",
      "metadata": {
        "id": "4FICLJKg7zP4"
      },
      "source": [
        "# Introduction to Valuation Techniques\n",
        "\n",
        "**Purpose**: Determine the intrinsic value of financial assets.\n",
        "\n",
        "**Types of Assets**: Bonds and stocks.\n",
        "\n",
        "**Importance**: Helps investors make informed investment decisions.\n"
      ]
    },
    {
      "cell_type": "markdown",
      "metadata": {
        "id": "FcSRFfW_7zP5"
      },
      "source": [
        "## Valuation of Bonds\n",
        "\n",
        "**Definition**: The present value of a bond's future cash flows (coupon payments and face value).\n",
        "\n",
        "### Formula:\n",
        "$$\n",
        "PV = \\sum \\left(\\frac{C}{(1+r)^t}\\right) + \\frac{F}{(1+r)^T}\n",
        "$$\n",
        "\n",
        "### Components:\n",
        "- **C**: Coupon payment\n",
        "- **r**: Discount rate (yield)\n",
        "- **t**: Time period\n",
        "- **F**: Face value (par value)\n",
        "- **T**: Maturity period\n"
      ]
    },
    {
      "cell_type": "markdown",
      "metadata": {
        "id": "HodTkdBe7zP5"
      },
      "source": [
        "## Practical Example: Bond Valuation\n",
        "\n",
        "### Scenario:\n",
        "Valuate a bond with a face value of $1,000, an annual coupon rate of 5%, a maturity of 10 years, and a yield of 4%.\n",
        "\n",
        "### Steps:\n",
        "1. Calculate the present value of coupon payments.\n",
        "2. Calculate the present value of the face value.\n",
        "3. Sum the present values to determine the bond's price.\n"
      ]
    },
    {
      "cell_type": "code",
      "execution_count": null,
      "metadata": {
        "id": "nsYKEoRF7zP6",
        "outputId": "9383dc06-e4c5-4b25-ce56-910ea95c4655"
      },
      "outputs": [
        {
          "name": "stdout",
          "output_type": "stream",
          "text": [
            "Bond Price: $1081.11\n"
          ]
        }
      ],
      "source": [
        "import numpy as np\n",
        "\n",
        "# Given data\n",
        "face_value = 1000\n",
        "coupon_rate = 0.05\n",
        "maturity_years = 10\n",
        "yield_rate = 0.04\n",
        "\n",
        "# Annual coupon payment\n",
        "coupon_payment = face_value * coupon_rate\n",
        "\n",
        "# Present value of coupon payments\n",
        "pv_coupons = sum([coupon_payment / (1 + yield_rate) ** t for t in range(1, maturity_years + 1)])\n",
        "\n",
        "# Present value of face value\n",
        "pv_face_value = face_value / (1 + yield_rate) ** maturity_years\n",
        "\n",
        "# Bond price\n",
        "bond_price = pv_coupons + pv_face_value\n",
        "\n",
        "print(f\"Bond Price: ${bond_price:.2f}\")\n"
      ]
    },
    {
      "cell_type": "markdown",
      "metadata": {
        "id": "R6s1Bo0S7zP6"
      },
      "source": [
        "## Valuation of Stocks\n",
        "\n",
        "**Intrinsic Value**: The present value of expected future cash flows (dividends).\n",
        "\n",
        "### Models:\n",
        "- **Dividend Discount Model (DDM)**:\n",
        "$$\n",
        "P_0 = \\frac{D_1}{r-g}\n",
        "$$\n",
        "\n",
        "- **Discounted Cash Flow (DCF)**:\n",
        "$$\n",
        "PV = \\sum \\left(\\frac{CF_t}{(1+r)^t}\\right)\n",
        "$$\n",
        "\n",
        "### Components:\n",
        "- **D_1**: Expected dividend next year\n",
        "- **r**: Required rate of return\n",
        "- **g**: Dividend growth rate\n",
        "- **CF_t**: Cash flow at time \\( t \\)\n",
        "\n"
      ]
    },
    {
      "cell_type": "markdown",
      "metadata": {
        "id": "M7tXJ6o-7zP7"
      },
      "source": [
        "## Practical Example: Stock Valuation Using DDM\n",
        "\n",
        "### Scenario:\n",
        "Valuate a stock with an expected dividend of $3 next year, a required return of 8%, and a growth rate of 5%.\n",
        "\n",
        "### Steps:\n",
        "1. Identify the expected dividend.\n",
        "2. Determine the required rate of return and growth rate.\n",
        "3. Apply the DDM formula to calculate the stock price.\n"
      ]
    },
    {
      "cell_type": "code",
      "execution_count": null,
      "metadata": {
        "id": "ZIeROxdX7zP7",
        "outputId": "0d8da00b-ec2b-4bf8-cc18-9053de879f5a"
      },
      "outputs": [
        {
          "name": "stdout",
          "output_type": "stream",
          "text": [
            "Stock Price (DDM): $100.00\n"
          ]
        }
      ],
      "source": [
        "# Given data\n",
        "expected_dividend = 3\n",
        "required_return = 0.08\n",
        "growth_rate = 0.05\n",
        "\n",
        "# Stock price using DDM\n",
        "stock_price = expected_dividend / (required_return - growth_rate)\n",
        "\n",
        "print(f\"Stock Price (DDM): ${stock_price:.2f}\")\n"
      ]
    },
    {
      "cell_type": "markdown",
      "metadata": {
        "id": "sUIKHkZJ7zP7"
      },
      "source": [
        "## Practical Example: Stock Valuation Using DCF\n",
        "\n",
        "### Scenario:\n",
        "Valuate a stock with projected free cash flows of $5,000, $6,000, and $7,000 over the next three years, and a discount rate of 10%.\n",
        "\n",
        "### Steps:\n",
        "1. Estimate the projected free cash flows.\n",
        "2. Calculate the present value of each cash flow.\n",
        "3. Sum the present values to determine the stock's value.\n"
      ]
    },
    {
      "cell_type": "code",
      "execution_count": null,
      "metadata": {
        "id": "vgVZMC9-7zP8",
        "outputId": "d193cabb-bc2c-4136-ffd5-b137c0004de5"
      },
      "outputs": [
        {
          "name": "stdout",
          "output_type": "stream",
          "text": [
            "Stock Value (DCF): $14763.34\n"
          ]
        }
      ],
      "source": [
        "# Given data\n",
        "cash_flows = [5000, 6000, 7000]\n",
        "discount_rate = 0.10\n",
        "\n",
        "# Calculate present value of cash flows\n",
        "pv_cash_flows = sum([cf / (1 + discount_rate) ** t for t, cf in enumerate(cash_flows, start=1)])\n",
        "\n",
        "print(f\"Stock Value (DCF): ${pv_cash_flows:.2f}\")\n"
      ]
    },
    {
      "cell_type": "markdown",
      "metadata": {
        "id": "Gl_q-YBs7zP9"
      },
      "source": [
        "## Comparison of Valuation Methods\n",
        "\n",
        "**Bonds**: Use the present value of future cash flows (coupons and face value).\n",
        "\n",
        "**Stocks**: Use DDM for dividend-paying stocks and DCF for broader cash flow analysis.\n",
        "\n",
        "**Suitability**:\n",
        "- DDM is ideal for stable, dividend-paying companies.\n",
        "- DCF is versatile for various cash flow scenarios.\n"
      ]
    },
    {
      "cell_type": "code",
      "execution_count": null,
      "metadata": {
        "id": "-Aska1l47zP9",
        "outputId": "34818b98-8776-4b7b-f231-a0b79b11ab57"
      },
      "outputs": [
        {
          "name": "stdout",
          "output_type": "stream",
          "text": [
            "Bond Price: $1081.11\n",
            "Stock Price (DDM): $100.00\n",
            "Stock Price (DCF): $14763.34\n"
          ]
        }
      ],
      "source": [
        "import numpy as np\n",
        "\n",
        "# Bond valuation function\n",
        "def bond_valuation(face_value, coupon_rate, maturity_years, yield_rate):\n",
        "    coupon_payment = face_value * coupon_rate\n",
        "    pv_coupons = sum([coupon_payment / (1 + yield_rate) ** t for t in range(1, maturity_years + 1)])\n",
        "    pv_face_value = face_value / (1 + yield_rate) ** maturity_years\n",
        "    return pv_coupons + pv_face_value\n",
        "\n",
        "# Stock valuation functions\n",
        "def ddm_valuation(expected_dividend, required_return, growth_rate):\n",
        "    return expected_dividend / (required_return - growth_rate)\n",
        "\n",
        "def dcf_valuation(cash_flows, discount_rate):\n",
        "    return sum([cf / (1 + discount_rate) ** t for t, cf in enumerate(cash_flows, start=1)])\n",
        "\n",
        "# Bond example\n",
        "bond_price = bond_valuation(face_value=1000, coupon_rate=0.05, maturity_years=10, yield_rate=0.04)\n",
        "print(f\"Bond Price: ${bond_price:.2f}\")\n",
        "\n",
        "# Stock examples\n",
        "ddm_price = ddm_valuation(expected_dividend=3, required_return=0.08, growth_rate=0.05)\n",
        "dcf_price = dcf_valuation(cash_flows=[5000, 6000, 7000], discount_rate=0.10)\n",
        "print(f\"Stock Price (DDM): ${ddm_price:.2f}\")\n",
        "print(f\"Stock Price (DCF): ${dcf_price:.2f}\")\n"
      ]
    },
    {
      "cell_type": "markdown",
      "metadata": {
        "id": "oUX_0PqH7zP-"
      },
      "source": [
        "## Summary\n",
        "\n",
        "**Valuation Techniques**: Essential for determining the intrinsic value of bonds and stocks.\n",
        "\n",
        "**Bonds**: Use the present value of future cash flows.\n",
        "\n",
        "**Stocks**: Apply DDM for dividend-paying stocks and DCF for broader analysis.\n",
        "\n"
      ]
    }
  ],
  "metadata": {
    "kernelspec": {
      "display_name": "Python 3",
      "language": "python",
      "name": "python3"
    },
    "language_info": {
      "codemirror_mode": {
        "name": "ipython",
        "version": 3
      },
      "file_extension": ".py",
      "mimetype": "text/x-python",
      "name": "python",
      "nbconvert_exporter": "python",
      "pygments_lexer": "ipython3",
      "version": "3.10.1"
    },
    "colab": {
      "provenance": [],
      "include_colab_link": true
    }
  },
  "nbformat": 4,
  "nbformat_minor": 0
}