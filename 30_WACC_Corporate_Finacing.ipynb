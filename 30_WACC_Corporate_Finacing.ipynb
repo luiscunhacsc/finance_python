{
 "cells": [
  {
   "cell_type": "markdown",
   "metadata": {},
   "source": [
    "# Corporate Financing Decisions\n",
    "\n",
    "**Definition**: Decisions regarding the sourcing of funds to finance corporate activities.\n",
    "\n",
    "**Types**:\n",
    "- **Equity Financing**: Issuing shares to raise capital.\n",
    "- **Debt Financing**: Borrowing funds through loans or bonds.\n",
    "- **Hybrid Financing**: Instruments like convertible bonds that have features of both debt and equity.\n",
    "\n",
    "**Considerations**:\n",
    "- **Cost of Capital**: The return expected by those who provide capital.\n",
    "- **Financial Flexibility**: The ability to raise funds on short notice.\n",
    "- **Control**: Dilution of ownership and control over the company.\n"
   ]
  },
  {
   "cell_type": "markdown",
   "metadata": {},
   "source": [
    "# Weighted Average Cost of Capital (WACC)\n",
    "\n",
    "**Definition**: The average rate of return a company is expected to pay its security holders to finance its assets.\n",
    "\n",
    "**Formula**:\n",
    "$ \\text{WACC} = \\frac{E}{V} \\times R_e + \\frac{D}{V} \\times R_d \\times (1 - T_c) $\n",
    "\n",
    "- $ E $: Market value of equity\n",
    "- $ D $: Market value of debt\n",
    "- $ V $: Total market value of equity and debt $ (E + D) $\n",
    "- $ R_e $: Cost of equity\n",
    "- $ R_d $: Cost of debt\n",
    "- $ T_c $: Corporate tax rate\n",
    "\n",
    "**Purpose**: Assess the cost of financing and make investment decisions.\n"
   ]
  },
  {
   "cell_type": "code",
   "execution_count": 3,
   "metadata": {},
   "outputs": [
    {
     "name": "stdout",
     "output_type": "stream",
     "text": [
      "WACC: 0.0827\n"
     ]
    }
   ],
   "source": [
    "# Example data\n",
    "E = 500000   # Market value of equity\n",
    "D = 200000   # Market value of debt\n",
    "Re = 0.10    # Cost of equity (10%)\n",
    "Rd = 0.05    # Cost of debt (5%)\n",
    "Tc = 0.21    # Corporate tax rate (21%)\n",
    "\n",
    "# Calculate WACC\n",
    "V = E + D    # Total market value of equity and debt\n",
    "WACC = (E / V) * Re + (D / V) * Rd * (1 - Tc)\n",
    "print(f\"WACC: {WACC:.4f}\")\n"
   ]
  },
  {
   "cell_type": "markdown",
   "metadata": {},
   "source": [
    "### Explanation of WACC Calculation\n",
    "\n",
    "The Weighted Average Cost of Capital (WACC) is a crucial metric that helps determine a company's cost of capital, which is the average rate it is expected to pay to all its security holders (debt and equity). In this context:\n",
    "\n",
    "- **E (Market value of equity)** and **D (Market value of debt)** are the proportions of the company's capital structure.\n",
    "- **Re (Cost of equity)** is the return required by equity investors.\n",
    "- **Rd (Cost of debt)** is the effective rate that the company pays on its borrowed funds.\n",
    "- **Tc (Corporate tax rate)** accounts for the tax shield provided by debt.\n",
    "\n",
    "The formula used:\n",
    "\n",
    "$$\n",
    "\\text{WACC} = \\left(\\frac{E}{V}\\right) \\times Re + \\left(\\frac{D}{V}\\right) \\times Rd \\times (1 - Tc)\n",
    "$$\n",
    "\n",
    "Where \\( V = E + D \\).\n",
    "\n",
    "In our case, with a market value of equity of $500,000, a market value of debt of $200,000, a cost of equity of 10%, a cost of debt of 5%, and a tax rate of 21%, we calculate the WACC as **0.0827**, or **8.27%**.\n"
   ]
  },
  {
   "cell_type": "markdown",
   "metadata": {},
   "source": [
    "# Capital Structure and Dividend Policy\n",
    "\n",
    "- **Capital Structure**: The mix of debt and equity financing used by a company.\n",
    "- **Trade-Off Theory**: Balances the tax advantages of debt with bankruptcy costs.\n",
    "- **Pecking Order Theory**: Firms prefer internal financing, then debt, and issue equity as a last resort.\n",
    "- **Dividend Policy**: Decisions regarding the distribution of profits to shareholders.\n",
    "- **Residual Dividend Model**: Dividends are based on earnings left after funding all positive NPV projects.\n",
    "- **Stable Dividend Policy**: Consistent dividends regardless of earnings fluctuations.\n"
   ]
  },
  {
   "cell_type": "markdown",
   "metadata": {},
   "source": [
    "# Practical Example: Evaluate the Optimal Capital Structure for a Company\n",
    "\n",
    "**Scenario**: Evaluate the optimal capital structure for a company.\n",
    "\n",
    "**Steps**:\n",
    "1. Analyze the current mix of debt and equity.\n",
    "2. Consider the trade-offs between tax benefits and bankruptcy costs.\n",
    "3. Adjust the capital structure to minimize WACC.\n"
   ]
  },
  {
   "cell_type": "code",
   "execution_count": 4,
   "metadata": {},
   "outputs": [
    {
     "name": "stdout",
     "output_type": "stream",
     "text": [
      "Optimal Debt Ratio: 0.90\n",
      "Minimum WACC: 0.0006\n"
     ]
    }
   ],
   "source": [
    "import numpy as np\n",
    "\n",
    "# Example data\n",
    "debt_ratios = np.arange(0, 1.0, 0.1)  # Exclude 1.0 to avoid division by zero\n",
    "cost_of_debt = 0.05\n",
    "cost_of_equity_base = 0.10\n",
    "tax_rate = 0.21\n",
    "\n",
    "# Function to calculate WACC for different debt ratios\n",
    "def calculate_wacc(debt_ratio):\n",
    "    equity_ratio = 1 - debt_ratio\n",
    "    if equity_ratio == 0:\n",
    "        return np.inf  # Return a very large number if division by zero occurs\n",
    "    cost_of_equity = cost_of_equity_base + (debt_ratio / equity_ratio) * (cost_of_debt - cost_of_equity_base)\n",
    "    wacc = equity_ratio * cost_of_equity + debt_ratio * cost_of_debt * (1 - tax_rate)\n",
    "    return wacc\n",
    "\n",
    "# Calculate WACC for different debt ratios\n",
    "wacc_values = [calculate_wacc(r) for r in debt_ratios]\n",
    "\n",
    "# Find the optimal debt ratio\n",
    "optimal_debt_ratio = debt_ratios[np.argmin(wacc_values)]\n",
    "print(f\"Optimal Debt Ratio: {optimal_debt_ratio:.2f}\")\n",
    "print(f\"Minimum WACC: {min(wacc_values):.4f}\")\n",
    "\n"
   ]
  },
  {
   "cell_type": "markdown",
   "metadata": {},
   "source": [
    "### Explanation of Optimal Debt Ratio Calculation\n",
    "\n",
    "To find the optimal capital structure, the Weighted Average Cost of Capital (WACC) is calculated for different debt ratios, ranging from 0% to 100%. The objective is to identify the debt ratio that minimizes the WACC, hence optimizing the company's capital structure.\n",
    "\n",
    "Key points:\n",
    "\n",
    "- The **equity ratio** is the complement of the debt ratio (1 - debt ratio).\n",
    "- The **cost of equity** increases as the debt ratio increases due to the rising financial risk.\n",
    "- The **optimal debt ratio** is the one that results in the lowest WACC, which indicates the most cost-effective mix of debt and equity financing for the company.\n",
    "\n",
    "In this scenario, the model calculated the **optimal debt ratio** to be **90%**, corresponding to a **minimum WACC of 0.0006**. This suggests that, under the given assumptions, the company should finance its operations primarily with debt to achieve the lowest cost of capital. However, this result should be interpreted with caution, as extremely high debt levels could increase bankruptcy risk.\n"
   ]
  }
 ],
 "metadata": {
  "kernelspec": {
   "display_name": "Python 3",
   "language": "python",
   "name": "python3"
  },
  "language_info": {
   "codemirror_mode": {
    "name": "ipython",
    "version": 3
   },
   "file_extension": ".py",
   "mimetype": "text/x-python",
   "name": "python",
   "nbconvert_exporter": "python",
   "pygments_lexer": "ipython3",
   "version": "3.10.1"
  }
 },
 "nbformat": 4,
 "nbformat_minor": 2
}
