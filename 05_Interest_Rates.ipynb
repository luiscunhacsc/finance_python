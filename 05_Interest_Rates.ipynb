{
  "nbformat": 4,
  "nbformat_minor": 0,
  "metadata": {
    "colab": {
      "provenance": [],
      "authorship_tag": "ABX9TyMJDBbOBksUr4XPqUXAwVx6",
      "include_colab_link": true
    },
    "kernelspec": {
      "name": "python3",
      "display_name": "Python 3"
    },
    "language_info": {
      "name": "python"
    }
  },
  "cells": [
    {
      "cell_type": "markdown",
      "metadata": {
        "id": "view-in-github",
        "colab_type": "text"
      },
      "source": [
        "<a href=\"https://colab.research.google.com/github/luiscunhacsc/finance_python/blob/main/05_Interest_Rates.ipynb\" target=\"_parent\"><img src=\"https://colab.research.google.com/assets/colab-badge.svg\" alt=\"Open In Colab\"/></a>"
      ]
    },
    {
      "cell_type": "code",
      "execution_count": null,
      "metadata": {
        "id": "q7Y_eCwzwVms"
      },
      "outputs": [],
      "source": [
        "import numpy as np\n",
        "\n",
        "# Function to calculate real interest rate using Fisher Equation\n",
        "def calculate_real_rate(nominal_rate, inflation_rate):\n",
        "    return (1 + nominal_rate) / (1 + inflation_rate) - 1\n",
        "\n",
        "# Function to approximate real interest rate\n",
        "def approximate_real_rate(nominal_rate, inflation_rate):\n",
        "    return nominal_rate - inflation_rate\n",
        "\n",
        "# Given data\n",
        "nominal_rate = 0.08\n",
        "inflation_rate = 0.03\n",
        "\n",
        "# Calculations\n",
        "real_rate = calculate_real_rate(nominal_rate, inflation_rate)\n",
        "approx_real_rate = approximate_real_rate(nominal_rate, inflation_rate)\n",
        "\n",
        "# Output results\n",
        "print(f\"Real Interest Rate (Fisher Equation): {real_rate:.4f} or {real_rate*100:.2f}%\")\n",
        "print(f\"Approximate Real Interest Rate: {approx_real_rate:.4f} or {approx_real_rate*100:.2f}%\")\n"
      ]
    }
  ]
}