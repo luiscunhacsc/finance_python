{
  "nbformat": 4,
  "nbformat_minor": 0,
  "metadata": {
    "colab": {
      "provenance": [],
      "authorship_tag": "ABX9TyNRQtyydA6WDUveLSI/YiBt",
      "include_colab_link": true
    },
    "kernelspec": {
      "name": "python3",
      "display_name": "Python 3"
    },
    "language_info": {
      "name": "python"
    }
  },
  "cells": [
    {
      "cell_type": "markdown",
      "metadata": {
        "id": "view-in-github",
        "colab_type": "text"
      },
      "source": [
        "<a href=\"https://colab.research.google.com/github/luiscunhacsc/finance_python/blob/main/03%20TVM_Time_Value_of_Money.ipynb\" target=\"_parent\"><img src=\"https://colab.research.google.com/assets/colab-badge.svg\" alt=\"Open In Colab\"/></a>"
      ]
    },
    {
      "cell_type": "code",
      "execution_count": null,
      "metadata": {
        "id": "_iiI1iAjuf7g"
      },
      "outputs": [],
      "source": [
        "# Function to calculate present value\n",
        "def calculate_pv(fv, r, n):\n",
        "    return fv / (1 + r) ** n\n",
        "\n",
        "# Function to calculate future value\n",
        "def calculate_fv(pv, r, n):\n",
        "    return pv * (1 + r) ** n\n",
        "\n",
        "# Given data\n",
        "fv = 10000\n",
        "r = 0.05\n",
        "n = 3\n",
        "\n",
        "# Calculations\n",
        "pv = calculate_pv(fv, r, n)\n",
        "fv_calculated = calculate_fv(pv, r, n)\n",
        "\n",
        "# Output results\n",
        "print(f\"Present Value: ${pv:.2f}\")\n",
        "print(f\"Future Value: ${fv_calculated:.2f}\")\n"
      ]
    }
  ]
}