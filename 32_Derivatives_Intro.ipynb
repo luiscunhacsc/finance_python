{
 "cells": [
  {
   "cell_type": "markdown",
   "metadata": {},
   "source": [
    "### Introduction to Derivatives\n",
    "\n",
    "**Definition:** Financial instruments whose value is derived from underlying assets.\n",
    "\n",
    "**Types:** Options, futures, forwards, swaps.\n",
    "\n",
    "**Purpose:** Hedging, speculation, and arbitrage.\n"
   ]
  },
  {
   "cell_type": "markdown",
   "metadata": {},
   "source": [
    "### Valuation of Options\n",
    "\n",
    "The Black-Scholes Model is a widely used model for option pricing.\n",
    "\n",
    "#### Formula:\n",
    "\n",
    "$$\n",
    "C = S_0N(d_1) - Xe^{-rT}N(d_2)\n",
    "$$\n",
    "\n",
    "Where:\n",
    "\n",
    "- $C$: Call option price\n",
    "- $S_0$: Current stock price\n",
    "- $X$: Strike price\n",
    "- $T$: Time to maturity\n",
    "- $r$: Risk-free rate\n",
    "- $N$: Cumulative distribution function of the standard normal distribution\n",
    "\n",
    "#### $d_1$ and $d_2$:\n",
    "\n",
    "$$\n",
    "d_1 = \\frac{\\ln(S_0/X) + \\left(r + \\frac{\\sigma^2}{2}\\right)T}{\\sigma \\sqrt{T}}\n",
    "$$\n",
    "\n",
    "$$\n",
    "d_2 = d_1 - \\sigma \\sqrt{T}\n",
    "$$\n"
   ]
  },
  {
   "cell_type": "markdown",
   "metadata": {},
   "source": [
    "### Practical Example\n",
    "\n",
    "**Scenario:** Calculate the price of a call option using the Black-Scholes model.\n",
    "\n",
    "**Steps:**\n",
    "\n",
    "1. Identify the required inputs (stock price, strike price, time to maturity, risk-free rate, volatility).\n",
    "2. Apply the Black-Scholes formula.\n"
   ]
  },
  {
   "cell_type": "code",
   "execution_count": 1,
   "metadata": {},
   "outputs": [
    {
     "name": "stdout",
     "output_type": "stream",
     "text": [
      "Call Option Price: $8.02\n"
     ]
    }
   ],
   "source": [
    "import numpy as np\n",
    "from scipy.stats import norm\n",
    "\n",
    "# Example data\n",
    "S0 = 100  # Current stock price\n",
    "X = 105   # Strike price\n",
    "T = 1     # Time to maturity (1 year)\n",
    "r = 0.05  # Risk-free rate (5%)\n",
    "sigma = 0.20  # Volatility (20%)\n",
    "\n",
    "# Calculate d1 and d2\n",
    "d1 = (np.log(S0 / X) + (r + 0.5 * sigma**2) * T) / (sigma * np.sqrt(T))\n",
    "d2 = d1 - sigma * np.sqrt(T)\n",
    "\n",
    "# Calculate call option price\n",
    "call_price = S0 * norm.cdf(d1) - X * np.exp(-r * T) * norm.cdf(d2)\n",
    "print(f\"Call Option Price: ${call_price:.2f}\")\n"
   ]
  },
  {
   "cell_type": "markdown",
   "metadata": {},
   "source": [
    "### Explanation of the Result\n",
    "\n",
    "The calculated call option price using the Black-Scholes model is **$8.02**. This price represents the cost of the option to buy the underlying asset (stock) at the strike price ($105) one year from now, given the current stock price ($100), the risk-free rate (5%), and the volatility (20%).\n",
    "\n",
    "- **$S_0$**: The current stock price is $100.\n",
    "- **$X$**: The strike price is $105.\n",
    "- **$T$**: The time to maturity is 1 year.\n",
    "- **$r$**: The risk-free rate is 5%.\n",
    "- **$\\sigma$**: The volatility of the stock is 20%.\n",
    "\n",
    "The price of $8.02 indicates the premium an investor must pay today to have the right, but not the obligation, to purchase the stock at $105 in one year. The price is influenced by factors such as the stock's volatility and the time to expiration.\n"
   ]
  }
 ],
 "metadata": {
  "kernelspec": {
   "display_name": "Python 3",
   "language": "python",
   "name": "python3"
  },
  "language_info": {
   "codemirror_mode": {
    "name": "ipython",
    "version": 3
   },
   "file_extension": ".py",
   "mimetype": "text/x-python",
   "name": "python",
   "nbconvert_exporter": "python",
   "pygments_lexer": "ipython3",
   "version": "3.10.1"
  }
 },
 "nbformat": 4,
 "nbformat_minor": 2
}
