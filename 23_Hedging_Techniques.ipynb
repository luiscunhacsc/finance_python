{
  "cells": [
    {
      "cell_type": "markdown",
      "metadata": {
        "id": "view-in-github",
        "colab_type": "text"
      },
      "source": [
        "<a href=\"https://colab.research.google.com/github/luiscunhacsc/finance_python/blob/main/23_Hedging_Techniques.ipynb\" target=\"_parent\"><img src=\"https://colab.research.google.com/assets/colab-badge.svg\" alt=\"Open In Colab\"/></a>"
      ]
    },
    {
      "cell_type": "markdown",
      "metadata": {
        "id": "r9AbK3y44Rse"
      },
      "source": [
        "### Risk Management\n",
        "\n",
        "**Definition:** The process of identifying, assessing, and mitigating financial risks.\n",
        "\n",
        "**Purpose:** Protect investments, ensure financial stability, and optimize returns.\n",
        "\n",
        "**Importance:** Essential for minimizing potential losses and maximizing risk-adjusted returns.\n"
      ]
    },
    {
      "cell_type": "markdown",
      "metadata": {
        "id": "VdqGQZA64Rsf"
      },
      "source": [
        "### Identifying Financial Risks\n",
        "\n",
        "- **Market Risk:** Risk of losses due to changes in market prices (e.g., stock prices, interest rates).\n",
        "- **Credit Risk:** Risk of losses due to a borrower's failure to repay a loan or meet contractual obligations.\n",
        "- **Liquidity Risk:** Risk of being unable to quickly buy or sell assets without significantly affecting their prices.\n",
        "- **Operational Risk:** Risk of losses due to failures in internal processes, systems, or external events.\n"
      ]
    },
    {
      "cell_type": "markdown",
      "metadata": {
        "id": "TI4Xgyot4Rsf"
      },
      "source": [
        "### Assessing Financial Risks\n",
        "\n",
        "**Quantitative Methods:** Use statistical and mathematical models to measure risk.\n",
        "\n",
        "**Qualitative Methods:** Use expert judgment and subjective analysis to assess risk.\n",
        "\n",
        "**Key Metrics:**\n",
        "\n",
        "- **Value at Risk (VaR):** Estimates potential loss over a specific time period at a given confidence level.\n",
        "- **Conditional Value at Risk (CVaR):** Measures the expected loss exceeding the VaR.\n",
        "- **Stress Testing:** Simulates extreme market conditions to assess potential impact on portfolios.\n"
      ]
    },
    {
      "cell_type": "markdown",
      "metadata": {
        "id": "ZZVP2CmQ4Rsg"
      },
      "source": [
        "### Practical Example\n",
        "\n",
        "**Scenario:** Calculate the 1-day VaR at a 95% confidence level for a stock portfolio.\n",
        "\n",
        "**Steps:** Load historical stock price data. Calculate daily returns. Compute the VaR using the historical simulation method.\n",
        "\n"
      ]
    },
    {
      "cell_type": "code",
      "execution_count": null,
      "metadata": {
        "id": "sPsKny0x4Rsg",
        "outputId": "12caaca2-8ad0-4881-b975-eea864754f6b"
      },
      "outputs": [
        {
          "name": "stdout",
          "output_type": "stream",
          "text": [
            "Note: you may need to restart the kernel to use updated packages.\n"
          ]
        },
        {
          "name": "stderr",
          "output_type": "stream",
          "text": [
            "WARNING: Ignoring invalid distribution -rotobuf (c:\\python\\lib\\site-packages)\n",
            "WARNING: Ignoring invalid distribution -rotobuf (c:\\python\\lib\\site-packages)\n",
            "\n",
            "[notice] A new release of pip is available: 23.1.2 -> 24.2\n",
            "[notice] To update, run: python.exe -m pip install --upgrade pip\n"
          ]
        }
      ],
      "source": [
        "%pip install -q yfinance"
      ]
    },
    {
      "cell_type": "code",
      "execution_count": null,
      "metadata": {
        "id": "oOjz976Y4Rsh",
        "outputId": "75c489bf-82b5-43ef-d7b6-d6b805dd9cd1"
      },
      "outputs": [
        {
          "name": "stderr",
          "output_type": "stream",
          "text": [
            "[*********************100%%**********************]  5 of 5 completed\n"
          ]
        }
      ],
      "source": [
        "import yfinance as yf\n",
        "\n",
        "# Define the stock tickers\n",
        "tickers = ['AAPL', 'MSFT', 'GOOGL', 'AMZN', 'TSLA']\n",
        "\n",
        "# Download historical data\n",
        "data = yf.download(tickers, start='2020-01-01', end='2023-01-01')\n",
        "\n",
        "# Keep only the 'Adj Close' prices\n",
        "adj_close_data = data['Adj Close']\n",
        "\n",
        "# Save the data to a CSV file\n",
        "adj_close_data.to_csv('historical_stock_prices.csv')"
      ]
    },
    {
      "cell_type": "code",
      "execution_count": null,
      "metadata": {
        "id": "k3GOlY-Z4Rsh",
        "outputId": "e8a2bc3f-a561-4051-8065-5c8baf05724a"
      },
      "outputs": [
        {
          "name": "stdout",
          "output_type": "stream",
          "text": [
            "1-day VaR (95% confidence level): -0.0348\n"
          ]
        },
        {
          "data": {
            "image/png": "[encoded data removed]",
            "text/plain": [
              "<Figure size 720x360 with 1 Axes>"
            ]
          },
          "metadata": {
            "needs_background": "light"
          },
          "output_type": "display_data"
        }
      ],
      "source": [
        "import numpy as np\n",
        "import pandas as pd\n",
        "import matplotlib.pyplot as plt\n",
        "import seaborn as sns\n",
        "\n",
        "# Load dataset\n",
        "data = pd.read_csv('historical_stock_prices.csv', index_col='Date', parse_dates=True)\n",
        "prices = data['AAPL']  # Adjust this to any other stock ticker if needed\n",
        "\n",
        "# Calculate daily returns\n",
        "returns = prices.pct_change().dropna()\n",
        "\n",
        "# Calculate VaR (95% confidence level)\n",
        "VaR_95 = np.percentile(returns, 5)\n",
        "\n",
        "# Display the VaR\n",
        "print(f\"1-day VaR (95% confidence level): {VaR_95:.4f}\")\n",
        "\n",
        "# Visualize returns with VaR\n",
        "plt.figure(figsize=(10, 5))\n",
        "sns.histplot(returns, bins=50, kde=True)\n",
        "plt.axvline(x=VaR_95, color='red', linestyle='--', label=f'VaR (95%): {VaR_95:.4f}')\n",
        "plt.xlabel('Returns')\n",
        "plt.ylabel('Frequency')\n",
        "plt.title('Distribution of AAPL Returns with VaR')\n",
        "plt.legend()\n",
        "plt.grid(True)\n",
        "plt.show()\n"
      ]
    },
    {
      "cell_type": "code",
      "execution_count": null,
      "metadata": {
        "id": "IA6zMlEu4Rsh",
        "outputId": "82c1d216-38ee-4669-87ad-882e5f6a2b1f"
      },
      "outputs": [
        {
          "name": "stdout",
          "output_type": "stream",
          "text": [
            "1-day VaR (95% confidence level): -0.0371\n"
          ]
        },
        {
          "data": {
            "image/png": "[encoded data removed]",
            "text/plain": [
              "<Figure size 720x360 with 1 Axes>"
            ]
          },
          "metadata": {
            "needs_background": "light"
          },
          "output_type": "display_data"
        }
      ],
      "source": [
        "import numpy as np\n",
        "import pandas as pd\n",
        "import matplotlib.pyplot as plt\n",
        "import seaborn as sns\n",
        "\n",
        "# Load dataset\n",
        "data = pd.read_csv('historical_stock_prices.csv', index_col='Date', parse_dates=True)\n",
        "\n",
        "# Calculate daily returns for the entire portfolio (average of all stocks)\n",
        "returns = data.pct_change().dropna().mean(axis=1)\n",
        "\n",
        "# Calculate VaR (95% confidence level)\n",
        "VaR_95 = np.percentile(returns, 5)\n",
        "\n",
        "# Display the VaR\n",
        "print(f\"1-day VaR (95% confidence level): {VaR_95:.4f}\")\n",
        "\n",
        "# Visualize returns with VaR\n",
        "plt.figure(figsize=(10, 5))\n",
        "sns.histplot(returns, bins=50, kde=True)\n",
        "plt.axvline(x=VaR_95, color='red', linestyle='--', label=f'VaR (95%): {VaR_95:.4f}')\n",
        "plt.xlabel('Returns')\n",
        "plt.ylabel('Frequency')\n",
        "plt.title('Distribution of Portfolio Returns with VaR')\n",
        "plt.legend()\n",
        "plt.grid(True)\n",
        "plt.show()\n"
      ]
    },
    {
      "cell_type": "markdown",
      "metadata": {
        "id": "3jecnSA44Rsi"
      },
      "source": [
        "### Hedging Techniques\n",
        "\n",
        "**Definition:** Using financial instruments to offset potential losses in an investment.\n",
        "\n",
        "**Instruments:**\n",
        "\n",
        "- **Derivatives:** Options, futures, and swaps.\n",
        "- **Insurance:** Policies to cover specific risks.\n",
        "- **Diversification:** Spreading investments across different assets.\n",
        "\n",
        "**Purpose:** Mitigate risk and stabilize returns.\n"
      ]
    },
    {
      "cell_type": "markdown",
      "metadata": {
        "id": "R290h4YB4Rsi"
      },
      "source": [
        "### Practical Example\n",
        "\n",
        "**Scenario:** Use put options to hedge against a potential decline in stock prices.\n",
        "\n",
        "**Steps:** Determine the number of put options needed. Calculate the cost of the options. Assess the impact on the portfolio.\n"
      ]
    },
    {
      "cell_type": "code",
      "execution_count": null,
      "metadata": {
        "id": "pkyWNVVx4Rsi",
        "outputId": "316989ec-9119-4e40-ae58-efe727e3fa7a"
      },
      "outputs": [
        {
          "name": "stdout",
          "output_type": "stream",
          "text": [
            "Total Cost of Options: $2000.00\n",
            "Potential Payoff if Stock Price Drops to Strike Price: $-5000.00\n",
            "Net Cost: $7000.00\n"
          ]
        }
      ],
      "source": [
        "# Example data\n",
        "stock_price = 100  # Current stock price\n",
        "strike_price = 95  # Strike price of the put option\n",
        "option_premium = 2  # Premium of the put option\n",
        "num_shares = 1000  # Number of shares in the portfolio\n",
        "\n",
        "# Calculate the number of put options needed\n",
        "num_options = num_shares / 100  # Assuming each option covers 100 shares\n",
        "\n",
        "# Calculate the total cost of the options\n",
        "total_cost = num_options * option_premium * 100\n",
        "\n",
        "# Calculate potential payoff if stock price drops to strike price\n",
        "potential_payoff = (strike_price - stock_price) * num_shares\n",
        "net_cost = total_cost - potential_payoff\n",
        "\n",
        "print(f\"Total Cost of Options: ${total_cost:.2f}\")\n",
        "print(f\"Potential Payoff if Stock Price Drops to Strike Price: ${potential_payoff:.2f}\")\n",
        "print(f\"Net Cost: ${net_cost:.2f}\")\n"
      ]
    },
    {
      "cell_type": "markdown",
      "metadata": {
        "id": "jAPez5Ub4Rsj"
      },
      "source": [
        "### Stress Testing and Scenario Analysis\n",
        "\n",
        "**Stress Testing:** Evaluates the impact of extreme market conditions on a portfolio.\n",
        "\n",
        "**Scenario Analysis:** Assesses the impact of specific hypothetical events on a portfolio.\n",
        "\n",
        "**Purpose:** Identify vulnerabilities and prepare for adverse market conditions.\n"
      ]
    },
    {
      "cell_type": "markdown",
      "metadata": {
        "id": "CR39ApAg4Rsj"
      },
      "source": [
        "### Practical Example\n",
        "\n",
        "**Scenario:** Assess the impact of a market crash on a stock portfolio.\n",
        "\n",
        "**Steps:** Load historical stock price data. Define a stress scenario (e.g., 30% market crash). Calculate the potential impact on the portfolio.\n",
        "\n"
      ]
    },
    {
      "cell_type": "code",
      "execution_count": null,
      "metadata": {
        "id": "C3k_i-iF4Rsj",
        "outputId": "a78c5d58-267c-4ceb-8815-4b19ab4a6627"
      },
      "outputs": [
        {
          "name": "stdout",
          "output_type": "stream",
          "text": [
            "Initial Portfolio Value: $12871.93\n",
            "Portfolio Value After Stress Scenario: $9010.35\n",
            "Potential Loss: $3861.58\n"
          ]
        },
        {
          "data": {
            "image/png": "[encoded data removed]",
            "text/plain": [
              "<Figure size 720x360 with 1 Axes>"
            ]
          },
          "metadata": {
            "needs_background": "light"
          },
          "output_type": "display_data"
        }
      ],
      "source": [
        "import numpy as np\n",
        "import pandas as pd\n",
        "import matplotlib.pyplot as plt\n",
        "\n",
        "# Load dataset\n",
        "data = pd.read_csv('historical_stock_prices.csv', index_col='Date', parse_dates=True)\n",
        "prices = data['AAPL']  # Adjust this to any other stock ticker if needed\n",
        "\n",
        "# Define the number of shares in the portfolio\n",
        "num_shares = 100  # Example: 100 shares\n",
        "\n",
        "# Define a stress scenario (30% market crash)\n",
        "stress_scenario = -0.30\n",
        "\n",
        "# Calculate potential impact on the portfolio\n",
        "initial_value = prices[-1] * num_shares\n",
        "stress_value = initial_value * (1 + stress_scenario)\n",
        "potential_loss = initial_value - stress_value\n",
        "\n",
        "print(f\"Initial Portfolio Value: ${initial_value:.2f}\")\n",
        "print(f\"Portfolio Value After Stress Scenario: ${stress_value:.2f}\")\n",
        "print(f\"Potential Loss: ${potential_loss:.2f}\")\n",
        "\n",
        "# Visualize the impact\n",
        "plt.figure(figsize=(10, 5))\n",
        "plt.bar(['Initial Value', 'Stress Value'], [initial_value, stress_value], color=['blue', 'red'])\n",
        "plt.xlabel('Scenario')\n",
        "plt.ylabel('Portfolio Value')\n",
        "plt.title('Impact of Market Crash on Portfolio Value (AAPL)')\n",
        "plt.grid(True)\n",
        "plt.show()\n",
        "\n"
      ]
    },
    {
      "cell_type": "markdown",
      "metadata": {
        "id": "qXml0Fkf4Rsk"
      },
      "source": [
        "### Explanation of Stress Test Result\n",
        "\n",
        "In this analysis, we simulated a 30% market crash scenario and evaluated its impact on a portfolio consisting of Apple (AAPL) stock.\n",
        "\n",
        "- **Initial Portfolio Value:** The portfolio's value before the market crash was \\$12,871.93.\n",
        "- **Portfolio Value After Stress Scenario:** After the market crash, the portfolio's value dropped to \\$9,010.35.\n",
        "- **Potential Loss:** The portfolio would incur a loss of \\$3,861.58 in this scenario.\n",
        "\n",
        "The bar chart visually represents the comparison between the initial portfolio value and the value after the stress scenario, highlighting the significant potential loss in the event of a severe market downturn.\n"
      ]
    },
    {
      "cell_type": "code",
      "execution_count": null,
      "metadata": {
        "id": "IrCtV69d4Rsk",
        "outputId": "6e3a34e6-f9b8-4769-9f10-1444b3a20c57"
      },
      "outputs": [
        {
          "name": "stdout",
          "output_type": "stream",
          "text": [
            "Initial Portfolio Value: $66044.83\n",
            "Portfolio Value After Stress Scenario: $46231.38\n",
            "Potential Loss: $19813.45\n"
          ]
        },
        {
          "data": {
            "image/png": "[encoded data removed]",
            "text/plain": [
              "<Figure size 720x360 with 1 Axes>"
            ]
          },
          "metadata": {
            "needs_background": "light"
          },
          "output_type": "display_data"
        }
      ],
      "source": [
        "import numpy as np\n",
        "import pandas as pd\n",
        "import matplotlib.pyplot as plt\n",
        "\n",
        "# Load dataset\n",
        "data = pd.read_csv('historical_stock_prices.csv', index_col='Date', parse_dates=True)\n",
        "\n",
        "# Define the number of shares for each stock in the portfolio\n",
        "num_shares = 100  # Example: 100 shares of each stock\n",
        "\n",
        "# Calculate the initial portfolio value (sum of all stocks)\n",
        "initial_value = (data.iloc[-1] * num_shares).sum()\n",
        "\n",
        "# Define a stress scenario (30% market crash)\n",
        "stress_scenario = -0.30\n",
        "\n",
        "# Calculate potential impact on the portfolio\n",
        "stress_value = initial_value * (1 + stress_scenario)\n",
        "potential_loss = initial_value - stress_value\n",
        "\n",
        "print(f\"Initial Portfolio Value: ${initial_value:.2f}\")\n",
        "print(f\"Portfolio Value After Stress Scenario: ${stress_value:.2f}\")\n",
        "print(f\"Potential Loss: ${potential_loss:.2f}\")\n",
        "\n",
        "# Visualize the impact\n",
        "plt.figure(figsize=(10, 5))\n",
        "plt.bar(['Initial Value', 'Stress Value'], [initial_value, stress_value], color=['blue', 'red'])\n",
        "plt.xlabel('Scenario')\n",
        "plt.ylabel('Portfolio Value')\n",
        "plt.title('Impact of Market Crash on Portfolio Value (Portfolio)')\n",
        "plt.grid(True)\n",
        "plt.show()\n"
      ]
    },
    {
      "cell_type": "markdown",
      "metadata": {
        "id": "GPgRXbbg4Rsk"
      },
      "source": [
        "### Explanation of Stress Test Result\n",
        "\n",
        "In this analysis, we simulated a 30% market crash scenario and evaluated its impact on a diversified portfolio.\n",
        "\n",
        "- **Initial Portfolio Value:** The portfolio's value before the market crash was \\$66,044.83.\n",
        "- **Portfolio Value After Stress Scenario:** After the market crash, the portfolio's value dropped to \\$46,231.38.\n",
        "- **Potential Loss:** The portfolio would incur a loss of \\$19,813.45 in this scenario.\n",
        "\n",
        "The bar chart visually represents the comparison between the initial portfolio value and the value after the stress scenario, highlighting the significant potential loss in the event of a severe market downturn. This result emphasizes the importance of risk management and diversification in portfolio management.\n"
      ]
    }
  ],
  "metadata": {
    "kernelspec": {
      "display_name": "Python 3",
      "language": "python",
      "name": "python3"
    },
    "language_info": {
      "codemirror_mode": {
        "name": "ipython",
        "version": 3
      },
      "file_extension": ".py",
      "mimetype": "text/x-python",
      "name": "python",
      "nbconvert_exporter": "python",
      "pygments_lexer": "ipython3",
      "version": "3.10.1"
    },
    "colab": {
      "provenance": [],
      "include_colab_link": true
    }
  },
  "nbformat": 4,
  "nbformat_minor": 0
}