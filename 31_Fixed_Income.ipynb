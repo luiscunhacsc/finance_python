{
 "cells": [
  {
   "cell_type": "markdown",
   "metadata": {},
   "source": [
    "#### **Valuation of Fixed Income Securities**\n",
    "\n",
    "**Present Value**: The value of future cash flows discounted at the required rate of return.\n",
    "\n",
    "**Yield to Maturity (YTM)**: The internal rate of return earned by an investor who buys the bond today and holds it until maturity.\n",
    "\n",
    "**Bond Pricing Formula**:\n",
    "\n",
    "$$\n",
    "P = \\sum_{t=1}^{n} \\frac{C}{(1 + r)^t} + \\frac{F}{(1 + r)^n}\n",
    "$$\n",
    "\n",
    "- $P$: Price of the bond\n",
    "- $C$: Periodic coupon payment\n",
    "- $r$: Discount rate (YTM)\n",
    "- $F$: Face value of the bond\n",
    "- $n$: Number of periods\n"
   ]
  },
  {
   "cell_type": "code",
   "execution_count": 1,
   "metadata": {},
   "outputs": [
    {
     "name": "stdout",
     "output_type": "stream",
     "text": [
      "Bond Price: $1000.00\n"
     ]
    }
   ],
   "source": [
    "# Example data\n",
    "coupon_payment = 50  # Periodic coupon payment\n",
    "face_value = 1000    # Face value of the bond\n",
    "ytm = 0.05           # Yield to maturity (5%)\n",
    "periods = 10         # Number of periods\n",
    "\n",
    "# Calculate bond price\n",
    "bond_price = sum([coupon_payment / (1 + ytm)**t for t in range(1, periods + 1)]) + face_value / (1 + ytm)**periods\n",
    "print(f\"Bond Price: ${bond_price:.2f}\")\n"
   ]
  },
  {
   "cell_type": "markdown",
   "metadata": {},
   "source": [
    "#### **Duration and Convexity**\n",
    "\n",
    "**Duration**: Measures the sensitivity of a bond's price to changes in interest rates.\n",
    "\n",
    "- **Modified Duration**:\n",
    "\n",
    "$$\n",
    "D_{\\text{mod}} = \\frac{D}{1 + \\frac{r}{m}}\n",
    "$$\n",
    "\n",
    "  - $D$: Macaulay duration\n",
    "  - $r$: Yield to maturity\n",
    "  - $m$: Number of compounding periods per year\n",
    "\n",
    "**Convexity**: Measures the curvature of the price-yield relationship of a bond.\n",
    "\n",
    "- **Convexity Formula**:\n",
    "\n",
    "$$\n",
    "\\text{Convexity} = \\frac{\\sum_{t=1}^{n} \\frac{t(t+1)C}{(1+r)^{t+2}} + \\frac{n(n+1)F}{(1+r)^{n+2}}}{P}\n",
    "$$\n"
   ]
  },
  {
   "cell_type": "code",
   "execution_count": 2,
   "metadata": {},
   "outputs": [
    {
     "name": "stdout",
     "output_type": "stream",
     "text": [
      "Modified Duration: 4.9320\n",
      "Convexity: 35.6023\n"
     ]
    }
   ],
   "source": [
    "# Example data\n",
    "coupon_payment = 50\n",
    "face_value = 1000\n",
    "ytm = 0.05\n",
    "periods = 10\n",
    "m = 1  # Compounding periods per year\n",
    "\n",
    "# Calculate Macaulay duration\n",
    "cash_flows = [coupon_payment] * periods + [face_value]\n",
    "discount_factors = [(1 + ytm)**t for t in range(1, periods + 1)]\n",
    "present_values = [cf / df for cf, df in zip(cash_flows, discount_factors)]\n",
    "weighted_average = sum([(t + 1) * pv for t, pv in enumerate(present_values[:-1])] + [(periods + 1) * present_values[-1]])\n",
    "bond_price = sum(present_values)\n",
    "macaulay_duration = weighted_average / bond_price\n",
    "\n",
    "# Calculate modified duration\n",
    "modified_duration = macaulay_duration / (1 + ytm / m)\n",
    "print(f\"Modified Duration: {modified_duration:.4f}\")\n",
    "\n",
    "# Calculate convexity\n",
    "convexity = sum([(t + 1) * (t + 2) * pv / ((1 + ytm)**2) for t, pv in enumerate(present_values[:-1])] + [(periods * (periods + 1) * present_values[-1] / ((1 + ytm)**2))]) / bond_price\n",
    "print(f\"Convexity: {convexity:.4f}\")\n"
   ]
  },
  {
   "cell_type": "markdown",
   "metadata": {},
   "source": [
    "### Interpretation of Results\n",
    "\n",
    "The calculated values for **Modified Duration** and **Convexity** provide insights into the sensitivity of the bond's price to changes in interest rates:\n",
    "\n",
    "1. **Modified Duration**: \n",
    "   - The modified duration value of **4.9320** indicates that for every 1% change in interest rates, the price of the bond is expected to change by approximately 4.9320% in the opposite direction. \n",
    "   - A higher duration means the bond is more sensitive to interest rate changes, and thus, it carries more interest rate risk.\n",
    "\n",
    "2. **Convexity**:\n",
    "   - The convexity value of **35.6023** shows the degree to which the duration of the bond changes as interest rates change.\n",
    "   - Positive convexity implies that as interest rates decrease, the bond price increases at an increasing rate, and as interest rates increase, the bond price decreases at a decreasing rate.\n",
    "   - Convexity is an important measure to assess the bond’s price volatility beyond what is captured by duration alone.\n",
    "\n",
    "These metrics are crucial for fixed-income investors to evaluate the risk and potential price volatility of bonds in response to interest rate fluctuations.\n"
   ]
  },
  {
   "cell_type": "markdown",
   "metadata": {},
   "source": [
    "#### **Analysis of Fixed Income Securities**\n",
    "\n",
    "**Credit Risk**: The risk that the bond issuer will default on interest or principal payments.\n",
    "\n",
    "**Interest Rate Risk**: The risk that changes in interest rates will affect bond prices.\n",
    "\n",
    "**Inflation Risk**: The risk that inflation will erode the purchasing power of bond payments.\n",
    "\n",
    "**Reinvestment Risk**: The risk that cash flows from a bond will be reinvested at lower rates.\n"
   ]
  },
  {
   "cell_type": "code",
   "execution_count": 3,
   "metadata": {},
   "outputs": [
    {
     "name": "stdout",
     "output_type": "stream",
     "text": [
      "Note: you may need to restart the kernel to use updated packages.\n"
     ]
    },
    {
     "name": "stderr",
     "output_type": "stream",
     "text": [
      "WARNING: Ignoring invalid distribution -rotobuf (c:\\python\\lib\\site-packages)\n",
      "WARNING: Ignoring invalid distribution -rotobuf (c:\\python\\lib\\site-packages)\n",
      "\n",
      "[notice] A new release of pip is available: 23.1.2 -> 24.2\n",
      "[notice] To update, run: python.exe -m pip install --upgrade pip\n"
     ]
    }
   ],
   "source": [
    "%pip install -q yfinance"
   ]
  },
  {
   "cell_type": "code",
   "execution_count": 7,
   "metadata": {},
   "outputs": [
    {
     "name": "stdout",
     "output_type": "stream",
     "text": [
      "Debt-to-Equity Ratio: 1.87\n",
      "Interest Coverage Ratio: 24.35\n",
      "Current Ratio: 1.36\n"
     ]
    }
   ],
   "source": [
    "import yfinance as yf\n",
    "\n",
    "# Example data: Bond issuer's stock ticker\n",
    "issuer_ticker = 'AAPL'\n",
    "\n",
    "# Fetch financial data\n",
    "issuer_data = yf.Ticker(issuer_ticker)\n",
    "balance_sheet = issuer_data.balance_sheet.T  # Transpose the DataFrame\n",
    "income_statement = issuer_data.financials.T  # Transpose the DataFrame\n",
    "cash_flow_statement = issuer_data.cashflow.T  # Transpose the DataFrame\n",
    "\n",
    "# Ensure that the necessary fields exist, excluding the 2019-09-30 period\n",
    "total_debt = balance_sheet.get('Total Debt').dropna()\n",
    "stockholders_equity = balance_sheet.get('Stockholders Equity').dropna()\n",
    "current_assets = balance_sheet.get('Current Assets').dropna()\n",
    "current_liabilities = balance_sheet.get('Current Liabilities').dropna()\n",
    "ebit = income_statement.get('EBIT').dropna()\n",
    "interest_expense = income_statement.get('Interest Expense').dropna()\n",
    "\n",
    "# Key financial ratios with NaN handling, excluding periods with missing data\n",
    "debt_to_equity = total_debt / stockholders_equity if not total_debt.empty and not stockholders_equity.empty else None\n",
    "interest_coverage = ebit / interest_expense if not ebit.empty and not interest_expense.empty else None\n",
    "current_ratio = current_assets / current_liabilities if not current_assets.empty and not current_liabilities.empty else None\n",
    "\n",
    "# Print financial ratios (using the latest available data)\n",
    "print(f\"Debt-to-Equity Ratio: {debt_to_equity[-1]:.2f}\" if debt_to_equity is not None else \"Debt-to-Equity Ratio: Data Unavailable\")\n",
    "print(f\"Interest Coverage Ratio: {interest_coverage[-1]:.2f}\" if interest_coverage is not None else \"Interest Coverage Ratio: Data Unavailable\")\n",
    "print(f\"Current Ratio: {current_ratio[-1]:.2f}\" if current_ratio is not None else \"Current Ratio: Data Unavailable\")\n"
   ]
  },
  {
   "cell_type": "markdown",
   "metadata": {},
   "source": [
    "### Interpretation of Financial Ratios\n",
    "\n",
    "The financial ratios calculated provide key insights into the financial health and risk profile of the bond issuer (in this case, Apple Inc.):\n",
    "\n",
    "1. **Debt-to-Equity Ratio**: \n",
    "   - The calculated Debt-to-Equity Ratio is **1.87**, indicating that the company has $1.87 in debt for every $1 of equity. \n",
    "   - This ratio suggests a relatively high level of leverage, meaning the company relies significantly on debt financing. Investors should consider this ratio in the context of the industry average and the company's ability to service its debt.\n",
    "\n",
    "2. **Interest Coverage Ratio**:\n",
    "   - The Interest Coverage Ratio is **24.35**, which means that the company earns 24.35 times its interest obligations from its operating earnings (EBIT).\n",
    "   - A high interest coverage ratio indicates that the company is easily able to meet its interest payments, which is a positive sign for bondholders concerned with the issuer's ability to meet its debt obligations.\n",
    "\n",
    "3. **Current Ratio**:\n",
    "   - The Current Ratio is **1.36**, indicating that the company has $1.36 in current assets for every $1 of current liabilities.\n",
    "   - A Current Ratio above 1 suggests that the company has a good level of liquidity, meaning it can cover its short-term obligations with its short-term assets. This is a healthy liquidity position, reducing the risk for bondholders.\n",
    "\n",
    "These ratios provide a snapshot of the company’s financial stability and ability to meet its debt obligations, which are crucial factors for assessing the risk associated with the bond.\n"
   ]
  }
 ],
 "metadata": {
  "kernelspec": {
   "display_name": "Python 3",
   "language": "python",
   "name": "python3"
  },
  "language_info": {
   "codemirror_mode": {
    "name": "ipython",
    "version": 3
   },
   "file_extension": ".py",
   "mimetype": "text/x-python",
   "name": "python",
   "nbconvert_exporter": "python",
   "pygments_lexer": "ipython3",
   "version": "3.10.1"
  }
 },
 "nbformat": 4,
 "nbformat_minor": 2
}
