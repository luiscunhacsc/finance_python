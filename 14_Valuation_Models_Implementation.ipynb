{
  "cells": [
    {
      "cell_type": "markdown",
      "metadata": {
        "id": "view-in-github",
        "colab_type": "text"
      },
      "source": [
        "<a href=\"https://colab.research.google.com/github/luiscunhacsc/finance_python/blob/main/14_Valuation_Models_Implementation.ipynb\" target=\"_parent\"><img src=\"https://colab.research.google.com/assets/colab-badge.svg\" alt=\"Open In Colab\"/></a>"
      ]
    },
    {
      "cell_type": "markdown",
      "metadata": {
        "id": "k8og4zdo6wkD"
      },
      "source": [
        "# **Introduction to Valuation Models Implementation**\n",
        "\n",
        "**Purpose:** Implement and visualize valuation models using Python.\n",
        "\n",
        "**Models Covered:** Dividend Discount Models (DDM), Free Cash Flow (FCF) Valuation, and Relative Valuation.\n",
        "\n",
        "**Importance:** Enhances understanding and application of valuation techniques.\n"
      ]
    },
    {
      "cell_type": "code",
      "execution_count": null,
      "metadata": {
        "id": "rzv57vpG6wkE",
        "outputId": "4e803ba5-d3f7-4ba7-805e-1553f7b2a3e9"
      },
      "outputs": [
        {
          "name": "stdout",
          "output_type": "stream",
          "text": [
            "Note: you may need to restart the kernel to use updated packages.\n"
          ]
        },
        {
          "name": "stderr",
          "output_type": "stream",
          "text": [
            "WARNING: Ignoring invalid distribution -rotobuf (c:\\python\\lib\\site-packages)\n",
            "WARNING: Ignoring invalid distribution -rotobuf (c:\\python\\lib\\site-packages)\n",
            "\n",
            "[notice] A new release of pip is available: 23.1.2 -> 24.2\n",
            "[notice] To update, run: python.exe -m pip install --upgrade pip\n"
          ]
        }
      ],
      "source": [
        "# Install necessary libraries if not already installed\n",
        "%pip install -q pandas numpy matplotlib yfinance"
      ]
    },
    {
      "cell_type": "code",
      "execution_count": null,
      "metadata": {
        "id": "z2RV8pqK6wkF"
      },
      "outputs": [],
      "source": [
        "# Import Libraries\n",
        "import pandas as pd\n",
        "import numpy as np\n",
        "import matplotlib.pyplot as plt\n",
        "import yfinance as yf\n"
      ]
    },
    {
      "cell_type": "markdown",
      "metadata": {
        "id": "uiyHWgTa6wkF"
      },
      "source": [
        "## **Dividend Discount Model (DDM) Implementation**\n",
        "\n",
        "**Scenario:** Implement the Constant Growth DDM.\n",
        "\n",
        "**Steps:** 1. Define the DDM function. 2. Input the expected dividend, required return, and growth rate. 3. Calculate and visualize the stock price.\n",
        "\n",
        "**Example Code:**"
      ]
    },
    {
      "cell_type": "code",
      "execution_count": null,
      "metadata": {
        "id": "JnvZNpd66wkG",
        "outputId": "8bc742e7-27c7-4500-8320-86eaf7d6b0fc"
      },
      "outputs": [
        {
          "name": "stdout",
          "output_type": "stream",
          "text": [
            "Stock Price (DDM): $50.00\n"
          ]
        },
        {
          "data": {
            "image/png": "[encoded data removed]",
            "text/plain": [
              "<Figure size 432x288 with 1 Axes>"
            ]
          },
          "metadata": {
            "needs_background": "light"
          },
          "output_type": "display_data"
        }
      ],
      "source": [
        "# DDM Function\n",
        "def ddm_valuation(expected_dividend, required_return, growth_rate):\n",
        "    return expected_dividend / (required_return - growth_rate)\n",
        "\n",
        "# Example Data\n",
        "expected_dividend = 3\n",
        "required_return = 0.10\n",
        "growth_rate = 0.04\n",
        "\n",
        "# FCF Valuation Function\n",
        "def fcf_valuation(fcf, discount_rate, terminal_growth_rate):\n",
        "    pv_fcf = sum([cf / (1 + discount_rate) ** t for t, cf in enumerate(fcf, start=1)])\n",
        "    terminal_value = fcf[-1] * (1 + terminal_growth_rate) / (discount_rate - terminal_growth_rate)\n",
        "    pv_terminal_value = terminal_value / (1 + discount_rate) ** len(fcf)\n",
        "    return pv_fcf + pv_terminal_value\n",
        "\n",
        "# Example Data\n",
        "fcf_projections = [10000, 12000, 14000, 16000, 18000]\n",
        "discount_rate = 0.08\n",
        "terminal_growth_rate = 0.03\n",
        "\n",
        "\n",
        "# Calculate Stock Price\n",
        "stock_price = ddm_valuation(expected_dividend, required_return, growth_rate)\n",
        "print(f\"Stock Price (DDM): ${stock_price:.2f}\")\n",
        "\n",
        "# Visualization\n",
        "years = np.arange(1, 21)\n",
        "dividends = [expected_dividend * (1 + growth_rate) ** year for year in years]\n",
        "plt.plot(years, dividends, label='Dividends')\n",
        "plt.xlabel('Years')\n",
        "plt.ylabel('Dividends ($)')\n",
        "plt.title('Projected Dividends Over Time')\n",
        "plt.legend()\n",
        "plt.grid(True)\n",
        "plt.show()\n"
      ]
    },
    {
      "cell_type": "markdown",
      "metadata": {
        "id": "vtLxX0Hu6wkG"
      },
      "source": [
        "## **Free Cash Flow (FCF) Valuation Implementation**\n",
        "\n",
        "**Scenario:** Implement the FCF Valuation model.\n",
        "\n",
        "**Steps:**\n",
        "1. Define the FCF valuation function.\n",
        "2. Input projected free cash flows, discount rate, and terminal growth rate.\n",
        "3. Calculate and visualize the company value.\n",
        "\n",
        "**Example Code:**\n"
      ]
    },
    {
      "cell_type": "code",
      "execution_count": null,
      "metadata": {
        "id": "YVXvZHWC6wkG",
        "outputId": "5446b068-80b4-4f3c-9a7c-d6dc0533dbf9"
      },
      "outputs": [
        {
          "name": "stdout",
          "output_type": "stream",
          "text": [
            "Company Value: $307032.20\n"
          ]
        },
        {
          "data": {
            "image/png": "[encoded data removed]",
            "text/plain": [
              "<Figure size 432x288 with 1 Axes>"
            ]
          },
          "metadata": {
            "needs_background": "light"
          },
          "output_type": "display_data"
        }
      ],
      "source": [
        "# FCF Valuation Function\n",
        "def fcf_valuation(fcf, discount_rate, terminal_growth_rate):\n",
        "    pv_fcf = sum([cf / (1 + discount_rate) ** t for t, cf in enumerate(fcf, start=1)])\n",
        "    terminal_value = fcf[-1] * (1 + terminal_growth_rate) / (discount_rate - terminal_growth_rate)\n",
        "    pv_terminal_value = terminal_value / (1 + discount_rate) ** len(fcf)\n",
        "    return pv_fcf + pv_terminal_value\n",
        "\n",
        "# Example Data\n",
        "fcf_projections = [10000, 12000, 14000, 16000, 18000]\n",
        "discount_rate = 0.08\n",
        "terminal_growth_rate = 0.03\n",
        "\n",
        "# Calculate Company Value\n",
        "company_value = fcf_valuation(fcf_projections, discount_rate, terminal_growth_rate)\n",
        "print(f\"Company Value: ${company_value:.2f}\")\n",
        "\n",
        "# Visualization\n",
        "years = np.arange(1, len(fcf_projections) + 1)\n",
        "plt.plot(years, fcf_projections, label='Projected Free Cash Flows')\n",
        "plt.xlabel('Years')\n",
        "plt.ylabel('Free Cash Flow ($)')\n",
        "plt.title('Projected Free Cash Flows Over Time')\n",
        "plt.legend()\n",
        "plt.grid(True)\n",
        "plt.show()\n"
      ]
    },
    {
      "cell_type": "markdown",
      "metadata": {
        "id": "UX2jTyF66wkH"
      },
      "source": [
        "## **Relative Valuation Implementation**\n",
        "\n",
        "**Scenario:** Perform relative valuation using P/E, P/B, P/S, and EV/EBITDA ratios.\n",
        "\n",
        "**Steps:** 1. Gather financial data for a set of companies. 2. Calculate valuation ratios. 3. Compare ratios to industry averages or peers.\n",
        "\n",
        "**Example Code:**\n"
      ]
    },
    {
      "cell_type": "code",
      "execution_count": null,
      "metadata": {
        "id": "Mwwqi9CU6wkH",
        "outputId": "f0a6daad-b394-4b0a-9e4e-575d919c33fe"
      },
      "outputs": [
        {
          "name": "stdout",
          "output_type": "stream",
          "text": [
            "  Company  P/E Ratio  P/B Ratio  P/S Ratio  EV/EBITDA Ratio\n",
            "0       A       10.0   1.250000   2.500000              6.0\n",
            "1       B       10.0   1.333333   2.666667              6.0\n",
            "2       C       12.0   1.200000   2.400000              6.5\n"
          ]
        },
        {
          "data": {
            "image/png": "[encoded data removed]",
            "text/plain": [
              "<Figure size 432x288 with 1 Axes>"
            ]
          },
          "metadata": {
            "needs_background": "light"
          },
          "output_type": "display_data"
        }
      ],
      "source": [
        "# Example Data\n",
        "data = {\n",
        "    'Company': ['A', 'B', 'C'],\n",
        "    'Market Price per Share': [50, 80, 120],\n",
        "    'EPS': [5, 8, 10],\n",
        "    'Book Value per Share': [40, 60, 100],\n",
        "    'Market Capitalization': [500000000, 800000000, 1200000000],\n",
        "    'Total Sales': [200000000, 300000000, 500000000],\n",
        "    'Enterprise Value': [600000000, 900000000, 1300000000],\n",
        "    'EBITDA': [100000000, 150000000, 200000000]\n",
        "}\n",
        "\n",
        "# Create DataFrame\n",
        "df = pd.DataFrame(data)\n",
        "\n",
        "# Calculate Ratios\n",
        "df['P/E Ratio'] = df['Market Price per Share'] / df['EPS']\n",
        "df['P/B Ratio'] = df['Market Price per Share'] / df['Book Value per Share']\n",
        "df['P/S Ratio'] = df['Market Capitalization'] / df['Total Sales']\n",
        "df['EV/EBITDA Ratio'] = df['Enterprise Value'] / df['EBITDA']\n",
        "\n",
        "# Display Results\n",
        "print(df[['Company', 'P/E Ratio', 'P/B Ratio', 'P/S Ratio', 'EV/EBITDA Ratio']])\n",
        "\n",
        "# Visualization\n",
        "df.set_index('Company')[['P/E Ratio', 'P/B Ratio', 'P/S Ratio', 'EV/EBITDA Ratio']].plot(kind='bar')\n",
        "plt.title('Relative Valuation Metrics')\n",
        "plt.xlabel('Company')\n",
        "plt.ylabel('Ratio')\n",
        "plt.legend()\n",
        "plt.grid(True)\n",
        "plt.show()\n"
      ]
    },
    {
      "cell_type": "markdown",
      "metadata": {
        "id": "qPCyKESw6wkI"
      },
      "source": [
        "## **Comprehensive Example**\n",
        "\n",
        "**Scenario:** Use multiple valuation models to valuate a single company.\n",
        "\n",
        "**Steps:** 1. Implement DDM, FCF, and relative valuation models. 2. Compare results from different models. 3. Visualize and interpret the combined valuation.\n",
        "\n",
        "**Example Code:**\n"
      ]
    },
    {
      "cell_type": "code",
      "execution_count": null,
      "metadata": {
        "id": "VnH0lg6X6wkI",
        "outputId": "83ea6bea-6215-4b5b-d423-34635fc48c89"
      },
      "outputs": [
        {
          "name": "stdout",
          "output_type": "stream",
          "text": [
            "  Valuation Model          Value\n",
            "0             DDM      50.000000\n",
            "1             FCF  307032.201129\n",
            "2             P/E      10.000000\n",
            "3             P/B       1.250000\n",
            "4             P/S       2.500000\n",
            "5       EV/EBITDA       6.000000\n"
          ]
        },
        {
          "data": {
            "image/png": "[encoded data removed]",
            "text/plain": [
              "<Figure size 432x288 with 1 Axes>"
            ]
          },
          "metadata": {
            "needs_background": "light"
          },
          "output_type": "display_data"
        }
      ],
      "source": [
        "# DDM Valuation\n",
        "ddm_price = ddm_valuation(expected_dividend=3, required_return=0.10, growth_rate=0.04)\n",
        "\n",
        "# FCF Valuation\n",
        "fcf_price = fcf_valuation(fcf=[10000, 12000, 14000, 16000, 18000], discount_rate=0.08, terminal_growth_rate=0.03)\n",
        "\n",
        "# Relative Valuation\n",
        "relative_valuation_data = {\n",
        "    'Company': ['A'],\n",
        "    'Market Price per Share': [50],\n",
        "    'EPS': [5],\n",
        "    'Book Value per Share': [40],\n",
        "    'Market Capitalization': [500000000],\n",
        "    'Total Sales': [200000000],\n",
        "    'Enterprise Value': [600000000],\n",
        "    'EBITDA': [100000000]\n",
        "}\n",
        "df_relative = pd.DataFrame(relative_valuation_data)\n",
        "df_relative['P/E Ratio'] = df_relative['Market Price per Share'] / df_relative['EPS']\n",
        "df_relative['P/B Ratio'] = df_relative['Market Price per Share'] / df_relative['Book Value per Share']\n",
        "df_relative['P/S Ratio'] = df_relative['Market Capitalization'] / df_relative['Total Sales']\n",
        "df_relative['EV/EBITDA Ratio'] = df_relative['Enterprise Value'] / df_relative['EBITDA']\n",
        "\n",
        "# Display combined results\n",
        "combined_results = {\n",
        "    'Valuation Model': ['DDM', 'FCF', 'P/E', 'P/B', 'P/S', 'EV/EBITDA'],\n",
        "    'Value': [ddm_price, fcf_price, df_relative['P/E Ratio'][0], df_relative['P/B Ratio'][0], df_relative['P/S Ratio'][0], df_relative['EV/EBITDA Ratio'][0]]\n",
        "}\n",
        "df_combined = pd.DataFrame(combined_results)\n",
        "\n",
        "print(df_combined)\n",
        "\n",
        "# Visualization\n",
        "df_combined.set_index('Valuation Model').plot(kind='bar')\n",
        "plt.title('Combined Valuation Models')\n",
        "plt.xlabel('Valuation Model')\n",
        "plt.ylabel('Value')\n",
        "plt.grid(True)\n",
        "plt.show()\n"
      ]
    },
    {
      "cell_type": "markdown",
      "metadata": {
        "id": "4frOrnte6wkJ"
      },
      "source": [
        "## **Summary**\n",
        "\n",
        "**Valuation Models:** Implement DDM, FCF, and relative valuation using Python.\n",
        "\n",
        "**Steps:** Define functions, input data, calculate values, and visualize results.\n",
        "\n",
        "**Comparison:** Use multiple models to get a comprehensive view of valuation.\n"
      ]
    }
  ],
  "metadata": {
    "kernelspec": {
      "display_name": "Python 3",
      "language": "python",
      "name": "python3"
    },
    "language_info": {
      "codemirror_mode": {
        "name": "ipython",
        "version": 3
      },
      "file_extension": ".py",
      "mimetype": "text/x-python",
      "name": "python",
      "nbconvert_exporter": "python",
      "pygments_lexer": "ipython3",
      "version": "3.10.1"
    },
    "colab": {
      "provenance": [],
      "include_colab_link": true
    }
  },
  "nbformat": 4,
  "nbformat_minor": 0
}