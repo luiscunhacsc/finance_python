{
  "cells": [
    {
      "cell_type": "markdown",
      "metadata": {
        "id": "view-in-github",
        "colab_type": "text"
      },
      "source": [
        "<a href=\"https://colab.research.google.com/github/luiscunhacsc/finance_python/blob/main/29_Factor-based_Performance_Attribution.ipynb\" target=\"_parent\"><img src=\"https://colab.research.google.com/assets/colab-badge.svg\" alt=\"Open In Colab\"/></a>"
      ]
    },
    {
      "cell_type": "markdown",
      "metadata": {
        "id": "avb0B3Sh9Iww"
      },
      "source": [
        "## Factor-Based Performance Attribution\n",
        "\n",
        "Factor-based performance attribution seeks to explain portfolio performance by examining the influence of common risk factors. These factors typically include size, value, momentum, and market risk.\n",
        "\n",
        "### Purpose\n",
        "The goal is to break down the sources of a portfolio's returns into contributions from these common risk factors and an unexplained portion (alpha).\n",
        "\n",
        "### Common Factors\n",
        "- **Size**: Measures the impact of investing in small vs. large companies.\n",
        "- **Value**: Distinguishes between value and growth stocks.\n",
        "- **Momentum**: Reflects the tendency for stocks that have performed well in the past to continue performing well.\n",
        "- **Market Risk**: Captures the portfolio's sensitivity to overall market movements.\n",
        "\n",
        "### Model Example\n",
        "A typical factor model might look like this:\n",
        "\n",
        "$$\n",
        "R_p = \\alpha + \\beta_1 \\text{Size} + \\beta_2 \\text{Value} + \\beta_3 \\text{Momentum} + \\epsilon\n",
        "$$\n",
        "\n",
        "Where:\n",
        "- $R_p$ is the portfolio return,\n",
        "- $\\alpha$ represents the alpha, or unexplained return,\n",
        "- $\\beta_1, \\beta_2, \\beta_3$ are the factor loadings,\n",
        "- $\\epsilon$ is the residual term.\n"
      ]
    },
    {
      "cell_type": "markdown",
      "metadata": {
        "id": "ovekEZax9Iwx"
      },
      "source": [
        "### Example Data\n",
        "\n",
        "Here, we have a matrix of factor returns representing the performance of three factors (Size, Value, Momentum) over five periods. The `portfolio_returns` array represents the portfolio's returns over these same periods.\n",
        "\n",
        "We will use these data to estimate the portfolio's exposures to these factors (i.e., the betas) and the unexplained component (alpha).\n"
      ]
    },
    {
      "cell_type": "code",
      "execution_count": null,
      "metadata": {
        "id": "q1UFG9aX9Iwy",
        "outputId": "72ca5a94-13cf-49e9-c624-f8d841bd1559"
      },
      "outputs": [
        {
          "name": "stdout",
          "output_type": "stream",
          "text": [
            "Note: you may need to restart the kernel to use updated packages.\n"
          ]
        },
        {
          "name": "stderr",
          "output_type": "stream",
          "text": [
            "WARNING: Ignoring invalid distribution -rotobuf (c:\\python\\lib\\site-packages)\n",
            "WARNING: Ignoring invalid distribution -rotobuf (c:\\python\\lib\\site-packages)\n",
            "\n",
            "[notice] A new release of pip is available: 23.1.2 -> 24.2\n",
            "[notice] To update, run: python.exe -m pip install --upgrade pip\n"
          ]
        }
      ],
      "source": [
        "%pip install -q numpy statsmodels"
      ]
    },
    {
      "cell_type": "code",
      "execution_count": null,
      "metadata": {
        "id": "D-UVYgVR9Iwy"
      },
      "outputs": [],
      "source": [
        "import numpy as np\n",
        "import statsmodels.api as sm\n",
        "\n",
        "# Example data\n",
        "factors = np.array([\n",
        "    [0.02, 0.03, 0.01],  # Size, Value, Momentum factors\n",
        "    [0.01, 0.02, 0.00],\n",
        "    [0.03, 0.01, 0.02],\n",
        "    [0.04, 0.03, 0.01],\n",
        "    [0.02, 0.02, 0.03]\n",
        "])\n",
        "\n",
        "portfolio_returns = np.array([0.10, 0.12, 0.08, 0.14, 0.11])\n"
      ]
    },
    {
      "cell_type": "markdown",
      "metadata": {
        "id": "v1NB3rTm9Iwz"
      },
      "source": [
        "### Regression Results\n",
        "\n",
        "The regression output provides estimates for the intercept (alpha) and the betas for each factor. The intercept represents the alpha, which is the portion of the portfolio's return not explained by the factors.\n",
        "\n",
        "Key outputs include:\n",
        "- **Alpha**: The constant term in the regression, indicating the unexplained return.\n",
        "- **Betas**: The coefficients for each factor, representing the sensitivity of the portfolio returns to each factor.\n",
        "\n",
        "Let's extract these values for further interpretation.\n"
      ]
    },
    {
      "cell_type": "code",
      "execution_count": null,
      "metadata": {
        "id": "gIhB0pKJ9Iwz",
        "outputId": "24915d1c-74f0-4a3b-d20c-a03a156f4dbe"
      },
      "outputs": [
        {
          "name": "stdout",
          "output_type": "stream",
          "text": [
            "                            OLS Regression Results                            \n",
            "==============================================================================\n",
            "Dep. Variable:                      y   R-squared:                       0.494\n",
            "Model:                            OLS   Adj. R-squared:                 -1.025\n",
            "Method:                 Least Squares   F-statistic:                    0.3251\n",
            "Date:                Sun, 18 Aug 2024   Prob (F-statistic):              0.822\n",
            "Time:                        22:28:07   Log-Likelihood:                 14.167\n",
            "No. Observations:                   5   AIC:                            -20.33\n",
            "Df Residuals:                       1   BIC:                            -21.90\n",
            "Df Model:                           3                                         \n",
            "Covariance Type:            nonrobust                                         \n",
            "==============================================================================\n",
            "                 coef    std err          t      P>|t|      [0.025      0.975]\n",
            "------------------------------------------------------------------------------\n",
            "const          0.0756      0.060      1.256      0.428      -0.689       0.841\n",
            "x1             0.3125      1.488      0.210      0.868     -18.597      19.222\n",
            "x2             1.5000      2.121      0.707      0.608     -25.454      28.454\n",
            "x3            -0.4375      1.580     -0.277      0.828     -20.512      19.637\n",
            "==============================================================================\n",
            "Omnibus:                          nan   Durbin-Watson:                   2.125\n",
            "Prob(Omnibus):                    nan   Jarque-Bera (JB):                0.723\n",
            "Skew:                          -0.593   Prob(JB):                        0.696\n",
            "Kurtosis:                       1.563   Cond. No.                         166.\n",
            "==============================================================================\n",
            "\n",
            "Notes:\n",
            "[1] Standard Errors assume that the covariance matrix of the errors is correctly specified.\n"
          ]
        },
        {
          "name": "stderr",
          "output_type": "stream",
          "text": [
            "c:\\python\\lib\\site-packages\\statsmodels\\stats\\stattools.py:74: ValueWarning: omni_normtest is not valid with less than 8 observations; 5 samples were given.\n",
            "  warn(\"omni_normtest is not valid with less than 8 observations; %i \"\n"
          ]
        }
      ],
      "source": [
        "# Add a constant to the factors matrix for the intercept\n",
        "factors_with_const = sm.add_constant(factors)\n",
        "\n",
        "# Perform regression analysis\n",
        "model = sm.OLS(portfolio_returns, factors_with_const).fit()\n",
        "\n",
        "# Display regression results\n",
        "print(model.summary())\n"
      ]
    },
    {
      "cell_type": "code",
      "execution_count": null,
      "metadata": {
        "id": "t27SNJtP9Iwz",
        "outputId": "43fec796-1277-43a0-e55c-749021228ff6"
      },
      "outputs": [
        {
          "name": "stdout",
          "output_type": "stream",
          "text": [
            "Alpha: 0.0756\n",
            "Betas: [ 0.3125  1.5    -0.4375]\n"
          ]
        }
      ],
      "source": [
        "# Extract factor exposures (betas) and alpha\n",
        "alpha = model.params[0]\n",
        "betas = model.params[1:]\n",
        "\n",
        "print(f\"Alpha: {alpha:.4f}\")\n",
        "print(f\"Betas: {betas}\")\n"
      ]
    },
    {
      "cell_type": "markdown",
      "metadata": {
        "id": "X5Wtdnaf9Iw0"
      },
      "source": [
        "### Interpretation of the Results\n",
        "\n",
        "- **Alpha**: A positive alpha suggests that the portfolio outperformed what would be expected based on the factor exposures. Conversely, a negative alpha indicates underperformance.\n",
        "- **Betas**: Each beta coefficient indicates how sensitive the portfolio returns are to the corresponding factor:\n",
        "  - **Size Beta**: A positive beta suggests that the portfolio tends to perform well when smaller companies outperform.\n",
        "  - **Value Beta**: A positive beta indicates a tilt towards value stocks.\n",
        "  - **Momentum Beta**: A positive beta indicates that the portfolio benefits from momentum strategies.\n",
        "\n",
        "These insights help in understanding the sources of portfolio performance and can guide future investment decisions.\n"
      ]
    }
  ],
  "metadata": {
    "kernelspec": {
      "display_name": "Python 3",
      "language": "python",
      "name": "python3"
    },
    "language_info": {
      "codemirror_mode": {
        "name": "ipython",
        "version": 3
      },
      "file_extension": ".py",
      "mimetype": "text/x-python",
      "name": "python",
      "nbconvert_exporter": "python",
      "pygments_lexer": "ipython3",
      "version": "3.10.1"
    },
    "colab": {
      "provenance": [],
      "include_colab_link": true
    }
  },
  "nbformat": 4,
  "nbformat_minor": 0
}