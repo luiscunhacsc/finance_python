{
  "nbformat": 4,
  "nbformat_minor": 0,
  "metadata": {
    "colab": {
      "provenance": [],
      "authorship_tag": "ABX9TyNEiwl03oXefU87aGb1cTHz",
      "include_colab_link": true
    },
    "kernelspec": {
      "name": "python3",
      "display_name": "Python 3"
    },
    "language_info": {
      "name": "python"
    }
  },
  "cells": [
    {
      "cell_type": "markdown",
      "metadata": {
        "id": "view-in-github",
        "colab_type": "text"
      },
      "source": [
        "<a href=\"https://colab.research.google.com/github/luiscunhacsc/finance_python/blob/main/06_NPV_Net_Present_Value.ipynb\" target=\"_parent\"><img src=\"https://colab.research.google.com/assets/colab-badge.svg\" alt=\"Open In Colab\"/></a>"
      ]
    },
    {
      "cell_type": "code",
      "execution_count": null,
      "metadata": {
        "id": "ATu8BzmkwyMZ"
      },
      "outputs": [],
      "source": [
        "import numpy as np\n",
        "\n",
        "# Given data\n",
        "initial_investment = -100000\n",
        "cash_flows = [30000, 30000, 30000, 30000, 30000]\n",
        "discount_rate = 0.08\n",
        "\n",
        "# Add initial investment to cash flows list\n",
        "cash_flows.insert(0, initial_investment)\n",
        "\n",
        "# Calculation\n",
        "npv = np.npv(discount_rate, cash_flows)\n",
        "\n",
        "print(f\"Net Present Value (NPV): ${npv:.2f}\")\n"
      ]
    }
  ]
}