{
  "nbformat": 4,
  "nbformat_minor": 0,
  "metadata": {
    "colab": {
      "provenance": [],
      "authorship_tag": "ABX9TyP8kbGM4LFeGEHxVyNEPEBy",
      "include_colab_link": true
    },
    "kernelspec": {
      "name": "python3",
      "display_name": "Python 3"
    },
    "language_info": {
      "name": "python"
    }
  },
  "cells": [
    {
      "cell_type": "markdown",
      "metadata": {
        "id": "view-in-github",
        "colab_type": "text"
      },
      "source": [
        "<a href=\"https://colab.research.google.com/github/luiscunhacsc/finance_python/blob/main/06_NPV_Net_Present_Value.ipynb\" target=\"_parent\"><img src=\"https://colab.research.google.com/assets/colab-badge.svg\" alt=\"Open In Colab\"/></a>"
      ]
    },
    {
      "cell_type": "code",
      "source": [
        "!pip install -q numpy-financial\n"
      ],
      "metadata": {
        "id": "p4exEIehxuyY"
      },
      "execution_count": 2,
      "outputs": []
    },
    {
      "cell_type": "code",
      "execution_count": 3,
      "metadata": {
        "colab": {
          "base_uri": "https://localhost:8080/"
        },
        "id": "ATu8BzmkwyMZ",
        "outputId": "2a33268d-0c3e-4f6d-9606-4a238dee9f43"
      },
      "outputs": [
        {
          "output_type": "stream",
          "name": "stdout",
          "text": [
            "Net Present Value (NPV): $19781.30\n"
          ]
        }
      ],
      "source": [
        "import numpy_financial as npf\n",
        "\n",
        "# Given data\n",
        "initial_investment = -100000\n",
        "cash_flows = [30000, 30000, 30000, 30000, 30000]\n",
        "discount_rate = 0.08\n",
        "\n",
        "# Add initial investment to cash flows list\n",
        "cash_flows.insert(0, initial_investment)\n",
        "\n",
        "# Calculation\n",
        "npv = npf.npv(discount_rate, cash_flows)\n",
        "\n",
        "print(f\"Net Present Value (NPV): ${npv:.2f}\")\n"
      ]
    }
  ]
}