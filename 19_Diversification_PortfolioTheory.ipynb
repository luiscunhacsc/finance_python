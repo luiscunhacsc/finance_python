{
  "cells": [
    {
      "cell_type": "markdown",
      "metadata": {
        "id": "view-in-github",
        "colab_type": "text"
      },
      "source": [
        "<a href=\"https://colab.research.google.com/github/luiscunhacsc/finance_python/blob/main/19_Diversification_PortfolioTheory.ipynb\" target=\"_parent\"><img src=\"https://colab.research.google.com/assets/colab-badge.svg\" alt=\"Open In Colab\"/></a>"
      ]
    },
    {
      "cell_type": "markdown",
      "metadata": {
        "id": "Ztlp3Fxh9pcc"
      },
      "source": [
        "# Introduction to Diversification and Portfolio Theory\n",
        "\n",
        "## Definition:\n",
        "- **Diversification**: Reducing risk by investing in a variety of assets.\n",
        "- **Portfolio Theory**: Framework for constructing a portfolio to maximize return for a given level of risk.\n",
        "\n",
        "## Purpose:\n",
        "- Minimize risk while achieving desired returns.\n",
        "\n",
        "## Importance:\n",
        "- Essential for effective risk management and optimal investment strategies.\n"
      ]
    },
    {
      "cell_type": "markdown",
      "metadata": {
        "id": "oR6jxqGS9pcd"
      },
      "source": [
        "# Benefits of Diversification\n",
        "\n",
        "## Risk Reduction:\n",
        "- Spreading investments across different assets reduces the impact of any single asset's poor performance.\n",
        "\n",
        "## Uncorrelated Assets:\n",
        "- Combining assets with low or negative correlations can lower portfolio risk.\n",
        "\n",
        "## Enhanced Returns:\n",
        "- Potential to achieve higher risk-adjusted returns.\n"
      ]
    },
    {
      "cell_type": "markdown",
      "metadata": {
        "id": "FgGFBaU49pcd"
      },
      "source": [
        "# Correlation and Diversification\n",
        "\n",
        "## Correlation Coefficient:\n",
        "Measures the relationship between two assets' returns.\n",
        "\n",
        "$$\n",
        "\\rho_{A,B} = \\frac{Cov(R_A, R_B)}{\\sigma_A \\sigma_B}\n",
        "$$\n",
        "\n",
        "## Interpretation:\n",
        "- $\\rho = 1$: Perfect positive correlation.\n",
        "- $\\rho = 0$: No correlation.\n",
        "- $\\rho = -1$: Perfect negative correlation.\n",
        "\n",
        "**Diversification**: More effective with low or negatively correlated assets.\n"
      ]
    },
    {
      "cell_type": "markdown",
      "metadata": {
        "id": "O14e3JmD9pce"
      },
      "source": [
        "# Practical Example: Calculating the Correlation Between Two Stocks' Returns\n"
      ]
    },
    {
      "cell_type": "code",
      "execution_count": null,
      "metadata": {
        "id": "E4c8ehRQ9pcp",
        "outputId": "bb1a49e9-c08a-45ea-b07e-13362aab0340"
      },
      "outputs": [
        {
          "name": "stderr",
          "output_type": "stream",
          "text": [
            "[*********************100%%**********************]  1 of 1 completed\n",
            "[*********************100%%**********************]  1 of 1 completed\n"
          ]
        },
        {
          "name": "stdout",
          "output_type": "stream",
          "text": [
            "Correlation between Apple (AAPL) and Microsoft (MSFT): 0.8114\n"
          ]
        },
        {
          "data": {
            "image/png": "[encoded data removed]",
            "text/plain": [
              "<Figure size 720x360 with 1 Axes>"
            ]
          },
          "metadata": {
            "needs_background": "light"
          },
          "output_type": "display_data"
        }
      ],
      "source": [
        "import pandas as pd\n",
        "import yfinance as yf\n",
        "import matplotlib.pyplot as plt\n",
        "\n",
        "# Download historical stock data for two example stocks (Apple and Microsoft)\n",
        "stock_A_data = yf.download('AAPL', start='2020-01-01', end='2023-01-01')\n",
        "stock_B_data = yf.download('MSFT', start='2020-01-01', end='2023-01-01')\n",
        "\n",
        "# Calculate daily returns\n",
        "returns_A = stock_A_data['Adj Close'].pct_change().dropna()\n",
        "returns_B = stock_B_data['Adj Close'].pct_change().dropna()\n",
        "\n",
        "# Compute the correlation coefficient\n",
        "correlation = returns_A.corr(returns_B)\n",
        "print(f\"Correlation between Apple (AAPL) and Microsoft (MSFT): {correlation:.4f}\")\n",
        "\n",
        "# Visualize the returns\n",
        "plt.figure(figsize=(10, 5))\n",
        "plt.scatter(returns_A, returns_B)\n",
        "plt.xlabel('Returns of Apple (AAPL)')\n",
        "plt.ylabel('Returns of Microsoft (MSFT)')\n",
        "plt.title('Scatter Plot of Returns')\n",
        "plt.grid(True)\n",
        "plt.show()\n"
      ]
    },
    {
      "cell_type": "markdown",
      "metadata": {
        "id": "hiRwSXPe9pcr"
      },
      "source": [
        "# Summary\n",
        "\n",
        "- **Diversification**: Essential for reducing risk and potentially enhancing returns.\n",
        "- **Correlation**: A key metric in understanding how diversification impacts portfolio risk.\n",
        "- **Portfolio Theory**: Helps in constructing an optimal portfolio that balances risk and return.\n"
      ]
    }
  ],
  "metadata": {
    "kernelspec": {
      "display_name": "Python 3",
      "language": "python",
      "name": "python3"
    },
    "language_info": {
      "codemirror_mode": {
        "name": "ipython",
        "version": 3
      },
      "file_extension": ".py",
      "mimetype": "text/x-python",
      "name": "python",
      "nbconvert_exporter": "python",
      "pygments_lexer": "ipython3",
      "version": "3.10.1"
    },
    "colab": {
      "provenance": [],
      "include_colab_link": true
    }
  },
  "nbformat": 4,
  "nbformat_minor": 0
}